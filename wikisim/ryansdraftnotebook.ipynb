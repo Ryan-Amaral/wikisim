{
 "cells": [
  {
   "cell_type": "code",
   "execution_count": 1,
   "metadata": {
    "collapsed": false
   },
   "outputs": [
    {
     "data": {
      "text/plain": [
       "((173129L, 1L),\n",
       " (436657L, 1L),\n",
       " (561291L, 1L),\n",
       " (619375L, 9L),\n",
       " (829828L, 2L),\n",
       " (1122016L, 33L),\n",
       " (1231628L, 7L),\n",
       " (1929746L, 5L),\n",
       " (2677658L, 1L),\n",
       " (2952280L, 17L),\n",
       " (3333421L, 4L),\n",
       " (3545769L, 3L),\n",
       " (3600798L, 1L),\n",
       " (4139463L, 7L),\n",
       " (5631711L, 1L),\n",
       " (5829200L, 37L),\n",
       " (5991011L, 4L),\n",
       " (6710844L, 7L),\n",
       " (7956284L, 4L),\n",
       " (8273746L, 3L),\n",
       " (8579043L, 13L),\n",
       " (10111613L, 2L),\n",
       " (10220560L, 1L),\n",
       " (11908540L, 1L),\n",
       " (11937084L, 1L),\n",
       " (12066052L, 3L),\n",
       " (12559739L, 7L),\n",
       " (17073430L, 2L),\n",
       " (18994196L, 1L),\n",
       " (19020847L, 3L),\n",
       " (25156814L, 2L),\n",
       " (26217848L, 1L),\n",
       " (26256152L, 2L),\n",
       " (28061309L, 5L),\n",
       " (29972030L, 25L),\n",
       " (31112163L, 2L),\n",
       " (32314734L, 1L),\n",
       " (33825268L, 3L),\n",
       " (33942076L, 3L),\n",
       " (34655850L, 6L),\n",
       " (36482433L, 4L),\n",
       " (40049488L, 2L),\n",
       " (42098234L, 3L),\n",
       " (43826902L, 6L),\n",
       " (47757964L, 2L),\n",
       " (48324759L, 53L),\n",
       " (48443879L, 1L))"
      ]
     },
     "execution_count": 1,
     "metadata": {},
     "output_type": "execute_result"
    }
   ],
   "source": [
    "from wikipedia import *\n",
    "from operator import itemgetter\n",
    "import requests\n",
    "anchor2concept('Hello')"
   ]
  },
  {
   "cell_type": "code",
   "execution_count": 2,
   "metadata": {
    "collapsed": false
   },
   "outputs": [
    {
     "data": {
      "text/plain": [
       "'Hello_(Adele_song)'"
      ]
     },
     "execution_count": 2,
     "metadata": {},
     "output_type": "execute_result"
    }
   ],
   "source": [
    "id2title(48324759L)"
   ]
  },
  {
   "cell_type": "markdown",
   "metadata": {},
   "source": [
    "```curl -X POST \\\n",
    "  'http://localhost:8983/solr/geonames/tag?overlaps=NO_SUB&tagsLimit=5000&fl=id,name,countrycode&wt=json&indent=on' \\\n",
    "  -H 'Content-Type:text/plain' -d 'Hello New York City'```\n",
    " "
   ]
  },
  {
   "cell_type": "code",
   "execution_count": 32,
   "metadata": {
    "collapsed": false
   },
   "outputs": [],
   "source": [
    "MIN_MENTION_LENGTH = 3 # mentions must be at least this long\n",
    "MIN_FREQUENCY = 20 # anchor with frequency below is ignored\n",
    "\n",
    "def stripSmallMentions(potAnchors):\n",
    "    \"\"\"\n",
    "    Description:\n",
    "        Removes potential anchors with mentions that are too small from the list.\n",
    "    Args:\n",
    "        potAnchors: The list of potential anchors, along with some additional information.\n",
    "            [{'start', 'end', 'mention', 'mention variations'},...]\n",
    "    Return:\n",
    "        A new list of potential anchors.\n",
    "    \"\"\"\n",
    "    newPotAnchors = [] # the new list\n",
    "    for potAnchor in potAnchors:\n",
    "        if potAnchor['end'] - potAnchor['start'] >= MIN_MENTION_LENGTH:\n",
    "            newPotAnchors.append(potAnchor)\n",
    "    \n",
    "    return newPotAnchors\n",
    "\n",
    "def getMostFrequentConcept(mentions):\n",
    "    \"\"\"\n",
    "    Description:\n",
    "        Finds the mention with the candidate concept with the most frequency.\n",
    "    Args:\n",
    "        mentions: A list of mentions to look for the most popular in.\n",
    "    Return:\n",
    "        A dictionary of the form {'mention', 'conceptId', 'freq'}.\n",
    "    \"\"\"\n",
    "    \n",
    "    # The inputted mentions along with the frequency of thier most popular concept\n",
    "    mentionConceptFreqs = []\n",
    "    for mention in mentions:\n",
    "        # gets the most frequent concept from the current asr\n",
    "        mostFrequent = sorted(anchor2concept(mention), key = itemgetter(1), reverse = True)[0]\n",
    "        # mostFrequent[0] is conceptId, mostFrequent[1] is frequency of that concept\n",
    "        mentionConceptFreqs.append((mention, mostFrequent[0], mostFrequent[1]))\n",
    "        \n",
    "    # get the mention with the highest freqency\n",
    "    bestMention = sorted(mentionConceptFreqs, key = itemgetter(2), reverse = True)[0]\n",
    "    \n",
    "    bestMentionDict = {}\n",
    "    bestMentionDict['mention'] = bestMention[0]\n",
    "    bestMentionDict['conceptId'] = bestMention[1]\n",
    "    bestMentionDict['freq'] = bestMention[2]\n",
    "    \n",
    "    return bestMentionDict\n",
    "\n",
    "def wikifyPopular(potAnchors, useOriginalMention):\n",
    "    \"\"\"\n",
    "    Description:\n",
    "        Takes in a list potential anchors and returns the resulting anchors.\n",
    "    Args:\n",
    "        potAnchors: The list of potential anchors, along with some additional information.\n",
    "            [{'start', 'end', 'mention', 'mentionVars'},...]\n",
    "        useOriginalMention: Whether to use the mention from the original or one of the word forms.\n",
    "    Return:\n",
    "        The potential anchors along with the corresponding concept and frequency of that concept.\n",
    "    \"\"\"\n",
    "    \n",
    "    # if not using original mention, use the mention variation with the most frequent results\n",
    "    # either way adds 'conceptId', and 'freq'\n",
    "    if useOriginalMention == False:\n",
    "        for potAnchor in potAnchors:\n",
    "            bestMention = getMostFrequentConcept(potAnchor['mentionVars'])\n",
    "            potAnchor['conceptId'] = bestMention['conceptId']\n",
    "            potAnchor['freq'] = bestMention['freq']\n",
    "    else:\n",
    "        for potAnchor in potAnchors:\n",
    "            mentionData = sorted(anchor2concept(potAnchor['mention']), \n",
    "                                 key = itemgetter(1), reverse = True)[0]\n",
    "            potAnchor['conceptId'] = mentionData[0]\n",
    "            potAnchor['freq'] = mentionData[1]\n",
    "            \n",
    "    return potAnchors\n",
    "\n",
    "def wikify(query, useOriginalMention, method='popular'):\n",
    "    \"\"\"\n",
    "    Description:\n",
    "        Takes the query string, and wikifies it using the desired method.\n",
    "    Args:\n",
    "        query: The string to wikify.\n",
    "        mehtod: The method used to wikify.\n",
    "        useOriginalMention: Whether to use mention from the original or a potential variation.\n",
    "    Return:\n",
    "        The anchors along with their best matched concept from wikipedia.\n",
    "    \"\"\"\n",
    "    \n",
    "    # first get the potential anchors from solr\n",
    "    addr = 'http://localhost:8983/solr/enwikianchors20160305/tag'\n",
    "    params={'overlaps':'ALL', 'tagsLimit':'5000', 'fl':'id','wt':'json','indent':'on'}\n",
    "    r = requests.post(addr, params=params, data=query)\n",
    "    queryResult = r.json()['tags']\n",
    "    \n",
    "    # an array of dictionaries to hold the data of each potential anchor\n",
    "    potAnchors = [] \n",
    "    # convert queryResult to potAnchors (much cleaner)\n",
    "    for record in queryResult:\n",
    "        potAnchors.append({'start':record[1], 'end':record[3], \n",
    "                            'mention':query[record[1]:record[3]],\n",
    "                          'mentionVars':record[5]})\n",
    "        \n",
    "    # don't use any potential anchors below size threshold\n",
    "    potAnchors = stripSmallMentions(potAnchors)\n",
    "    \n",
    "    if method == 'popular':\n",
    "        potAnchors = wikifyPopular(potAnchors, useOriginalMention)\n",
    "    \n",
    "    # deal with overlap on anchors here\n",
    "    \n",
    "    # return anchors in finalized form\n",
    "    anchors = []\n",
    "    for potAnchor in potAnchors:\n",
    "        if potAnchor['freq'] >= MIN_FREQUENCY: \n",
    "            anchors.append({'mention':potAnchor['mention'],\n",
    "                           'wikiTitle':id2title(potAnchor['conceptId'])})\n",
    "    \n",
    "    return anchors"
   ]
  },
  {
   "cell_type": "code",
   "execution_count": null,
   "metadata": {
    "collapsed": true
   },
   "outputs": [],
   "source": [
    "\"\"\"\n",
    "Ideas:\n",
    "    -anchor frequency adjuster\n",
    "    -use similarity with other anchors\n",
    "\n",
    "Sample Querries:\n",
    "    'I walked down to the park and found a duck and a pebble'\n",
    "    'I walked into an electronic store and bought a pebble'\n",
    "    'I walked down to the park and found a duck studying quantum mechanics'\n",
    "    'I walked down to the park and found a duck studying quantum mechanical systems'\n",
    "    'I met David in Spain'\n",
    "    'An entomologist spots what might be a rare subspecies of beetle, due to the pattern on its back'\n",
    "\"\"\""
   ]
  },
  {
   "cell_type": "code",
   "execution_count": 38,
   "metadata": {
    "collapsed": false
   },
   "outputs": [
    {
     "name": "stdout",
     "output_type": "stream",
     "text": [
      "I met David in Spain\n",
      "\n",
      "David-->David\n",
      "Spain-->Spain\n",
      "\n",
      "David-->David\n",
      "Spain-->Spain\n"
     ]
    }
   ],
   "source": [
    "phrase = 'I met David in Spain'\n",
    "print phrase + \"\\n\"\n",
    "\n",
    "anchors = wikify(phrase, True)\n",
    "for anchor in anchors:\n",
    "    print anchor['mention'] + '-->' + anchor['wikiTitle']\n",
    "    \n",
    "print\n",
    "\n",
    "anchors = wikify(phrase, False)\n",
    "for anchor in anchors:\n",
    "    print anchor['mention'] + '-->' + anchor['wikiTitle']"
   ]
  },
  {
   "cell_type": "code",
   "execution_count": 13,
   "metadata": {
    "collapsed": false,
    "scrolled": true
   },
   "outputs": [
    {
     "name": "stdout",
     "output_type": "stream",
     "text": [
      "I walked down to the park and found a duck studying quantum mechanical systems\n",
      "[(2, 8, 'walked', [u'walked']), (9, 13, 'down', [u'down', u'\"down\"']), (17, 20, 'the', [u'the', u'\"the\"']), (17, 25, 'the park', [u'the park']), (21, 25, 'park', [u'park']), (26, 29, 'and', [u'and', u'\"+\" and \"\\u2212\"']), (30, 35, 'found', [u'found']), (36, 42, 'a duck', [u'a duck']), (38, 42, 'duck', [u'duck', u\"duck's\"]), (43, 51, 'studying', [u'studying']), (52, 59, 'quantum', [u'quantum', u'\"quantum\"']), (52, 70, 'quantum mechanical', [u'quantum mechanical', u'quantum-mechanical']), (52, 78, 'quantum mechanical systems', [u'quantum mechanical systems']), (60, 70, 'mechanical', [u'mechanical']), (60, 78, 'mechanical systems', [u'mechanical systems']), (71, 78, 'systems', [u'systems', u'.systems', u\"systems'\"])]\n",
      "[(2, 8, 'walked', (u'walked', 3802L, 206L)), (9, 13, 'down', (u'down', 1084904L, 102L)), (21, 25, 'park', (u'park', 166459L, 1330L)), (38, 42, 'duck', (u'duck', 37674L, 1284L)), (52, 59, 'quantum', (u'quantum', 20646064L, 142L)), (52, 70, 'quantum mechanical', (u'quantum mechanical', 25202L, 245L)), (60, 70, 'mechanical', (u'mechanical', 19528L, 132L)), (71, 78, 'systems', (u'systems', 8286675L, 86L))]\n",
      "walked-->https://en.wikipedia.org/wiki/Base_on_balls\n",
      "down-->https://en.wikipedia.org/wiki/Down_feather\n",
      "park-->https://en.wikipedia.org/wiki/Park\n",
      "duck-->https://en.wikipedia.org/wiki/Duck\n",
      "quantum-->https://en.wikipedia.org/wiki/Quantum\n",
      "quantum mechanical-->https://en.wikipedia.org/wiki/Quantum_mechanics\n",
      "mechanical-->https://en.wikipedia.org/wiki/Mechanical_engineering\n",
      "systems-->https://en.wikipedia.org/wiki/System\n"
     ]
    }
   ],
   "source": [
    "print(q)\n",
    "\n",
    "minAcceptedFrequency = 20 # do not use entities with less frequencies than this\n",
    "minWordLength = 3 # for efficiency do not even look at words with less size than this\n",
    "\n",
    "potentialMentionsAmount = len(queryResult) # the total amount of potential mentions including overlaps\n",
    "\n",
    "# records appear to be sorted by start index\n",
    "\n",
    "# get each word and the corresponding variations of that potential anchor\n",
    "anchorsPossibilities = getAnchorPossibilities(queryResult)\n",
    "#print anchorsPossibilities\n",
    "\n",
    "# get the most popular concept for the variations of each potential anchor\n",
    "anchorPossibilityFrequencies = []\n",
    "for i in range(len(anchorsPossibilities)):\n",
    "    anchorPossibilityFrequencies.append((\n",
    "        anchorsPossibilities[i][0], anchorsPossibilities[i][1], \n",
    "        anchorsPossibilities[i][2], getMostFrequentConcept(anchorsPossibilities[i][3])))\n",
    "    \n",
    "#print anchorPossibilityFrequencies\n",
    "\n",
    "prunedPotentialAnchors = [] # store all with high enough frequency here\n",
    "# ditch all with frequency under threshold\n",
    "for potentialAnchor in anchorPossibilityFrequencies:\n",
    "    if(potentialAnchor[3][2] >= minAcceptedFrequency):\n",
    "        prunedPotentialAnchors.append(potentialAnchor)\n",
    "        \n",
    "#print prunedPotentialAnchors\n",
    "\n",
    "# display final results\n",
    "for anchor in prunedPotentialAnchors:\n",
    "    print(anchor[2] + \"-->\" + \"https://en.wikipedia.org/wiki/\" \n",
    "          + id2title(anchor[3][1]))"
   ]
  },
  {
   "cell_type": "code",
   "execution_count": 3,
   "metadata": {
    "collapsed": false
   },
   "outputs": [],
   "source": [
    "def getAnchorPossibilities(data):\n",
    "    \"\"\"\n",
    "    Description: \n",
    "        Extracts all potential anchors from each record in the data.\n",
    "    Args:\n",
    "        data: The data to get potential anchors from.\n",
    "    Return: \n",
    "        An array of possible anchors for the source word in the following format:\n",
    "        (start index, end index, source word, possible anchors)\n",
    "    \"\"\"\n",
    "    \n",
    "    # array of (start index, end index, source word, possible anchors)\n",
    "    anchorsPossibilities = [] \n",
    "    for record in data:\n",
    "        # don't take words below the threshold\n",
    "        if record[3] - record[1] >= minWordLength:\n",
    "            anchorsPossibilities.append((record[1], record[3], \n",
    "                                        q[record[1]:record[3]], record[5]))\n",
    "            \n",
    "    return anchorsPossibilities"
   ]
  },
  {
   "cell_type": "code",
   "execution_count": 4,
   "metadata": {
    "collapsed": true
   },
   "outputs": [],
   "source": [
    "def getMostFrequentConcept(anchorSearchRepresentations):\n",
    "    \"\"\"\n",
    "    Description:\n",
    "        Finds the anchor-search representation (asr) with the most frequency in the list \n",
    "        of anchorSeachRepresentations.\n",
    "    Args:\n",
    "        anchorSearchRepresentations: a list of possible representations of an anchor\n",
    "        for searching purposes.\n",
    "    Return:\n",
    "        The anchor-search representation that gives the concept with the most\n",
    "        frequencies along with the concept and its frequency.\n",
    "    \"\"\"\n",
    "    \n",
    "    # The inputted asrs along with the frequency of thier most popular concept\n",
    "    asrFrequencies = []\n",
    "    for asr in anchorSearchRepresentations:\n",
    "        # gets the most frequent concept from the current asr\n",
    "        mostFrequent = sorted(anchor2concept(asr), key = itemgetter(1), reverse = True)[0]\n",
    "        # (asr, concept, concept frequency)\n",
    "        asrFrequencies.append((asr, mostFrequent[0], mostFrequent[1]))\n",
    "        \n",
    "    # get and return the asr with the highest freqency\n",
    "    return sorted(asrFrequencies, key = itemgetter(2), reverse = True)[0]"
   ]
  },
  {
   "cell_type": "code",
   "execution_count": null,
   "metadata": {
    "collapsed": false
   },
   "outputs": [],
   "source": [
    "%%bash\n",
    "curl -X POST \\\n",
    "  'http://localhost:8983/solr/enwikianchors20160305/tag?overlaps=NO_SUB&tagsLimit=5000&fl=id&wt=json&indent=on' \\\n",
    "  -H 'Content-Type:text/plain' -d 'I met David in Spain'"
   ]
  },
  {
   "cell_type": "code",
   "execution_count": null,
   "metadata": {
    "collapsed": true
   },
   "outputs": [],
   "source": []
  }
 ],
 "metadata": {
  "anaconda-cloud": {},
  "kernelspec": {
   "display_name": "Python 2",
   "language": "python",
   "name": "python2"
  },
  "language_info": {
   "codemirror_mode": {
    "name": "ipython",
    "version": 2
   },
   "file_extension": ".py",
   "mimetype": "text/x-python",
   "name": "python",
   "nbconvert_exporter": "python",
   "pygments_lexer": "ipython2",
   "version": "2.7.13"
  }
 },
 "nbformat": 4,
 "nbformat_minor": 0
}
