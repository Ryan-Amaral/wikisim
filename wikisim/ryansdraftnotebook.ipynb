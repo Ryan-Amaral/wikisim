{
 "cells": [
  {
   "cell_type": "code",
   "execution_count": 131,
   "metadata": {
    "collapsed": false
   },
   "outputs": [
    {
     "data": {
      "text/plain": [
       "((1053836L, 1L),)"
      ]
     },
     "execution_count": 131,
     "metadata": {},
     "output_type": "execute_result"
    }
   ],
   "source": [
    "from wikipedia import *\n",
    "from operator import itemgetter\n",
    "anchor2concept('I\\'s')"
   ]
  },
  {
   "cell_type": "code",
   "execution_count": 132,
   "metadata": {
    "collapsed": false
   },
   "outputs": [
    {
     "data": {
      "text/plain": [
       "'I\"s'"
      ]
     },
     "execution_count": 132,
     "metadata": {},
     "output_type": "execute_result"
    }
   ],
   "source": [
    "id2title(1053836L)"
   ]
  },
  {
   "cell_type": "markdown",
   "metadata": {},
   "source": [
    "```curl -X POST \\\n",
    "  'http://localhost:8983/solr/geonames/tag?overlaps=NO_SUB&tagsLimit=5000&fl=id,name,countrycode&wt=json&indent=on' \\\n",
    "  -H 'Content-Type:text/plain' -d 'Hello New York City'```\n",
    " "
   ]
  },
  {
   "cell_type": "code",
   "execution_count": 148,
   "metadata": {
    "collapsed": false,
    "scrolled": true
   },
   "outputs": [
    {
     "name": "stdout",
     "output_type": "stream",
     "text": [
      "[(2, 8, 'walked', (u'walked', 3802L, 206L)), (9, 13, 'down', (u'down', 1084904L, 102L)), (21, 25, 'park', (u'park', 166459L, 1330L)), (38, 42, 'duck', (u'duck', 37674L, 1284L)), (49, 55, 'pebble', (u'pebble', 314610L, 128L))]\n",
      "walked-->https://en.wikipedia.org/wiki/Base_on_balls\n",
      "down-->https://en.wikipedia.org/wiki/Down_feather\n",
      "park-->https://en.wikipedia.org/wiki/Park\n",
      "duck-->https://en.wikipedia.org/wiki/Duck\n",
      "pebble-->https://en.wikipedia.org/wiki/Pebble\n"
     ]
    }
   ],
   "source": [
    "import requests\n",
    "qstr = 'http://localhost:8983/solr/enwikianchors20160305/tag'\n",
    "q='I walked down to the park and found a duck and a pebble'\n",
    "#q='I walked into an electronic store and bought a pebble'\n",
    "#q='I met David in Spain'\n",
    "#q='An entomologist spots what might be a rare subspecies of beetle, due to the pattern on its back.'\n",
    "params={'overlaps':'ALL', 'tagsLimit':'5000', 'fl':'id','wt':'json','indent':'on'}\n",
    "r = requests.post(qstr, params=params, data=q)\n",
    "#print(r.json()['tags'])\n",
    "queryResult = r.json()['tags']\n",
    "\n",
    "minAcceptedFrequency = 20 # do not use entities with less frequencies than this\n",
    "minWordLength = 3 # for efficiency do not even look at words with less size than this\n",
    "\n",
    "potentialMentionsAmount = len(queryResult) # the total amount of potential mentions including overlaps\n",
    "\n",
    "# records appear to be sorted by start index\n",
    "\n",
    "# get each word and the corresponding variations of that potential anchor\n",
    "anchorsPossibilities = getAnchorPossibilities(queryResult)\n",
    "#print anchorsPossibilities\n",
    "\n",
    "# get the most popular concept for the variations of each potential anchor\n",
    "anchorPossibilityFrequencies = []\n",
    "for i in range(len(anchorsPossibilities)):\n",
    "    anchorPossibilityFrequencies.append((\n",
    "        anchorsPossibilities[i][0], anchorsPossibilities[i][1], \n",
    "        anchorsPossibilities[i][2], getMostFrequentConcept(anchorsPossibilities[i][3])))\n",
    "    \n",
    "#print anchorPossibilityFrequencies\n",
    "\n",
    "prunedPotentialAnchors = [] # store all with high enough frequency here\n",
    "# ditch all with frequency under threshold\n",
    "for potentialAnchor in anchorPossibilityFrequencies:\n",
    "    if(potentialAnchor[3][2] >= minAcceptedFrequency):\n",
    "        prunedPotentialAnchors.append(potentialAnchor)\n",
    "        \n",
    "print prunedPotentialAnchors\n",
    "\n",
    "# display final results\n",
    "for anchor in prunedPotentialAnchors:\n",
    "    print(anchor[2] + \"-->\" + \"https://en.wikipedia.org/wiki/\" \n",
    "          + id2title(anchor[3][1]))"
   ]
  },
  {
   "cell_type": "code",
   "execution_count": 127,
   "metadata": {
    "collapsed": false
   },
   "outputs": [],
   "source": [
    "def getAnchorPossibilities(data):\n",
    "    \"\"\"\n",
    "    Description: \n",
    "        Extracts all potential anchors from each record in the data.\n",
    "    Args:\n",
    "        data: json data to get potential anchors.\n",
    "    Return: \n",
    "        An array of possible anchor for the source word in the following format:\n",
    "        (start index, end index, source word, possible anchors)\n",
    "    \"\"\"\n",
    "    \n",
    "    # array of (start index, end index, source word, possible anchors)\n",
    "    anchorsPossibilities = [] \n",
    "    for record in data:\n",
    "        # don't take words below the threshold\n",
    "        if record[3] - record[1] >= minWordLength:\n",
    "            anchorsPossibilities.append((record[1], record[3], \n",
    "                                        q[record[1]:record[3]], record[5]))\n",
    "            \n",
    "    return anchorsPossibilities"
   ]
  },
  {
   "cell_type": "code",
   "execution_count": 133,
   "metadata": {
    "collapsed": true
   },
   "outputs": [],
   "source": [
    "def getMostFrequentConcept(anchorSearchRepresentations):\n",
    "    \"\"\"\n",
    "    Description:\n",
    "        Finds the anchor-search representation (asr) with the most frequency in the list \n",
    "        of anchorSeachRepresentations.\n",
    "    Args:\n",
    "        anchorSearchRepresentations: a list of possible representations of an anchor\n",
    "        for searching purposes.\n",
    "    Return:\n",
    "        The anchor-search representation that gives the concept with the most\n",
    "        frequencies along with the concept and its frequency.\n",
    "    \"\"\"\n",
    "    \n",
    "    # The inputted asrs along with the frequency of thier most popular concept\n",
    "    asrFrequencies = []\n",
    "    for asr in anchorSearchRepresentations:\n",
    "        # gets the most frequent concept from the current asr\n",
    "        mostFrequent = sorted(anchor2concept(asr), key = itemgetter(1), reverse = True)[0]\n",
    "        # (asr, concept, concept frequency)\n",
    "        asrFrequencies.append((asr, mostFrequent[0], mostFrequent[1]))\n",
    "        \n",
    "    # get and return the asr with the highest freqency\n",
    "    return sorted(asrFrequencies, key = itemgetter(2), reverse = True)[0]"
   ]
  },
  {
   "cell_type": "code",
   "execution_count": 4,
   "metadata": {
    "collapsed": false
   },
   "outputs": [
    {
     "name": "stdout",
     "output_type": "stream",
     "text": [
      "{\n",
      "  \"responseHeader\":{\n",
      "    \"status\":0,\n",
      "    \"QTime\":3},\n",
      "  \"tagsCount\":4,\n",
      "  \"tags\":[[\n",
      "      \"startOffset\",0,\n",
      "      \"endOffset\",1,\n",
      "      \"ids\",[\"I's\",\n",
      "        \"I\",\n",
      "        \"^I\",\n",
      "        \"\\\"I\\\"\",\n",
      "        \"[I\",\n",
      "        \"∃I\",\n",
      "        \"I`\",\n",
      "        \"I^\",\n",
      "        \"I ...\",\n",
      "        \"I ♥\",\n",
      "        \"I ♥...\",\n",
      "        \"I-\",\n",
      "        \"I,\",\n",
      "        \"I:\",\n",
      "        \"I.\",\n",
      "        \"I'\",\n",
      "        \"I£\",\n",
      "        \"I*\",\n",
      "        \"I++\",\n",
      "        \"I′\",\n",
      "        \"I♥...\",\n",
      "        \"Í\",\n",
      "        \"Ì\",\n",
      "        \"Ĭ\",\n",
      "        \"Î\",\n",
      "        \"Ǐ\",\n",
      "        \"Ï\",\n",
      "        \"Ḯ\",\n",
      "        \"Ï»¿\",\n",
      "        \"Ĩ\",\n",
      "        \"Į\",\n",
      "        \"Ī\",\n",
      "        \"Ỉ\",\n",
      "        \"Ȉ\",\n",
      "        \"Ȋ\",\n",
      "        \"Ị\",\n",
      "        \"Ḭ\",\n",
      "        \"İ\",\n",
      "        \"Ï¿½\",\n",
      "        \" I \"]],\n",
      "    [\n",
      "      \"startOffset\",2,\n",
      "      \"endOffset\",5,\n",
      "      \"ids\",[\"met\"]],\n",
      "    [\n",
      "      \"startOffset\",6,\n",
      "      \"endOffset\",11,\n",
      "      \"ids\",[\"David's\",\n",
      "        \"David’s\",\n",
      "        \"David\",\n",
      "        \"\\\"David\",\n",
      "        \"\\\"David\\\"\",\n",
      "        \"David)\",\n",
      "        \"Dávid\",\n",
      "        \"Davíd\",\n",
      "        \"Davið\",\n",
      "        \"Davíð\"]],\n",
      "    [\n",
      "      \"startOffset\",12,\n",
      "      \"endOffset\",14,\n",
      "      \"ids\",[\"in\",\n",
      "        \"-in\",\n",
      "        \".in\",\n",
      "        \"'in\",\n",
      "        \"in-\",\n",
      "        \"in.\",\n",
      "        \"in²\"]]],\n",
      "  \"response\":{\"numFound\":58,\"start\":0,\"docs\":[\n",
      "      {},\n",
      "      {},\n",
      "      {},\n",
      "      {},\n",
      "      {},\n",
      "      {},\n",
      "      {},\n",
      "      {},\n",
      "      {},\n",
      "      {},\n",
      "      {},\n",
      "      {},\n",
      "      {},\n",
      "      {},\n",
      "      {},\n",
      "      {},\n",
      "      {},\n",
      "      {},\n",
      "      {},\n",
      "      {},\n",
      "      {},\n",
      "      {},\n",
      "      {},\n",
      "      {},\n",
      "      {},\n",
      "      {},\n",
      "      {},\n",
      "      {},\n",
      "      {},\n",
      "      {},\n",
      "      {},\n",
      "      {},\n",
      "      {},\n",
      "      {},\n",
      "      {},\n",
      "      {},\n",
      "      {},\n",
      "      {},\n",
      "      {},\n",
      "      {},\n",
      "      {},\n",
      "      {},\n",
      "      {},\n",
      "      {},\n",
      "      {},\n",
      "      {},\n",
      "      {},\n",
      "      {},\n",
      "      {},\n",
      "      {},\n",
      "      {},\n",
      "      {},\n",
      "      {},\n",
      "      {},\n",
      "      {},\n",
      "      {},\n",
      "      {},\n",
      "      {}]\n",
      "  }}\n"
     ]
    },
    {
     "name": "stderr",
     "output_type": "stream",
     "text": [
      "  % Total    % Received % Xferd  Average Speed   Time    Time     Time  Current\r\n",
      "                                 Dload  Upload   Total   Spent    Left  Speed\r\n",
      "\r",
      "  0     0    0     0    0     0      0      0 --:--:-- --:--:-- --:--:--     0\r",
      "100  1870  100  1851  100    19   120k   1266 --:--:-- --:--:-- --:--:--  120k\r\n"
     ]
    }
   ],
   "source": [
    "%%bash\n",
    "curl -X POST \\\n",
    "  'http://localhost:8983/solr/enwikianchors20160305/tag?overlaps=NO_SUB&tagsLimit=5000&fl=id&wt=json&indent=on' \\\n",
    "  -H 'Content-Type:text/plain' -d 'I met David in Spain'"
   ]
  },
  {
   "cell_type": "code",
   "execution_count": null,
   "metadata": {
    "collapsed": true
   },
   "outputs": [],
   "source": []
  }
 ],
 "metadata": {
  "anaconda-cloud": {},
  "kernelspec": {
   "display_name": "Python 2",
   "language": "python",
   "name": "python2"
  },
  "language_info": {
   "codemirror_mode": {
    "name": "ipython",
    "version": 2
   },
   "file_extension": ".py",
   "mimetype": "text/x-python",
   "name": "python",
   "nbconvert_exporter": "python",
   "pygments_lexer": "ipython2",
   "version": "2.7.13"
  }
 },
 "nbformat": 4,
 "nbformat_minor": 0
}
