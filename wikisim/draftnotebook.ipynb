{
 "cells": [
  {
   "cell_type": "code",
   "execution_count": 3,
   "metadata": {},
   "outputs": [],
   "source": [
    "from calcsim import *"
   ]
  },
  {
   "cell_type": "code",
   "execution_count": 4,
   "metadata": {},
   "outputs": [
    {
     "data": {
      "text/plain": [
       "57654                               (Tehran, 0.0351605740346)\n",
       "14653                                 (Iran, 0.0046123110059)\n",
       "36197140               (Timeline_of_Tehran, 0.00453261185123)\n",
       "18603746                          (Beijing, 0.00427659692421)\n",
       "56615                             (Bangkok, 0.00426148002961)\n",
       "30057                               (Tokyo, 0.00421809877847)\n",
       "19159283                            (Seoul, 0.00421149433163)\n",
       "184334                              (Manila, 0.0042084185116)\n",
       "16275                             (Jakarta, 0.00416187870888)\n",
       "4492                              (Baghdad, 0.00395965963757)\n",
       "57648                              (Taipei, 0.00363774643257)\n",
       "16854                        (Kuala_Lumpur, 0.00359733328489)\n",
       "56656                               (Dhaka, 0.00353864614204)\n",
       "202702                          (Rey,_Iran, 0.00349265501118)\n",
       "51585                           (New_Delhi, 0.00331977768928)\n",
       "202698                    (Tehran_Province, 0.00321723261052)\n",
       "56602                              (Astana, 0.00319283843112)\n",
       "9508746     (List_of_urban_areas_by_population, 0.00315612...\n",
       "26214389                             (Doha, 0.00312053197988)\n",
       "4566                                 (Baku, 0.00310192727904)\n",
       "dtype: object"
      ]
     },
     "execution_count": 4,
     "metadata": {},
     "output_type": "execute_result"
    }
   ],
   "source": [
    "conceptrep(title2id('Tehran'), method='rvspagerank', direction=1, get_titles=True, cutoff=20)"
   ]
  },
  {
   "cell_type": "code",
   "execution_count": null,
   "metadata": {},
   "outputs": [],
   "source": [
    "em=concept_embedding(title2id('Tehran'), 1);    \n",
    "em = em.sort_values(ascending=False)\n",
    "em = em[:10]\n",
    "# if get_titles:\n",
    "#     em = pd.Series(zip(ids2title(em.index), em.values.tolist()), index=em.index)\n"
   ]
  },
  {
   "cell_type": "code",
   "execution_count": 6,
   "metadata": {},
   "outputs": [
    {
     "ename": "NameError",
     "evalue": "name 'outdir' is not defined",
     "output_type": "error",
     "traceback": [
      "\u001b[0;31m---------------------------------------------------------------------------\u001b[0m",
      "\u001b[0;31mNameError\u001b[0m                                 Traceback (most recent call last)",
      "\u001b[0;32m<ipython-input-6-2af721332e24>\u001b[0m in \u001b[0;36m<module>\u001b[0;34m()\u001b[0m\n\u001b[1;32m      1\u001b[0m \u001b[0;32mfrom\u001b[0m \u001b[0mutils\u001b[0m \u001b[0;32mimport\u001b[0m \u001b[0;34m*\u001b[0m\u001b[0;34m\u001b[0m\u001b[0m\n\u001b[0;32m----> 2\u001b[0;31m \u001b[0;32mprint\u001b[0m \u001b[0moutdir\u001b[0m\u001b[0;34m\u001b[0m\u001b[0m\n\u001b[0m",
      "\u001b[0;31mNameError\u001b[0m: name 'outdir' is not defined"
     ]
    }
   ],
   "source": [
    "from utils import *\n",
    "print outdir"
   ]
  },
  {
   "cell_type": "code",
   "execution_count": null,
   "metadata": {},
   "outputs": [],
   "source": [
    "list(em.index)"
   ]
  },
  {
   "cell_type": "code",
   "execution_count": null,
   "metadata": {},
   "outputs": [],
   "source": []
  }
 ],
 "metadata": {
  "anaconda-cloud": {},
  "kernelspec": {
   "display_name": "Python 2",
   "language": "python",
   "name": "python2"
  },
  "language_info": {
   "codemirror_mode": {
    "name": "ipython",
    "version": 2
   },
   "file_extension": ".py",
   "mimetype": "text/x-python",
   "name": "python",
   "nbconvert_exporter": "python",
   "pygments_lexer": "ipython2",
   "version": "2.7.14"
  }
 },
 "nbformat": 4,
 "nbformat_minor": 1
}
