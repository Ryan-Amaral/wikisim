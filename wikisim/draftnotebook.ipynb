{
 "cells": [
  {
   "cell_type": "code",
   "execution_count": 1,
   "metadata": {
    "collapsed": false
   },
   "outputs": [
    {
     "name": "stderr",
     "output_type": "stream",
     "text": [
      "/users/grad/sajadi/backup/anaconda2/lib/python2.7/site-packages/gensim/utils.py:1015: UserWarning: Pattern library is not installed, lemmatization won't be available.\n",
      "  warnings.warn(\"Pattern library is not installed, lemmatization won't be available.\")\n"
     ]
    }
   ],
   "source": [
    "from calcsim import *"
   ]
  },
  {
   "cell_type": "code",
   "execution_count": 2,
   "metadata": {
    "collapsed": false
   },
   "outputs": [],
   "source": [
    "word2vec = gensim_loadmodel('/users/grad/sajadi/backup/wikipedia/20160305/embed/word2vec.enwiki-20160305-replace_surface.1.0.500.10.5.15.5.5/word2vec.enwiki-20160305-replace_surface.1.0.500.10.5.15.5.5')"
   ]
  },
  {
   "cell_type": "code",
   "execution_count": null,
   "metadata": {
    "collapsed": false
   },
   "outputs": [],
   "source": [
    "title2id('David_Beckham')\n",
    "'8618' in word2vec.vocab"
   ]
  },
  {
   "cell_type": "code",
   "execution_count": 5,
   "metadata": {
    "collapsed": false
   },
   "outputs": [
    {
     "data": {
      "text/plain": [
       "0     -0.059318\n",
       "1      0.220015\n",
       "2      0.197333\n",
       "3     -0.010439\n",
       "4      0.051383\n",
       "5      0.108418\n",
       "6     -0.209087\n",
       "7      0.022041\n",
       "8     -0.164112\n",
       "9      0.128572\n",
       "10     0.087886\n",
       "11     0.113541\n",
       "12     0.215817\n",
       "13    -0.216476\n",
       "14     0.105375\n",
       "15     0.028945\n",
       "16     0.094081\n",
       "17    -0.399193\n",
       "18    -0.441027\n",
       "19     0.342548\n",
       "20    -0.263908\n",
       "21    -0.204624\n",
       "22     0.281736\n",
       "23     0.188820\n",
       "24    -0.227104\n",
       "25     0.001750\n",
       "26    -0.239138\n",
       "27     0.000760\n",
       "28    -0.142525\n",
       "29    -0.034987\n",
       "         ...   \n",
       "470   -0.147113\n",
       "471   -0.074463\n",
       "472    0.103597\n",
       "473   -0.159848\n",
       "474    0.011897\n",
       "475   -0.070237\n",
       "476    0.470068\n",
       "477   -0.514894\n",
       "478   -0.421241\n",
       "479    0.267624\n",
       "480   -0.397031\n",
       "481   -0.013620\n",
       "482    0.199455\n",
       "483    0.355557\n",
       "484    0.001108\n",
       "485   -0.020033\n",
       "486    0.097897\n",
       "487   -0.279744\n",
       "488   -0.095632\n",
       "489   -0.162298\n",
       "490   -0.322642\n",
       "491   -0.105250\n",
       "492    0.022626\n",
       "493    0.342163\n",
       "494   -0.307531\n",
       "495    0.021215\n",
       "496   -0.000198\n",
       "497    0.392476\n",
       "498   -0.063707\n",
       "499    0.190203\n",
       "dtype: float32"
      ]
     },
     "execution_count": 5,
     "metadata": {},
     "output_type": "execute_result"
    }
   ],
   "source": [
    "x=getentity2vector(title2id('David_Beckham'))\n",
    "x"
   ]
  },
  {
   "cell_type": "code",
   "execution_count": 6,
   "metadata": {
    "collapsed": false
   },
   "outputs": [
    {
     "data": {
      "text/plain": [
       "0      0.195071\n",
       "1     -0.010410\n",
       "2      0.103394\n",
       "3      0.085685\n",
       "4      0.216324\n",
       "5      0.126593\n",
       "6      0.054792\n",
       "7      0.066287\n",
       "8      0.154665\n",
       "9      0.243015\n",
       "10    -0.088734\n",
       "11    -0.528243\n",
       "12    -0.459352\n",
       "13    -0.299625\n",
       "14    -0.013361\n",
       "15     0.138547\n",
       "16    -0.301821\n",
       "17     0.297806\n",
       "18     0.455388\n",
       "19    -0.077500\n",
       "20     0.088760\n",
       "21     0.097837\n",
       "22    -0.033221\n",
       "23     0.474209\n",
       "24     0.005978\n",
       "25     0.173846\n",
       "26     0.312073\n",
       "27     0.136181\n",
       "28     0.155366\n",
       "29    -0.089879\n",
       "         ...   \n",
       "470    0.168659\n",
       "471   -0.028974\n",
       "472   -0.080216\n",
       "473   -0.007544\n",
       "474   -0.219682\n",
       "475   -0.056475\n",
       "476    0.040500\n",
       "477   -0.389553\n",
       "478    0.136515\n",
       "479    0.273753\n",
       "480   -0.563101\n",
       "481    0.312009\n",
       "482    0.158677\n",
       "483   -0.118121\n",
       "484   -0.214131\n",
       "485   -0.127984\n",
       "486   -0.291838\n",
       "487    0.220495\n",
       "488    0.204598\n",
       "489    0.166727\n",
       "490    0.158050\n",
       "491   -0.051143\n",
       "492   -0.181251\n",
       "493    0.177645\n",
       "494   -0.343019\n",
       "495   -0.362156\n",
       "496    0.051977\n",
       "497    0.018069\n",
       "498   -0.134246\n",
       "499    0.185363\n",
       "dtype: float32"
      ]
     },
     "execution_count": 6,
     "metadata": {},
     "output_type": "execute_result"
    }
   ],
   "source": [
    "y=getentity2vector(title2id('David'))\n",
    "y"
   ]
  },
  {
   "cell_type": "code",
   "execution_count": 7,
   "metadata": {
    "collapsed": false
   },
   "outputs": [
    {
     "data": {
      "text/plain": [
       "0      0.376228\n",
       "1      0.792942\n",
       "2     -0.318084\n",
       "3      0.072377\n",
       "4      0.188797\n",
       "5      0.113708\n",
       "6     -0.691005\n",
       "7     -0.258799\n",
       "8     -0.513161\n",
       "9     -0.155089\n",
       "10     0.031195\n",
       "11     0.410072\n",
       "12     0.315317\n",
       "13    -0.759477\n",
       "14    -0.239869\n",
       "15    -0.155348\n",
       "16    -0.034366\n",
       "17    -0.045078\n",
       "18    -0.577387\n",
       "19     0.153099\n",
       "20    -0.158106\n",
       "21     0.010404\n",
       "22     0.284669\n",
       "23     0.358282\n",
       "24    -0.317192\n",
       "25     0.208812\n",
       "26    -0.312249\n",
       "27    -0.063370\n",
       "28    -0.345052\n",
       "29    -0.010670\n",
       "         ...   \n",
       "470    0.459460\n",
       "471    0.283751\n",
       "472    0.062881\n",
       "473   -0.388504\n",
       "474    0.126794\n",
       "475   -0.101755\n",
       "476    0.088654\n",
       "477    0.013848\n",
       "478   -0.483581\n",
       "479    0.026998\n",
       "480   -0.122026\n",
       "481   -0.302734\n",
       "482   -0.092835\n",
       "483   -0.203844\n",
       "484    0.305020\n",
       "485    0.491595\n",
       "486   -0.140265\n",
       "487   -0.148728\n",
       "488    0.214445\n",
       "489   -0.159074\n",
       "490   -0.523594\n",
       "491    0.095097\n",
       "492    0.426315\n",
       "493    0.549323\n",
       "494   -0.160714\n",
       "495    0.018457\n",
       "496    0.251596\n",
       "497    0.025837\n",
       "498   -0.244779\n",
       "499    0.672814\n",
       "dtype: float32"
      ]
     },
     "execution_count": 7,
     "metadata": {},
     "output_type": "execute_result"
    }
   ],
   "source": [
    "context=getword2vector('soccer') + getword2vector('Victoria')\n",
    "context"
   ]
  },
  {
   "cell_type": "code",
   "execution_count": 8,
   "metadata": {
    "collapsed": false
   },
   "outputs": [
    {
     "name": "stdout",
     "output_type": "stream",
     "text": [
      "0.374921751838\n",
      "0.138329553507\n"
     ]
    }
   ],
   "source": [
    "import scipy as sp\n",
    "import scipy.sparse as sprs\n",
    "import scipy.spatial\n",
    "import scipy.sparse.linalg \n",
    "#panda vector\n",
    "print 1-sp.spatial.distance.cosine(context, x);\n",
    "print 1-sp.spatial.distance.cosine(context, y);"
   ]
  },
  {
   "cell_type": "code",
   "execution_count": null,
   "metadata": {
    "collapsed": false
   },
   "outputs": [],
   "source": [
    "w1"
   ]
  },
  {
   "cell_type": "code",
   "execution_count": null,
   "metadata": {
    "collapsed": true
   },
   "outputs": [],
   "source": []
  }
 ],
 "metadata": {
  "anaconda-cloud": {},
  "kernelspec": {
   "display_name": "Python [default]",
   "language": "python",
   "name": "python2"
  },
  "language_info": {
   "codemirror_mode": {
    "name": "ipython",
    "version": 2
   },
   "file_extension": ".py",
   "mimetype": "text/x-python",
   "name": "python",
   "nbconvert_exporter": "python",
   "pygments_lexer": "ipython2",
   "version": "2.7.13"
  }
 },
 "nbformat": 4,
 "nbformat_minor": 0
}
