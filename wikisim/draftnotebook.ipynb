{
 "cells": [
  {
   "cell_type": "code",
   "execution_count": 27,
   "metadata": {
    "collapsed": false
   },
   "outputs": [
    {
     "data": {
      "text/plain": [
       "{u'docs': '', u'numFound': 237717, u'start': 0}"
      ]
     },
     "execution_count": 27,
     "metadata": {},
     "output_type": "execute_result"
    }
   ],
   "source": [
    "import sys\n",
    "qstr = 'http://localhost:8983/solr/enwiki20160305/select'\n",
    "a='David Beckham'\n",
    "b='soccer'\n",
    "q1='+text:(\"%s\")'%(a,)\n",
    "q2='+text:(\"%s\")'%(b,)\n",
    "qand='+text:(\"%s\" AND \" %s\")'% (a,b)\n",
    "qor='+text:(\"%s\" OR \" %s\")'% (a,b)\n",
    "#q='id:\"60508\"'\n",
    "qand = qand %('David', 'Soccer')\n",
    "qor = qor %('David', 'Soccer')\n",
    "params={'indent':'on', 'wt':'json', 'q':qor}\n",
    "r = requests.get(qstr, params=params)\n",
    "sys.stdout.flush()\n",
    "#if len(r.json()['response']['docs'])==0:\n",
    "    \n",
    "#print r.json()['response']['docs']\n",
    "D = r.json()['response']\n",
    "D['docs']=''\n",
    "D"
   ]
  },
  {
   "cell_type": "code",
   "execution_count": 22,
   "metadata": {
    "collapsed": false
   },
   "outputs": [
    {
     "data": {
      "text/plain": [
       "8618L"
      ]
     },
     "execution_count": 22,
     "metadata": {},
     "output_type": "execute_result"
    }
   ],
   "source": [
    "from wikipedia import *\n",
    "title2id('David_Beckham')"
   ]
  },
  {
   "cell_type": "code",
   "execution_count": null,
   "metadata": {
    "collapsed": false
   },
   "outputs": [],
   "source": [
    "id2title(2172378L)"
   ]
  },
  {
   "cell_type": "markdown",
   "metadata": {},
   "source": [
    "```curl -X POST \\\n",
    "  'http://localhost:8983/solr/geonames/tag?overlaps=NO_SUB&tagsLimit=5000&fl=id,name,countrycode&wt=json&indent=on' \\\n",
    "  -H 'Content-Type:text/plain' -d 'Hello New York City'```\n",
    " "
   ]
  },
  {
   "cell_type": "code",
   "execution_count": 5,
   "metadata": {
    "collapsed": false
   },
   "outputs": [
    {
     "name": "stdout",
     "output_type": "stream",
     "text": [
      "{u'tagsCount': 4, u'responseHeader': {u'status': 0, u'QTime': 17}, u'response': {u'start': 0, u'numFound': 52, u'docs': [{}, {}, {}, {}, {}, {}, {}, {}, {}, {}, {}, {}, {}, {}, {}, {}, {}, {}, {}, {}, {}, {}, {}, {}, {}, {}, {}, {}, {}, {}, {}, {}, {}, {}, {}, {}, {}, {}, {}, {}, {}, {}, {}, {}, {}, {}, {}, {}, {}, {}, {}, {}]}, u'tags': [[u'startOffset', 0, u'endOffset', 1, u'ids', [u\"I's\", u'I', u'^I', u'\"I\"', u'[I', u'\\u2203I', u'I`', u'I^', u'I ...', u'I \\u2665', u'I \\u2665...', u'I-', u'I,', u'I:', u'I.', u\"I'\", u'I\\xa3', u'I*', u'I++', u'I\\u2032', u'I\\u2665...', u'\\xcd', u'\\xcc', u'\\u012c', u'\\xce', u'\\u01cf', u'\\xcf', u'\\u1e2e', u'\\xcf\\xbb\\xbf', u'\\u0128', u'\\u012e', u'\\u012a', u'\\u1ec8', u'\\u0208', u'\\u020a', u'\\u1eca', u'\\u1e2c', u'\\u0130', u'\\xcf\\xbf\\xbd', u'\\xa0I\\xa0']], [u'startOffset', 2, u'endOffset', 5, u'ids', [u'met']], [u'startOffset', 6, u'endOffset', 11, u'ids', [u\"David's\", u'David\\u2019s', u'David', u'\"David', u'\"David\"', u'David)', u'D\\xe1vid', u'Dav\\xedd', u'Davi\\xf0', u'Dav\\xed\\xf0']], [u'startOffset', 12, u'endOffset', 20, u'ids', [u'in Spain']]]}\n"
     ]
    }
   ],
   "source": [
    "import requests\n",
    "qstr = 'http://localhost:8983/solr/enwikianchors20160305/tag'\n",
    "q='I met David in Spain'\n",
    "params={'overlaps':'ALL', 'tagsLimit':'5000', 'fl':'id','wt':'json','indent':'on'}\n",
    "r = requests.post(qstr, params=params, data=q)\n",
    "#r =  r.json()['response']['docs'][0]\n",
    "print r.json()"
   ]
  },
  {
   "cell_type": "code",
   "execution_count": 32,
   "metadata": {
    "collapsed": false
   },
   "outputs": [
    {
     "name": "stderr",
     "output_type": "stream",
     "text": [
      "/users/grad/sajadi/backup/anaconda2/lib/python2.7/site-packages/gensim/utils.py:1015: UserWarning: Pattern library is not installed, lemmatization won't be available.\n",
      "  warnings.warn(\"Pattern library is not installed, lemmatization won't be available.\")\n"
     ]
    }
   ],
   "source": [
    "sys.path.insert(0,'..')\n",
    "from wsd.wsd import *\n",
    "\n",
    "S=[\"Carlos\", \"met\", \"David\", \"and\" , \"Victoria\", \"in\", \"Madrid\"]\n",
    "M=[[2, \"David_Beckham\"], [4, \"Victoria_Beckham\"], [6, \"Madrid\"]]\n"
   ]
  },
  {
   "cell_type": "code",
   "execution_count": 43,
   "metadata": {
    "collapsed": false
   },
   "outputs": [],
   "source": [
    "C=generate_candidates(S, M, max_t=3, enforce=False)"
   ]
  },
  {
   "cell_type": "code",
   "execution_count": 55,
   "metadata": {
    "collapsed": false
   },
   "outputs": [],
   "source": [
    "def get_popularity(C):\n",
    "    scores=[]\n",
    "    for c in C:\n",
    "        s=[x[1] for x in c]\n",
    "        scores.append(s)\n",
    "    return scores\n",
    "        \n",
    "P=get_popularity(C)    "
   ]
  },
  {
   "cell_type": "code",
   "execution_count": 56,
   "metadata": {
    "collapsed": false
   },
   "outputs": [
    {
     "data": {
      "text/plain": [
       "[[(8551L, 0.8596014492753623),\n",
       "  (36684L, 0.07246376811594203),\n",
       "  (9072L, 0.06793478260869565)],\n",
       " [(4689460L, 0.832829525483304),\n",
       "  (32388L, 0.08611599297012303),\n",
       "  (1147963L, 0.08105448154657294)],\n",
       " [(41188263L, 0.9756417462994191),\n",
       "  (69802L, 0.020704515645493724),\n",
       "  (14256525L, 0.0036537380550871277)]]"
      ]
     },
     "execution_count": 56,
     "metadata": {},
     "output_type": "execute_result"
    }
   ],
   "source": [
    "C"
   ]
  },
  {
   "cell_type": "code",
   "execution_count": 57,
   "metadata": {
    "collapsed": false
   },
   "outputs": [
    {
     "data": {
      "text/plain": [
       "[[0.8596014492753623, 0.07246376811594203, 0.06793478260869565],\n",
       " [0.832829525483304, 0.08611599297012303, 0.08105448154657294],\n",
       " [0.9756417462994191, 0.020704515645493724, 0.0036537380550871277]]"
      ]
     },
     "execution_count": 57,
     "metadata": {},
     "output_type": "execute_result"
    }
   ],
   "source": [
    "P"
   ]
  },
  {
   "cell_type": "code",
   "execution_count": 59,
   "metadata": {
    "collapsed": false
   },
   "outputs": [],
   "source": [
    "candslist_scores = keyentity_candidate_scores (C, 2, 'rvspagerank')\n"
   ]
  },
  {
   "cell_type": "code",
   "execution_count": 60,
   "metadata": {
    "collapsed": false
   },
   "outputs": [
    {
     "data": {
      "text/plain": [
       "[[0.001174372174606475, 0.0037221146953908546, 0.0047282469141722849],\n",
       " [0.00063437507797992065, 0.0035522030849486352, 5.8933795464732874e-05],\n",
       " [1.0, 0.41021351318373545, 0.025304591296502088]]"
      ]
     },
     "execution_count": 60,
     "metadata": {},
     "output_type": "execute_result"
    }
   ],
   "source": [
    "candslist_scores"
   ]
  },
  {
   "cell_type": "code",
   "execution_count": null,
   "metadata": {
    "collapsed": true
   },
   "outputs": [],
   "source": []
  }
 ],
 "metadata": {
  "anaconda-cloud": {},
  "kernelspec": {
   "display_name": "Python [default]",
   "language": "python",
   "name": "python2"
  },
  "language_info": {
   "codemirror_mode": {
    "name": "ipython",
    "version": 2
   },
   "file_extension": ".py",
   "mimetype": "text/x-python",
   "name": "python",
   "nbconvert_exporter": "python",
   "pygments_lexer": "ipython2",
   "version": "2.7.13"
  }
 },
 "nbformat": 4,
 "nbformat_minor": 0
}
