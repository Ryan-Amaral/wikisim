{
 "cells": [
  {
   "cell_type": "code",
   "execution_count": 7,
   "metadata": {
    "collapsed": false
   },
   "outputs": [],
   "source": [
    "from wikipedia import *\n",
    "\n",
    "#anchor2concept('I')"
   ]
  },
  {
   "cell_type": "code",
   "execution_count": null,
   "metadata": {
    "collapsed": false
   },
   "outputs": [],
   "source": [
    "from wikipedia import *\n",
    "anchor2concept('I')"
   ]
  },
  {
   "cell_type": "code",
   "execution_count": null,
   "metadata": {
    "collapsed": false
   },
   "outputs": [],
   "source": [
    "id2title(2172378L)"
   ]
  },
  {
   "cell_type": "markdown",
   "metadata": {},
   "source": [
    "```curl -X POST \\\n",
    "  'http://localhost:8983/solr/geonames/tag?overlaps=NO_SUB&tagsLimit=5000&fl=id,name,countrycode&wt=json&indent=on' \\\n",
    "  -H 'Content-Type:text/plain' -d 'Hello New York City'```\n",
    " "
   ]
  },
  {
   "cell_type": "code",
   "execution_count": 5,
   "metadata": {
    "collapsed": false
   },
   "outputs": [
    {
     "name": "stdout",
     "output_type": "stream",
     "text": [
      "{u'tagsCount': 4, u'responseHeader': {u'status': 0, u'QTime': 17}, u'response': {u'start': 0, u'numFound': 52, u'docs': [{}, {}, {}, {}, {}, {}, {}, {}, {}, {}, {}, {}, {}, {}, {}, {}, {}, {}, {}, {}, {}, {}, {}, {}, {}, {}, {}, {}, {}, {}, {}, {}, {}, {}, {}, {}, {}, {}, {}, {}, {}, {}, {}, {}, {}, {}, {}, {}, {}, {}, {}, {}]}, u'tags': [[u'startOffset', 0, u'endOffset', 1, u'ids', [u\"I's\", u'I', u'^I', u'\"I\"', u'[I', u'\\u2203I', u'I`', u'I^', u'I ...', u'I \\u2665', u'I \\u2665...', u'I-', u'I,', u'I:', u'I.', u\"I'\", u'I\\xa3', u'I*', u'I++', u'I\\u2032', u'I\\u2665...', u'\\xcd', u'\\xcc', u'\\u012c', u'\\xce', u'\\u01cf', u'\\xcf', u'\\u1e2e', u'\\xcf\\xbb\\xbf', u'\\u0128', u'\\u012e', u'\\u012a', u'\\u1ec8', u'\\u0208', u'\\u020a', u'\\u1eca', u'\\u1e2c', u'\\u0130', u'\\xcf\\xbf\\xbd', u'\\xa0I\\xa0']], [u'startOffset', 2, u'endOffset', 5, u'ids', [u'met']], [u'startOffset', 6, u'endOffset', 11, u'ids', [u\"David's\", u'David\\u2019s', u'David', u'\"David', u'\"David\"', u'David)', u'D\\xe1vid', u'Dav\\xedd', u'Davi\\xf0', u'Dav\\xed\\xf0']], [u'startOffset', 12, u'endOffset', 20, u'ids', [u'in Spain']]]}\n"
     ]
    }
   ],
   "source": [
    "import requests\n",
    "qstr = 'http://localhost:8983/solr/enwikianchors20160305/tag'\n",
    "q='I met David in Spain'\n",
    "params={'overlaps':'ALL', 'tagsLimit':'5000', 'fl':'id','wt':'json','indent':'on'}\n",
    "r = requests.post(qstr, params=params, data=q)\n",
    "#r =  r.json()['response']['docs'][0]\n",
    "print r.json()"
   ]
  },
  {
   "cell_type": "code",
   "execution_count": 1,
   "metadata": {
    "collapsed": false
   },
   "outputs": [
    {
     "name": "stdout",
     "output_type": "stream",
     "text": [
      "{\n",
      "  \"responseHeader\":{\n",
      "    \"status\":0,\n",
      "    \"QTime\":2},\n",
      "  \"tagsCount\":4,\n",
      "  \"tags\":[[\n",
      "      \"startOffset\",0,\n",
      "      \"endOffset\",1,\n",
      "      \"ids\",[\"I's\",\n",
      "        \"I\",\n",
      "        \"^I\",\n",
      "        \"\\\"I\\\"\",\n",
      "        \"[I\",\n",
      "        \"∃I\",\n",
      "        \"I`\",\n",
      "        \"I^\",\n",
      "        \"I ...\",\n",
      "        \"I ♥\",\n",
      "        \"I ♥...\",\n",
      "        \"I-\",\n",
      "        \"I,\",\n",
      "        \"I:\",\n",
      "        \"I.\",\n",
      "        \"I'\",\n",
      "        \"I£\",\n",
      "        \"I*\",\n",
      "        \"I++\",\n",
      "        \"I′\",\n",
      "        \"I♥...\",\n",
      "        \"Í\",\n",
      "        \"Ì\",\n",
      "        \"Ĭ\",\n",
      "        \"Î\",\n",
      "        \"Ǐ\",\n",
      "        \"Ï\",\n",
      "        \"Ḯ\",\n",
      "        \"Ï»¿\",\n",
      "        \"Ĩ\",\n",
      "        \"Į\",\n",
      "        \"Ī\",\n",
      "        \"Ỉ\",\n",
      "        \"Ȉ\",\n",
      "        \"Ȋ\",\n",
      "        \"Ị\",\n",
      "        \"Ḭ\",\n",
      "        \"İ\",\n",
      "        \"Ï¿½\",\n",
      "        \" I \"]],\n",
      "    [\n",
      "      \"startOffset\",2,\n",
      "      \"endOffset\",5,\n",
      "      \"ids\",[\"met\"]],\n",
      "    [\n",
      "      \"startOffset\",6,\n",
      "      \"endOffset\",11,\n",
      "      \"ids\",[\"David's\",\n",
      "        \"David’s\",\n",
      "        \"David\",\n",
      "        \"\\\"David\",\n",
      "        \"\\\"David\\\"\",\n",
      "        \"David)\",\n",
      "        \"Dávid\",\n",
      "        \"Davíd\",\n",
      "        \"Davið\",\n",
      "        \"Davíð\"]],\n",
      "    [\n",
      "      \"startOffset\",12,\n",
      "      \"endOffset\",14,\n",
      "      \"ids\",[\"in\",\n",
      "        \"-in\",\n",
      "        \".in\",\n",
      "        \"'in\",\n",
      "        \"in-\",\n",
      "        \"in.\",\n",
      "        \"in²\"]]],\n",
      "  \"response\":{\"numFound\":58,\"start\":0,\"docs\":[\n",
      "      {},\n",
      "      {},\n",
      "      {},\n",
      "      {},\n",
      "      {},\n",
      "      {},\n",
      "      {},\n",
      "      {},\n",
      "      {},\n",
      "      {},\n",
      "      {},\n",
      "      {},\n",
      "      {},\n",
      "      {},\n",
      "      {},\n",
      "      {},\n",
      "      {},\n",
      "      {},\n",
      "      {},\n",
      "      {},\n",
      "      {},\n",
      "      {},\n",
      "      {},\n",
      "      {},\n",
      "      {},\n",
      "      {},\n",
      "      {},\n",
      "      {},\n",
      "      {},\n",
      "      {},\n",
      "      {},\n",
      "      {},\n",
      "      {},\n",
      "      {},\n",
      "      {},\n",
      "      {},\n",
      "      {},\n",
      "      {},\n",
      "      {},\n",
      "      {},\n",
      "      {},\n",
      "      {},\n",
      "      {},\n",
      "      {},\n",
      "      {},\n",
      "      {},\n",
      "      {},\n",
      "      {},\n",
      "      {},\n",
      "      {},\n",
      "      {},\n",
      "      {},\n",
      "      {},\n",
      "      {},\n",
      "      {},\n",
      "      {},\n",
      "      {},\n",
      "      {}]\n",
      "  }}\n"
     ]
    },
    {
     "name": "stderr",
     "output_type": "stream",
     "text": [
      "  % Total    % Received % Xferd  Average Speed   Time    Time     Time  Current\n",
      "                                 Dload  Upload   Total   Spent    Left  Speed\n",
      "\r",
      "  0     0    0     0    0     0      0      0 --:--:-- --:--:-- --:--:--     0\r",
      "100  1870  100  1851  100    19   311k   3275 --:--:-- --:--:-- --:--:--  361k\n"
     ]
    }
   ],
   "source": [
    "%%bash\n",
    "curl -X POST \\\n",
    "  'http://localhost:8983/solr/enwikianchors20160305/tag?overlaps=NO_SUB&tagsLimit=5000&fl=id&wt=json&indent=on' \\\n",
    "  -H 'Content-Type:text/plain' -d 'I met David in Spai'"
   ]
  },
  {
   "cell_type": "code",
   "execution_count": null,
   "metadata": {
    "collapsed": true
   },
   "outputs": [],
   "source": []
  }
 ],
 "metadata": {
  "anaconda-cloud": {},
  "kernelspec": {
   "display_name": "Python [default]",
   "language": "python",
   "name": "python2"
  },
  "language_info": {
   "codemirror_mode": {
    "name": "ipython",
    "version": 2
   },
   "file_extension": ".py",
   "mimetype": "text/x-python",
   "name": "python",
   "nbconvert_exporter": "python",
   "pygments_lexer": "ipython2",
   "version": "2.7.13"
  }
 },
 "nbformat": 4,
 "nbformat_minor": 0
}
