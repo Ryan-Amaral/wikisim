{
 "cells": [
  {
   "cell_type": "code",
   "execution_count": 3,
   "metadata": {},
   "outputs": [],
   "source": [
    "from calcsim import *"
   ]
  },
  {
   "cell_type": "code",
   "execution_count": 15,
   "metadata": {},
   "outputs": [
    {
     "ename": "NameError",
     "evalue": "global name 'method' is not defined",
     "output_type": "error",
     "traceback": [
      "\u001b[0;31m---------------------------------------------------------------------------\u001b[0m",
      "\u001b[0;31mNameError\u001b[0m                                 Traceback (most recent call last)",
      "\u001b[0;32m<ipython-input-15-60329b47e023>\u001b[0m in \u001b[0;36m<module>\u001b[0;34m()\u001b[0m\n\u001b[0;32m----> 1\u001b[0;31m \u001b[0mgetembed_file\u001b[0m\u001b[0;34m(\u001b[0m\u001b[0minfilename\u001b[0m\u001b[0;34m=\u001b[0m\u001b[0;34m'/users/grad/sajadi/backup/projects/wikisim/datasets/similarity/MC_28-edited.csv'\u001b[0m\u001b[0;34m,\u001b[0m \u001b[0moutfilename\u001b[0m\u001b[0;34m=\u001b[0m\u001b[0;34m'../out/tmp/1522778339256-29-edited.out.csv'\u001b[0m\u001b[0;34m,\u001b[0m \u001b[0mdirection\u001b[0m\u001b[0;34m=\u001b[0m\u001b[0;36m1\u001b[0m\u001b[0;34m,\u001b[0m \u001b[0mget_titles\u001b[0m\u001b[0;34m=\u001b[0m\u001b[0mTrue\u001b[0m\u001b[0;34m,\u001b[0m \u001b[0mcutoff\u001b[0m\u001b[0;34m=\u001b[0m\u001b[0;36m20\u001b[0m\u001b[0;34m)\u001b[0m\u001b[0;34m\u001b[0m\u001b[0m\n\u001b[0m",
      "\u001b[0;32m/raid6/user/sajadi/projects/wikisim/wikisim/calcsim.pyc\u001b[0m in \u001b[0;36mgetembed_file\u001b[0;34m(infilename, outfilename, direction, get_titles, cutoff)\u001b[0m\n\u001b[1;32m    304\u001b[0m     \u001b[0mscores\u001b[0m\u001b[0;34m=\u001b[0m\u001b[0;34m[\u001b[0m\u001b[0;34m]\u001b[0m\u001b[0;34m;\u001b[0m\u001b[0;34m\u001b[0m\u001b[0m\n\u001b[1;32m    305\u001b[0m     \u001b[0;32mfor\u001b[0m \u001b[0mrow\u001b[0m \u001b[0;32min\u001b[0m \u001b[0mdsdata\u001b[0m\u001b[0;34m.\u001b[0m\u001b[0mitertuples\u001b[0m\u001b[0;34m(\u001b[0m\u001b[0;34m)\u001b[0m\u001b[0;34m:\u001b[0m\u001b[0;34m\u001b[0m\u001b[0m\n\u001b[0;32m--> 306\u001b[0;31m         \u001b[0mwid\u001b[0m \u001b[0;34m=\u001b[0m \u001b[0mencode_entity\u001b[0m\u001b[0;34m(\u001b[0m\u001b[0mrow\u001b[0m\u001b[0;34m[\u001b[0m\u001b[0;36m1\u001b[0m\u001b[0;34m]\u001b[0m\u001b[0;34m,\u001b[0m \u001b[0mmethod\u001b[0m\u001b[0;34m,\u001b[0m \u001b[0mget_id\u001b[0m\u001b[0;34m=\u001b[0m\u001b[0mTrue\u001b[0m\u001b[0;34m)\u001b[0m\u001b[0;34m\u001b[0m\u001b[0m\n\u001b[0m\u001b[1;32m    307\u001b[0m         \u001b[0;32mif\u001b[0m \u001b[0mwid\u001b[0m \u001b[0;32mis\u001b[0m \u001b[0mNone\u001b[0m\u001b[0;34m:\u001b[0m\u001b[0;34m\u001b[0m\u001b[0m\n\u001b[1;32m    308\u001b[0m             \u001b[0mem\u001b[0m\u001b[0;34m=\u001b[0m\u001b[0mpd\u001b[0m\u001b[0;34m.\u001b[0m\u001b[0mSeries\u001b[0m\u001b[0;34m(\u001b[0m\u001b[0;34m)\u001b[0m\u001b[0;34m;\u001b[0m\u001b[0;34m\u001b[0m\u001b[0m\n",
      "\u001b[0;31mNameError\u001b[0m: global name 'method' is not defined"
     ]
    }
   ],
   "source": [
    "getembed_file(infilename='/users/grad/sajadi/backup/projects/wikisim/datasets/similarity/MC_28-edited.csv', outfilename='../out/tmp/1522778339256-29-edited.out.csv', direction=1, get_titles=True, cutoff=20)"
   ]
  },
  {
   "cell_type": "code",
   "execution_count": 14,
   "metadata": {},
   "outputs": [
    {
     "data": {
      "text/plain": [
       "([1.0,\n",
       "  0.51585016562741504,\n",
       "  1.0000000000000002,\n",
       "  1.0000000000000007,\n",
       "  0.8884813922059388,\n",
       "  0.40582648876846572,\n",
       "  1.0,\n",
       "  1.0000000000000002,\n",
       "  0.036421519031764049,\n",
       "  0.35227148448622314,\n",
       "  0.015188708000119511,\n",
       "  0.37012808593288171,\n",
       "  0.99999999999999967,\n",
       "  0.00032095691282774119,\n",
       "  0.0072500887126738522,\n",
       "  0.0030099771633987915,\n",
       "  0.023376210583994972,\n",
       "  0.0044635414746596602,\n",
       "  0.0048007173770354683,\n",
       "  0.010564887106585097,\n",
       "  0.0027811769291322674,\n",
       "  0.0027740076029112437,\n",
       "  0.0040142096420825446,\n",
       "  0.00029929816733920145,\n",
       "  9.4163155594517711e-05,\n",
       "  0.00017954878509307548,\n",
       "  0.0004813692519377577,\n",
       "  0.0],\n",
       " SpearmanrResult(correlation=0.89538546642511019, pvalue=1.256816471812102e-10))"
      ]
     },
     "execution_count": 14,
     "metadata": {},
     "output_type": "execute_result"
    }
   ],
   "source": [
    "getsim_file(infilename='/users/grad/sajadi/backup/projects/wikisim/datasets/similarity/MC_28-edited.csv', outfilename='../out/tmp/1522778339256-29-edited.out.csv', direction=1)"
   ]
  },
  {
   "cell_type": "code",
   "execution_count": 12,
   "metadata": {},
   "outputs": [
    {
     "name": "stdout",
     "output_type": "stream",
     "text": [
      "../out/tmp/1522778339256-29-edited.out.csv\r\n"
     ]
    }
   ],
   "source": [
    "ls ../out/tmp/1522778339256-29-edited.*"
   ]
  },
  {
   "cell_type": "code",
   "execution_count": null,
   "metadata": {},
   "outputs": [],
   "source": []
  }
 ],
 "metadata": {
  "anaconda-cloud": {},
  "kernelspec": {
   "display_name": "Python 2",
   "language": "python",
   "name": "python2"
  },
  "language_info": {
   "codemirror_mode": {
    "name": "ipython",
    "version": 2
   },
   "file_extension": ".py",
   "mimetype": "text/x-python",
   "name": "python",
   "nbconvert_exporter": "python",
   "pygments_lexer": "ipython2",
   "version": "2.7.14"
  }
 },
 "nbformat": 4,
 "nbformat_minor": 1
}
