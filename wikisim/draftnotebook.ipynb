{
 "cells": [
  {
   "cell_type": "code",
   "execution_count": 4,
   "metadata": {},
   "outputs": [],
   "source": [
    "import csv\n",
    "import re\n",
    "import pickle\n",
    "import pandas as pd\n",
    "\n",
    "def unescape(s):\n",
    "    \"\"\"\n",
    "        Unescape an sql escaped dump string\n",
    "    \"\"\"\n",
    "    to_sub=re.escape(\",'\\\\\\n\")\n",
    "    return re.sub('\\\\\\([%s])'%(to_sub,), r'\\g<1>', s).replace(r'\\0','\\0')\n",
    "        \n",
    "def read_embedding_file(filename, records_number):\n",
    "    ''' return a dictinoray {'id': embedding} where each embedding is itself \n",
    "        a panda series\n",
    "        Inputs:\n",
    "            filename: embedding file name\n",
    "            records_number: number of the records to be read                \n",
    "    '''\n",
    "    embeddings={}\n",
    "    with open(filename, 'rb') as f:\n",
    "        freader = csv.reader(f, delimiter=',', quotechar=\"'\")\n",
    "        for i in range(records_number):\n",
    "            row = freader.next()\n",
    "            embeddings[row[0]]= unescape(row[1])\n",
    "            #values, index = pickle.loads(unescape(row[1]))\n",
    "            #embeddings[row[0]]=pd.Series(values, index=index)\n",
    "    return embeddings\n",
    "    "
   ]
  },
  {
   "cell_type": "code",
   "execution_count": 21,
   "metadata": {},
   "outputs": [
    {
     "ename": "Error",
     "evalue": "new-line character seen in unquoted field - do you need to open the file in universal-newline mode?",
     "output_type": "error",
     "traceback": [
      "\u001b[0;31m---------------------------------------------------------------------------\u001b[0m",
      "\u001b[0;31mError\u001b[0m                                     Traceback (most recent call last)",
      "\u001b[0;32m<ipython-input-21-aed6c9dbb4f5>\u001b[0m in \u001b[0;36m<module>\u001b[0;34m()\u001b[0m\n\u001b[1;32m      5\u001b[0m \u001b[0;34m\u001b[0m\u001b[0m\n\u001b[1;32m      6\u001b[0m     \u001b[0mi\u001b[0m\u001b[0;34m=\u001b[0m\u001b[0;36m0\u001b[0m\u001b[0;34m\u001b[0m\u001b[0m\n\u001b[0;32m----> 7\u001b[0;31m     \u001b[0;32mfor\u001b[0m \u001b[0mrow\u001b[0m \u001b[0;32min\u001b[0m \u001b[0mfreader\u001b[0m\u001b[0;34m:\u001b[0m\u001b[0;34m\u001b[0m\u001b[0m\n\u001b[0m\u001b[1;32m      8\u001b[0m         \u001b[0membeddings\u001b[0m\u001b[0;34m[\u001b[0m\u001b[0mrow\u001b[0m\u001b[0;34m[\u001b[0m\u001b[0;36m0\u001b[0m\u001b[0;34m]\u001b[0m\u001b[0;34m]\u001b[0m\u001b[0;34m=\u001b[0m \u001b[0munescape\u001b[0m\u001b[0;34m(\u001b[0m\u001b[0mrow\u001b[0m\u001b[0;34m[\u001b[0m\u001b[0;36m1\u001b[0m\u001b[0;34m]\u001b[0m\u001b[0;34m)\u001b[0m\u001b[0;34m\u001b[0m\u001b[0m\n\u001b[1;32m      9\u001b[0m         \u001b[0mi\u001b[0m \u001b[0;34m+=\u001b[0m \u001b[0;36m1\u001b[0m\u001b[0;34m\u001b[0m\u001b[0m\n",
      "\u001b[0;31mError\u001b[0m: new-line character seen in unquoted field - do you need to open the file in universal-newline mode?"
     ]
    }
   ],
   "source": [
    "embeddings={}\n",
    "\n",
    "with open('/users/grad/sajadi/backup/tmp/pagelinkstest1.tsv', 'rb') as f:\n",
    "    freader = csv.reader(f, delimiter=',', quotechar=\"'\")\n",
    "    \n",
    "    i=0\n",
    "    for row in freader:\n",
    "        embeddings[row[0]]= unescape(row[1])\n",
    "        i += 1\n",
    "        #values, index = pickle.loads(unescape(row[1]))\n",
    "        #embeddings[row[0]]=pd.Series(values, index=index)\n"
   ]
  },
  {
   "cell_type": "code",
   "execution_count": 34,
   "metadata": {},
   "outputs": [
    {
     "ename": "Error",
     "evalue": "new-line character seen in unquoted field - do you need to open the file in universal-newline mode?",
     "output_type": "error",
     "traceback": [
      "\u001b[0;31m---------------------------------------------------------------------------\u001b[0m",
      "\u001b[0;31mError\u001b[0m                                     Traceback (most recent call last)",
      "\u001b[0;32m<ipython-input-34-a4c62f605697>\u001b[0m in \u001b[0;36m<module>\u001b[0;34m()\u001b[0m\n\u001b[1;32m      1\u001b[0m \u001b[0mfilename\u001b[0m \u001b[0;34m=\u001b[0m \u001b[0;34m'/users/grad/sajadi/backup/tmp/pagelinksorderedout.csv'\u001b[0m\u001b[0;34m\u001b[0m\u001b[0m\n\u001b[0;32m----> 2\u001b[0;31m \u001b[0membeddings\u001b[0m \u001b[0;34m=\u001b[0m \u001b[0mread_embedding_file\u001b[0m \u001b[0;34m(\u001b[0m\u001b[0mfilename\u001b[0m\u001b[0;34m,\u001b[0m\u001b[0;36m5\u001b[0m\u001b[0;34m)\u001b[0m\u001b[0;34m\u001b[0m\u001b[0m\n\u001b[0m",
      "\u001b[0;32m<ipython-input-18-ca450f8b9d7a>\u001b[0m in \u001b[0;36mread_embedding_file\u001b[0;34m(filename, records_number)\u001b[0m\n\u001b[1;32m     22\u001b[0m         \u001b[0mfreader\u001b[0m \u001b[0;34m=\u001b[0m \u001b[0mcsv\u001b[0m\u001b[0;34m.\u001b[0m\u001b[0mreader\u001b[0m\u001b[0;34m(\u001b[0m\u001b[0mf\u001b[0m\u001b[0;34m,\u001b[0m \u001b[0mdelimiter\u001b[0m\u001b[0;34m=\u001b[0m\u001b[0;34m','\u001b[0m\u001b[0;34m,\u001b[0m \u001b[0mquotechar\u001b[0m\u001b[0;34m=\u001b[0m\u001b[0;34m\"'\"\u001b[0m\u001b[0;34m)\u001b[0m\u001b[0;34m\u001b[0m\u001b[0m\n\u001b[1;32m     23\u001b[0m         \u001b[0;32mfor\u001b[0m \u001b[0mi\u001b[0m \u001b[0;32min\u001b[0m \u001b[0mrange\u001b[0m\u001b[0;34m(\u001b[0m\u001b[0mrecords_number\u001b[0m\u001b[0;34m)\u001b[0m\u001b[0;34m:\u001b[0m\u001b[0;34m\u001b[0m\u001b[0m\n\u001b[0;32m---> 24\u001b[0;31m             \u001b[0mrow\u001b[0m \u001b[0;34m=\u001b[0m \u001b[0mfreader\u001b[0m\u001b[0;34m.\u001b[0m\u001b[0mnext\u001b[0m\u001b[0;34m(\u001b[0m\u001b[0;34m)\u001b[0m\u001b[0;34m\u001b[0m\u001b[0m\n\u001b[0m\u001b[1;32m     25\u001b[0m             \u001b[0membeddings\u001b[0m\u001b[0;34m[\u001b[0m\u001b[0mrow\u001b[0m\u001b[0;34m[\u001b[0m\u001b[0;36m0\u001b[0m\u001b[0;34m]\u001b[0m\u001b[0;34m]\u001b[0m\u001b[0;34m=\u001b[0m \u001b[0munescape\u001b[0m\u001b[0;34m(\u001b[0m\u001b[0mrow\u001b[0m\u001b[0;34m[\u001b[0m\u001b[0;36m1\u001b[0m\u001b[0;34m]\u001b[0m\u001b[0;34m)\u001b[0m\u001b[0;34m\u001b[0m\u001b[0m\n\u001b[1;32m     26\u001b[0m             \u001b[0;31m#values, index = pickle.loads(unescape(row[1]))\u001b[0m\u001b[0;34m\u001b[0m\u001b[0;34m\u001b[0m\u001b[0m\n",
      "\u001b[0;31mError\u001b[0m: new-line character seen in unquoted field - do you need to open the file in universal-newline mode?"
     ]
    }
   ],
   "source": [
    "filename = '/users/grad/sajadi/backup/tmp/pagelinksorderedout.csv'\n",
    "embeddings = read_embedding_file (filename,5)"
   ]
  },
  {
   "cell_type": "code",
   "execution_count": 20,
   "metadata": {},
   "outputs": [],
   "source": [
    "import MySQLdb\n",
    "tablename = 'pagelinksorderedout';\n",
    "colname = 'out_neighb'\n",
    "\n",
    "_db = MySQLdb.connect(host=\"127.0.0.1\",port=3307,user='root',passwd=\"emilios\",db=\"enwiki20160305\")\n",
    "_cursor = _db.cursor()\n",
    "db_embeddings ={}\n",
    "#tablename = 'pagelinksorderedout';\n",
    "#colname = 'out_neighb';\n",
    "for wid in embeddings.keys():\n",
    "    query =    \"\"\"select {0} from {1} where cache_id={2}\"\"\".format(colname, tablename, wid)\n",
    "    _cursor.execute(query);\n",
    "    row = _cursor.fetchone();\n",
    "    db_embeddings[wid] = row[0]\n",
    "\n",
    "#     values, index = pickle.loads(row[0])\n",
    "#     em=pd.Series(values, index=index)\n",
    "#     db_embeddings[wid] = em\n",
    "    "
   ]
  },
  {
   "cell_type": "code",
   "execution_count": 22,
   "metadata": {},
   "outputs": [
    {
     "data": {
      "text/plain": [
       "{'3632887': '\\x80\\x02]q\\x01(G?\\xd4#0\\xdb\\xca3WG?\\x80+\\x1d\\xa4a\\x02\\xb3G?\\x8aeX\\xe1k\\xa5QG?\\xc7\\xa8\\x19\\x02\\x90m\\x86G?\\x8aeX\\xe1k\\xa5QG?\\x80+\\x1d\\xa4a\\x02\\xb3G?\\x80+\\x1d\\xa4a\\x02\\xb3G?\\xae\\xeb:\\x9e6#YG?\\xaaE\\xafH\\xcb\\xb8nG?\\x84\\xbf\\xdd\\x81\\xe2\\xe5\\x99G?\\x80+\\x1d\\xa4a\\x02\\xb3G?\\x9bU\\xcd)\\xf2\\r{G?\\x80+\\x1d\\xa4a\\x02\\xb3G?\\x87\\n=p\\xa3\\xd7\\x0cG?\\x80+\\x1d\\xa4a\\x02\\xb3G?\\xb6\\xaeW\\xf2?\\xe0<G?\\x80+\\x1d\\xa4a\\x02\\xb3G?\\x9er\\t\\x0c\\x17\\xc9\\x8aG?\\xc2\\x18\\xfaH\\xf988e]q\\x02(J\\xf7n7\\x00M\\xcaIM\\xf2XM\\xe6\\xfbJ\\x91\\xa5\\x02\\x00J\\xb9\\xcb\\x05\\x00JH\\xbd\\x07\\x00J\\xa8*\\t\\x00J\\xff\\x91\\n\\x00JQ\\xbb\\x11\\x00J\\x03\\xec\\x12\\x00J\\x9ey\\x19\\x00J\\x1bI\\x1d\\x00J\\x95y9\\x00J3\\xf2J\\x00J\\xf2\\xafu\\x00J\\xbe*\\xa2\\x01JX\\xe4\\xd6\\x01Jz\\x1bR\\x02e\\x86.'}"
      ]
     },
     "execution_count": 22,
     "metadata": {},
     "output_type": "execute_result"
    }
   ],
   "source": [
    "embeddings"
   ]
  },
  {
   "cell_type": "code",
   "execution_count": 23,
   "metadata": {},
   "outputs": [
    {
     "data": {
      "text/plain": [
       "True"
      ]
     },
     "execution_count": 23,
     "metadata": {},
     "output_type": "execute_result"
    }
   ],
   "source": [
    "embeddings == db_embeddings"
   ]
  },
  {
   "cell_type": "code",
   "execution_count": 33,
   "metadata": {},
   "outputs": [],
   "source": [
    "A = {3:5, 6:4, 7:1, -11:1}\n",
    "B = {7:1, -11:1, 6:4, 3:5}"
   ]
  },
  {
   "cell_type": "code",
   "execution_count": 32,
   "metadata": {},
   "outputs": [
    {
     "data": {
      "text/plain": [
       "{-11: 1, 3: 5, 6: 4, 7: 1}"
      ]
     },
     "execution_count": 32,
     "metadata": {},
     "output_type": "execute_result"
    }
   ],
   "source": []
  },
  {
   "cell_type": "code",
   "execution_count": null,
   "metadata": {},
   "outputs": [],
   "source": []
  }
 ],
 "metadata": {
  "anaconda-cloud": {},
  "kernelspec": {
   "display_name": "Python 2",
   "language": "python",
   "name": "python2"
  },
  "language_info": {
   "codemirror_mode": {
    "name": "ipython",
    "version": 2
   },
   "file_extension": ".py",
   "mimetype": "text/x-python",
   "name": "python",
   "nbconvert_exporter": "python",
   "pygments_lexer": "ipython2",
   "version": "2.7.15"
  }
 },
 "nbformat": 4,
 "nbformat_minor": 1
}
