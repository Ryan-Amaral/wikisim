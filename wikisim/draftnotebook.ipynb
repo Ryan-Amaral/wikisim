{
 "cells": [
  {
   "cell_type": "code",
   "execution_count": 1,
   "metadata": {
    "collapsed": false
   },
   "outputs": [],
   "source": [
    "sys.path.insert(0,'..')\n",
    "from wikipedia import *\n",
    "\n",
    "#anchor2concept('I')"
   ]
  },
  {
   "cell_type": "code",
   "execution_count": null,
   "metadata": {
    "collapsed": false
   },
   "outputs": [],
   "source": [
    "id2title(2172378L)"
   ]
  },
  {
   "cell_type": "markdown",
   "metadata": {},
   "source": [
    "```curl -X POST \\\n",
    "  'http://localhost:8983/solr/geonames/tag?overlaps=NO_SUB&tagsLimit=5000&fl=id,name,countrycode&wt=json&indent=on' \\\n",
    "  -H 'Content-Type:text/plain' -d 'Hello New York City'```\n",
    " "
   ]
  },
  {
   "cell_type": "code",
   "execution_count": 7,
   "metadata": {
    "collapsed": false
   },
   "outputs": [
    {
     "name": "stdout",
     "output_type": "stream",
     "text": [
      "[u'startOffset', 6, u'endOffset', 11, u'ids', [u\"David's\", u'David\\u2019s', u'David', u'\"David', u'\"David\"', u'David)', u'D\\xe1vid', u'Dav\\xedd', u'Davi\\xf0', u'Dav\\xed\\xf0']]\n"
     ]
    }
   ],
   "source": [
    "import requests\n",
    "qstr = 'http://localhost:8983/solr/enwikianchors20160305/tag'\n",
    "q='I met David in Spain'\n",
    "params={'overlaps':'NO_SUB', 'tagsLimit':'5000', 'fl':'id','wt':'json','indent':'on'}\n",
    "r = requests.post(qstr, params=params, data=q)\n",
    "#r =  r.json()['response']['docs'][0]\n",
    "print r.json()['tags'][2]"
   ]
  },
  {
   "cell_type": "code",
   "execution_count": null,
   "metadata": {
    "collapsed": false
   },
   "outputs": [],
   "source": [
    "%%bash\n",
    "curl -X POST \\\n",
    "  'http://localhost:8983/solr/enwikianchors20160305/tag?overlaps=NO_SUB&tagsLimit=5000&fl=id&wt=json&indent=on' \\\n",
    "  -H 'Content-Type:text/plain' -d 'I met David in Spai'"
   ]
  },
  {
   "cell_type": "code",
   "execution_count": null,
   "metadata": {
    "collapsed": true
   },
   "outputs": [],
   "source": [
    "I met David in us eating Shrimp\n",
    "David --> David\n",
    "US --> https://en.wikipedia.org/wiki/United_States/United_States\n",
    "Shrimp --> Shrimp"
   ]
  },
  {
   "cell_type": "code",
   "execution_count": 8,
   "metadata": {
    "collapsed": false
   },
   "outputs": [
    {
     "data": {
      "text/plain": [
       "((4321L, 1L),\n",
       " (7770L, 5L),\n",
       " (30806L, 105L),\n",
       " (41413L, 3L),\n",
       " (41821L, 21L),\n",
       " (48560L, 145L),\n",
       " (51257L, 2L),\n",
       " (66986L, 1L),\n",
       " (75629L, 1L),\n",
       " (118404L, 2L),\n",
       " (149326L, 11L),\n",
       " (169269L, 1L),\n",
       " (170744L, 1L),\n",
       " (171837L, 1L),\n",
       " (174387L, 1L),\n",
       " (228192L, 1L),\n",
       " (232602L, 1L),\n",
       " (250074L, 1L),\n",
       " (267355L, 4L),\n",
       " (301778L, 1L),\n",
       " (332042L, 1L),\n",
       " (341027L, 1L),\n",
       " (344630L, 1L),\n",
       " (431030L, 1L),\n",
       " (577097L, 1L),\n",
       " (630251L, 2L),\n",
       " (670346L, 1L),\n",
       " (704160L, 11L),\n",
       " (844292L, 1L),\n",
       " (1406274L, 1L),\n",
       " (1902795L, 2L),\n",
       " (2190732L, 10L),\n",
       " (2383614L, 2L),\n",
       " (3792982L, 2L),\n",
       " (4024947L, 1L),\n",
       " (5854695L, 1L),\n",
       " (6373390L, 3L),\n",
       " (12841891L, 1L),\n",
       " (14794017L, 1L),\n",
       " (18955875L, 3452L),\n",
       " (25964238L, 1L))"
      ]
     },
     "execution_count": 8,
     "metadata": {},
     "output_type": "execute_result"
    }
   ],
   "source": [
    "I hate tree\n",
    "tree --> https://en.wikipedia.org/wiki/Tree_(data_structure)"
   ]
  },
  {
   "cell_type": "code",
   "execution_count": 9,
   "metadata": {
    "collapsed": false
   },
   "outputs": [
    {
     "data": {
      "text/plain": [
       "'Tree'"
      ]
     },
     "execution_count": 9,
     "metadata": {},
     "output_type": "execute_result"
    }
   ],
   "source": [
    "id2title(18955875L)"
   ]
  },
  {
   "cell_type": "code",
   "execution_count": null,
   "metadata": {
    "collapsed": true
   },
   "outputs": [],
   "source": []
  }
 ],
 "metadata": {
  "anaconda-cloud": {},
  "kernelspec": {
   "display_name": "Python 2",
   "language": "python",
   "name": "python2"
  },
  "language_info": {
   "codemirror_mode": {
    "name": "ipython",
    "version": 2
   },
   "file_extension": ".py",
   "mimetype": "text/x-python",
   "name": "python",
   "nbconvert_exporter": "python",
   "pygments_lexer": "ipython2",
   "version": "2.7.12"
  }
 },
 "nbformat": 4,
 "nbformat_minor": 0
}
