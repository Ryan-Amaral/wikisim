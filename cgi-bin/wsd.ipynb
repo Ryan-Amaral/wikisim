{
 "cells": [
  {
   "cell_type": "code",
   "execution_count": 40,
   "metadata": {
    "collapsed": false
   },
   "outputs": [
    {
     "name": "stdout",
     "output_type": "stream",
     "text": [
      "The autoreload extension is already loaded. To reload it, use:\n",
      "  %reload_ext autoreload\n",
      "(9402303L, 46902368L)\n",
      "223149\n",
      "46902368\n",
      "(', Iran', 'Bahman Hospital', 'Capital City', 'Greater Tehran Area', 'Iranmehr hospital', 'Loghman Hospital', 'Municipality of Tehran', 'North', 'North Tehran', 'Ray', 'Tahran', 'Teheran', 'Teheran, Iran', 'Tehran', 'Tehran A', 'Tehran City', 'Tehran XI', 'Tehran \\xe2\\x80\\x93', \"Tehran's\", 'Tehran, Iran', 'Tehran\\xe2\\x80\\x99s', 'Tehr\\xc4\\x81n', 'Tihran', 'Tihr\\xc3\\xa1n', 'air pollution', 'air pollution in Tehran', 'history', 'hometown', 'north')\n"
     ]
    }
   ],
   "source": [
    "#%%writefile wsd.py \n",
    "\"\"\" Evaluating the method on Semantic Relatedness Datasets.\"\"\"\n",
    "\n",
    "%load_ext autoreload\n",
    "%autoreload\n",
    "\n",
    "import os\n",
    "import time;\n",
    "\n",
    "        \n",
    "\n",
    "%aimport wikipedia\n",
    "%aimport calcsim\n",
    "from config import *\n",
    "from wikipedia import *\n",
    "print anchor2concept('Sanandaj')\n",
    "\n",
    "print title2id('Isfahan')\n",
    "print title2id('Sanandaj')\n",
    "print id2anchor(title2id('Tehran'))\n"
   ]
  },
  {
   "cell_type": "code",
   "execution_count": null,
   "metadata": {
    "collapsed": true
   },
   "outputs": [],
   "source": [
    "s=['I','saw','David', 'playing', 'soccer', 'in', 'worldcup']\n",
    "m=[2,4,6]\n",
    "for i in m:\n",
    "    query = s[i-2:i+2]\n"
   ]
  },
  {
   "cell_type": "code",
   "execution_count": 37,
   "metadata": {
    "collapsed": false
   },
   "outputs": [
    {
     "name": "stdout",
     "output_type": "stream",
     "text": [
      "http://localhost:8983/solr/enwiki20160305/select?indent=on&q=id:46902368&wt=json\n",
      "Sanandaj\n"
     ]
    }
   ],
   "source": [
    "from urllib2 import *\n",
    " \n",
    "qstr = 'http://localhost:8983/solr/enwiki20160305/select?indent=on&q=id:%s&wt=json'\n",
    "q = qstr % (46902368L,)\n",
    "conn = urlopen(q)\n",
    "response = json.loads(conn.read())\n",
    "print q\n",
    "print response['response']['docs'][0]['title']\n"
   ]
  },
  {
   "cell_type": "code",
   "execution_count": 47,
   "metadata": {
    "collapsed": false
   },
   "outputs": [],
   "source": [
    "ids=[\"46902368\",\"9402303\",\"223149\"]\n",
    "m=[\"is\", \"a\",\"city\",\"in\",\"kurdistan\"]"
   ]
  },
  {
   "cell_type": "code",
   "execution_count": 52,
   "metadata": {
    "collapsed": false
   },
   "outputs": [
    {
     "name": "stdout",
     "output_type": "stream",
     "text": [
      "http://localhost:8983/solr/enwiki20160305/select?indent=on&fl=id+score&q=id:(46902368 OR 9402303 OR 223149) AND text:(is OR a OR city OR in OR kurdistan)&wt=json\n"
     ]
    },
    {
     "ename": "HTTPError",
     "evalue": "HTTP Error 400: Unknown Version",
     "output_type": "error",
     "traceback": [
      "\u001b[1;31m---------------------------------------------------------------------------\u001b[0m",
      "\u001b[1;31mHTTPError\u001b[0m                                 Traceback (most recent call last)",
      "\u001b[1;32m<ipython-input-52-8dc20c104c1b>\u001b[0m in \u001b[0;36m<module>\u001b[1;34m()\u001b[0m\n\u001b[0;32m      5\u001b[0m \u001b[1;32mprint\u001b[0m \u001b[0mq\u001b[0m\u001b[1;33m\u001b[0m\u001b[0m\n\u001b[0;32m      6\u001b[0m \u001b[1;33m\u001b[0m\u001b[0m\n\u001b[1;32m----> 7\u001b[1;33m \u001b[0mconn\u001b[0m \u001b[1;33m=\u001b[0m \u001b[0murlopen\u001b[0m\u001b[1;33m(\u001b[0m\u001b[0mq\u001b[0m\u001b[1;33m)\u001b[0m\u001b[1;33m\u001b[0m\u001b[0m\n\u001b[0m\u001b[0;32m      8\u001b[0m \u001b[0mresponse\u001b[0m \u001b[1;33m=\u001b[0m \u001b[0mjson\u001b[0m\u001b[1;33m.\u001b[0m\u001b[0mloads\u001b[0m\u001b[1;33m(\u001b[0m\u001b[0mconn\u001b[0m\u001b[1;33m.\u001b[0m\u001b[0mread\u001b[0m\u001b[1;33m(\u001b[0m\u001b[1;33m)\u001b[0m\u001b[1;33m)\u001b[0m\u001b[1;33m\u001b[0m\u001b[0m\n\u001b[0;32m      9\u001b[0m \u001b[1;31m#print response['response']['docs'][0]['title']\u001b[0m\u001b[1;33m\u001b[0m\u001b[1;33m\u001b[0m\u001b[0m\n",
      "\u001b[1;32m/home/sajadi/anaconda2/lib/python2.7/urllib2.pyc\u001b[0m in \u001b[0;36murlopen\u001b[1;34m(url, data, timeout, cafile, capath, cadefault, context)\u001b[0m\n\u001b[0;32m    152\u001b[0m     \u001b[1;32melse\u001b[0m\u001b[1;33m:\u001b[0m\u001b[1;33m\u001b[0m\u001b[0m\n\u001b[0;32m    153\u001b[0m         \u001b[0mopener\u001b[0m \u001b[1;33m=\u001b[0m \u001b[0m_opener\u001b[0m\u001b[1;33m\u001b[0m\u001b[0m\n\u001b[1;32m--> 154\u001b[1;33m     \u001b[1;32mreturn\u001b[0m \u001b[0mopener\u001b[0m\u001b[1;33m.\u001b[0m\u001b[0mopen\u001b[0m\u001b[1;33m(\u001b[0m\u001b[0murl\u001b[0m\u001b[1;33m,\u001b[0m \u001b[0mdata\u001b[0m\u001b[1;33m,\u001b[0m \u001b[0mtimeout\u001b[0m\u001b[1;33m)\u001b[0m\u001b[1;33m\u001b[0m\u001b[0m\n\u001b[0m\u001b[0;32m    155\u001b[0m \u001b[1;33m\u001b[0m\u001b[0m\n\u001b[0;32m    156\u001b[0m \u001b[1;32mdef\u001b[0m \u001b[0minstall_opener\u001b[0m\u001b[1;33m(\u001b[0m\u001b[0mopener\u001b[0m\u001b[1;33m)\u001b[0m\u001b[1;33m:\u001b[0m\u001b[1;33m\u001b[0m\u001b[0m\n",
      "\u001b[1;32m/home/sajadi/anaconda2/lib/python2.7/urllib2.pyc\u001b[0m in \u001b[0;36mopen\u001b[1;34m(self, fullurl, data, timeout)\u001b[0m\n\u001b[0;32m    435\u001b[0m         \u001b[1;32mfor\u001b[0m \u001b[0mprocessor\u001b[0m \u001b[1;32min\u001b[0m \u001b[0mself\u001b[0m\u001b[1;33m.\u001b[0m\u001b[0mprocess_response\u001b[0m\u001b[1;33m.\u001b[0m\u001b[0mget\u001b[0m\u001b[1;33m(\u001b[0m\u001b[0mprotocol\u001b[0m\u001b[1;33m,\u001b[0m \u001b[1;33m[\u001b[0m\u001b[1;33m]\u001b[0m\u001b[1;33m)\u001b[0m\u001b[1;33m:\u001b[0m\u001b[1;33m\u001b[0m\u001b[0m\n\u001b[0;32m    436\u001b[0m             \u001b[0mmeth\u001b[0m \u001b[1;33m=\u001b[0m \u001b[0mgetattr\u001b[0m\u001b[1;33m(\u001b[0m\u001b[0mprocessor\u001b[0m\u001b[1;33m,\u001b[0m \u001b[0mmeth_name\u001b[0m\u001b[1;33m)\u001b[0m\u001b[1;33m\u001b[0m\u001b[0m\n\u001b[1;32m--> 437\u001b[1;33m             \u001b[0mresponse\u001b[0m \u001b[1;33m=\u001b[0m \u001b[0mmeth\u001b[0m\u001b[1;33m(\u001b[0m\u001b[0mreq\u001b[0m\u001b[1;33m,\u001b[0m \u001b[0mresponse\u001b[0m\u001b[1;33m)\u001b[0m\u001b[1;33m\u001b[0m\u001b[0m\n\u001b[0m\u001b[0;32m    438\u001b[0m \u001b[1;33m\u001b[0m\u001b[0m\n\u001b[0;32m    439\u001b[0m         \u001b[1;32mreturn\u001b[0m \u001b[0mresponse\u001b[0m\u001b[1;33m\u001b[0m\u001b[0m\n",
      "\u001b[1;32m/home/sajadi/anaconda2/lib/python2.7/urllib2.pyc\u001b[0m in \u001b[0;36mhttp_response\u001b[1;34m(self, request, response)\u001b[0m\n\u001b[0;32m    548\u001b[0m         \u001b[1;32mif\u001b[0m \u001b[1;32mnot\u001b[0m \u001b[1;33m(\u001b[0m\u001b[1;36m200\u001b[0m \u001b[1;33m<=\u001b[0m \u001b[0mcode\u001b[0m \u001b[1;33m<\u001b[0m \u001b[1;36m300\u001b[0m\u001b[1;33m)\u001b[0m\u001b[1;33m:\u001b[0m\u001b[1;33m\u001b[0m\u001b[0m\n\u001b[0;32m    549\u001b[0m             response = self.parent.error(\n\u001b[1;32m--> 550\u001b[1;33m                 'http', request, response, code, msg, hdrs)\n\u001b[0m\u001b[0;32m    551\u001b[0m \u001b[1;33m\u001b[0m\u001b[0m\n\u001b[0;32m    552\u001b[0m         \u001b[1;32mreturn\u001b[0m \u001b[0mresponse\u001b[0m\u001b[1;33m\u001b[0m\u001b[0m\n",
      "\u001b[1;32m/home/sajadi/anaconda2/lib/python2.7/urllib2.pyc\u001b[0m in \u001b[0;36merror\u001b[1;34m(self, proto, *args)\u001b[0m\n\u001b[0;32m    473\u001b[0m         \u001b[1;32mif\u001b[0m \u001b[0mhttp_err\u001b[0m\u001b[1;33m:\u001b[0m\u001b[1;33m\u001b[0m\u001b[0m\n\u001b[0;32m    474\u001b[0m             \u001b[0margs\u001b[0m \u001b[1;33m=\u001b[0m \u001b[1;33m(\u001b[0m\u001b[0mdict\u001b[0m\u001b[1;33m,\u001b[0m \u001b[1;34m'default'\u001b[0m\u001b[1;33m,\u001b[0m \u001b[1;34m'http_error_default'\u001b[0m\u001b[1;33m)\u001b[0m \u001b[1;33m+\u001b[0m \u001b[0morig_args\u001b[0m\u001b[1;33m\u001b[0m\u001b[0m\n\u001b[1;32m--> 475\u001b[1;33m             \u001b[1;32mreturn\u001b[0m \u001b[0mself\u001b[0m\u001b[1;33m.\u001b[0m\u001b[0m_call_chain\u001b[0m\u001b[1;33m(\u001b[0m\u001b[1;33m*\u001b[0m\u001b[0margs\u001b[0m\u001b[1;33m)\u001b[0m\u001b[1;33m\u001b[0m\u001b[0m\n\u001b[0m\u001b[0;32m    476\u001b[0m \u001b[1;33m\u001b[0m\u001b[0m\n\u001b[0;32m    477\u001b[0m \u001b[1;31m# XXX probably also want an abstract factory that knows when it makes\u001b[0m\u001b[1;33m\u001b[0m\u001b[1;33m\u001b[0m\u001b[0m\n",
      "\u001b[1;32m/home/sajadi/anaconda2/lib/python2.7/urllib2.pyc\u001b[0m in \u001b[0;36m_call_chain\u001b[1;34m(self, chain, kind, meth_name, *args)\u001b[0m\n\u001b[0;32m    407\u001b[0m             \u001b[0mfunc\u001b[0m \u001b[1;33m=\u001b[0m \u001b[0mgetattr\u001b[0m\u001b[1;33m(\u001b[0m\u001b[0mhandler\u001b[0m\u001b[1;33m,\u001b[0m \u001b[0mmeth_name\u001b[0m\u001b[1;33m)\u001b[0m\u001b[1;33m\u001b[0m\u001b[0m\n\u001b[0;32m    408\u001b[0m \u001b[1;33m\u001b[0m\u001b[0m\n\u001b[1;32m--> 409\u001b[1;33m             \u001b[0mresult\u001b[0m \u001b[1;33m=\u001b[0m \u001b[0mfunc\u001b[0m\u001b[1;33m(\u001b[0m\u001b[1;33m*\u001b[0m\u001b[0margs\u001b[0m\u001b[1;33m)\u001b[0m\u001b[1;33m\u001b[0m\u001b[0m\n\u001b[0m\u001b[0;32m    410\u001b[0m             \u001b[1;32mif\u001b[0m \u001b[0mresult\u001b[0m \u001b[1;32mis\u001b[0m \u001b[1;32mnot\u001b[0m \u001b[0mNone\u001b[0m\u001b[1;33m:\u001b[0m\u001b[1;33m\u001b[0m\u001b[0m\n\u001b[0;32m    411\u001b[0m                 \u001b[1;32mreturn\u001b[0m \u001b[0mresult\u001b[0m\u001b[1;33m\u001b[0m\u001b[0m\n",
      "\u001b[1;32m/home/sajadi/anaconda2/lib/python2.7/urllib2.pyc\u001b[0m in \u001b[0;36mhttp_error_default\u001b[1;34m(self, req, fp, code, msg, hdrs)\u001b[0m\n\u001b[0;32m    556\u001b[0m \u001b[1;32mclass\u001b[0m \u001b[0mHTTPDefaultErrorHandler\u001b[0m\u001b[1;33m(\u001b[0m\u001b[0mBaseHandler\u001b[0m\u001b[1;33m)\u001b[0m\u001b[1;33m:\u001b[0m\u001b[1;33m\u001b[0m\u001b[0m\n\u001b[0;32m    557\u001b[0m     \u001b[1;32mdef\u001b[0m \u001b[0mhttp_error_default\u001b[0m\u001b[1;33m(\u001b[0m\u001b[0mself\u001b[0m\u001b[1;33m,\u001b[0m \u001b[0mreq\u001b[0m\u001b[1;33m,\u001b[0m \u001b[0mfp\u001b[0m\u001b[1;33m,\u001b[0m \u001b[0mcode\u001b[0m\u001b[1;33m,\u001b[0m \u001b[0mmsg\u001b[0m\u001b[1;33m,\u001b[0m \u001b[0mhdrs\u001b[0m\u001b[1;33m)\u001b[0m\u001b[1;33m:\u001b[0m\u001b[1;33m\u001b[0m\u001b[0m\n\u001b[1;32m--> 558\u001b[1;33m         \u001b[1;32mraise\u001b[0m \u001b[0mHTTPError\u001b[0m\u001b[1;33m(\u001b[0m\u001b[0mreq\u001b[0m\u001b[1;33m.\u001b[0m\u001b[0mget_full_url\u001b[0m\u001b[1;33m(\u001b[0m\u001b[1;33m)\u001b[0m\u001b[1;33m,\u001b[0m \u001b[0mcode\u001b[0m\u001b[1;33m,\u001b[0m \u001b[0mmsg\u001b[0m\u001b[1;33m,\u001b[0m \u001b[0mhdrs\u001b[0m\u001b[1;33m,\u001b[0m \u001b[0mfp\u001b[0m\u001b[1;33m)\u001b[0m\u001b[1;33m\u001b[0m\u001b[0m\n\u001b[0m\u001b[0;32m    559\u001b[0m \u001b[1;33m\u001b[0m\u001b[0m\n\u001b[0;32m    560\u001b[0m \u001b[1;32mclass\u001b[0m \u001b[0mHTTPRedirectHandler\u001b[0m\u001b[1;33m(\u001b[0m\u001b[0mBaseHandler\u001b[0m\u001b[1;33m)\u001b[0m\u001b[1;33m:\u001b[0m\u001b[1;33m\u001b[0m\u001b[0m\n",
      "\u001b[1;31mHTTPError\u001b[0m: HTTP Error 400: Unknown Version"
     ]
    }
   ],
   "source": [
    "qstr = 'http://localhost:8983/solr/enwiki20160305/select?indent=on&fl=id+score&q=id:(%s) AND text:(%s)&wt=json'\n",
    "qid=\" OR \".join(ids)\n",
    "qm=\" OR \".join(m)\n",
    "q=qstr % (qid,qm)\n",
    "print q\n",
    "\n",
    "conn = urlopen(q)\n",
    "response = json.loads(conn.read())\n",
    "#print response['response']['docs'][0]['title']\n",
    "\n"
   ]
  },
  {
   "cell_type": "code",
   "execution_count": 113,
   "metadata": {
    "collapsed": false
   },
   "outputs": [
    {
     "name": "stdout",
     "output_type": "stream",
     "text": [
      "a    1\n",
      "b    2\n",
      "c    3\n",
      "d    4\n",
      "dtype: int64\n",
      "b    5\n",
      "e    6\n",
      "d    7\n",
      "f    8\n",
      "k    9\n",
      "dtype: int64\n"
     ]
    }
   ],
   "source": [
    "import pandas as pd\n",
    "from scipy.spatial.distance import cosine\n",
    "ts1=pd.Series([1,2,3,4],index=['a', 'b','c','d'])\n",
    "ts2=pd.Series([5,6,7,8,9],index=['b', 'e','d','f','k'])\n",
    "print ts1\n",
    "print ts2\n",
    "    "
   ]
  },
  {
   "cell_type": "code",
   "execution_count": 158,
   "metadata": {
    "collapsed": false
   },
   "outputs": [
    {
     "name": "stdout",
     "output_type": "stream",
     "text": [
      "1048\n",
      "1048\n",
      "1106\n",
      "(dp1\n",
      "cnumpy.core.multiarray\n",
      "scalar\n",
      "p2\n",
      "(cnumpy\n",
      "dtype\n",
      "p3\n",
      "(S'i8'\n",
      "I0\n",
      "I1\n",
      "tRp4\n",
      "(I3\n",
      "S'<'\n",
      "NNNI-1\n",
      "I-1\n",
      "I0\n",
      "tbS'\\n\\x00\\x00\\x00\\x00\\x00\\x00\\x00'\n",
      "tRp5\n",
      "g2\n",
      "(g4\n",
      "S'\\n\\x00\\x00\\x00\\x00\\x00\\x00\\x00'\n",
      "tRp6\n",
      "sg2\n",
      "(g4\n",
      "S'\\x0b\\x00\\x00\\x00\\x00\\x00\\x00\\x00'\n",
      "tRp7\n",
      "g2\n",
      "(g4\n",
      "S'\\x0b\\x00\\x00\\x00\\x00\\x00\\x00\\x00'\n",
      "tRp8\n",
      "sg2\n",
      "(g4\n",
      "S'\\x0c\\x00\\x00\\x00\\x00\\x00\\x00\\x00'\n",
      "tRp9\n",
      "g2\n",
      "(g4\n",
      "S'\\x0c\\x00\\x00\\x00\\x00\\x00\\x00\\x00'\n",
      "tRp10\n",
      "sg2\n",
      "(g4\n",
      "S'\\r\\x00\\x00\\x00\\x00\\x00\\x00\\x00'\n",
      "tRp11\n",
      "g2\n",
      "(g4\n",
      "S'\\r\\x00\\x00\\x00\\x00\\x00\\x00\\x00'\n",
      "tRp12\n",
      "sg2\n",
      "(g4\n",
      "S'\\x0e\\x00\\x00\\x00\\x00\\x00\\x00\\x00'\n",
      "tRp13\n",
      "g2\n",
      "(g4\n",
      "S'\\x0e\\x00\\x00\\x00\\x00\\x00\\x00\\x00'\n",
      "tRp14\n",
      "sg2\n",
      "(g4\n",
      "S'\\x0f\\x00\\x00\\x00\\x00\\x00\\x00\\x00'\n",
      "tRp15\n",
      "g2\n",
      "(g4\n",
      "S'\\x0f\\x00\\x00\\x00\\x00\\x00\\x00\\x00'\n",
      "tRp16\n",
      "sg2\n",
      "(g4\n",
      "S'\\x10\\x00\\x00\\x00\\x00\\x00\\x00\\x00'\n",
      "tRp17\n",
      "g2\n",
      "(g4\n",
      "S'\\x10\\x00\\x00\\x00\\x00\\x00\\x00\\x00'\n",
      "tRp18\n",
      "sg2\n",
      "(g4\n",
      "S'\\x11\\x00\\x00\\x00\\x00\\x00\\x00\\x00'\n",
      "tRp19\n",
      "g2\n",
      "(g4\n",
      "S'\\x11\\x00\\x00\\x00\\x00\\x00\\x00\\x00'\n",
      "tRp20\n",
      "sg2\n",
      "(g4\n",
      "S'\\x12\\x00\\x00\\x00\\x00\\x00\\x00\\x00'\n",
      "tRp21\n",
      "g2\n",
      "(g4\n",
      "S'\\x12\\x00\\x00\\x00\\x00\\x00\\x00\\x00'\n",
      "tRp22\n",
      "sg2\n",
      "(g4\n",
      "S'\\x13\\x00\\x00\\x00\\x00\\x00\\x00\\x00'\n",
      "tRp23\n",
      "g2\n",
      "(g4\n",
      "S'\\x13\\x00\\x00\\x00\\x00\\x00\\x00\\x00'\n",
      "tRp24\n",
      "s.\n",
      "133\n",
      "\n",
      "\n",
      "(dp1\n",
      "I10\n",
      "I10\n",
      "sI11\n",
      "I11\n",
      "sI12\n",
      "I12\n",
      "sI13\n",
      "I13\n",
      "sI14\n",
      "I14\n",
      "sI15\n",
      "I15\n",
      "sI16\n",
      "I16\n",
      "sI17\n",
      "I17\n",
      "sI18\n",
      "I18\n",
      "sI19\n",
      "I19\n",
      "s.\n"
     ]
    }
   ],
   "source": [
    "import cPickle as pickle\n",
    "import sys\n",
    "mydict = dict(zip(range(100000,200000),range(100000,200000)))\n",
    "mydict = dict(zip(range(10,20),range(10,20)))\n",
    "ts=pd.Series(mydict)\n",
    "\n",
    "\n",
    "\n",
    "print sys.getsizeof(mydict)\n",
    "print sys.getsizeof(ts.to_dict())\n",
    "\n",
    "newdict=ts.to_dict()\n",
    "s3=pickle.dumps(newdict)\n",
    "print sys.getsizeof(s3)\n",
    "print s3\n",
    "\n",
    "s2=pickle.dumps(mydict)\n",
    "print sys.getsizeof(s2)\n",
    "print\n",
    "print \n",
    "print s2\n"
   ]
  },
  {
   "cell_type": "code",
   "execution_count": 198,
   "metadata": {
    "collapsed": false
   },
   "outputs": [
    {
     "name": "stdout",
     "output_type": "stream",
     "text": [
      "104\n",
      "128\n",
      "59\n"
     ]
    },
    {
     "ename": "AttributeError",
     "evalue": "'list' object has no attribute 'tolist'",
     "output_type": "error",
     "traceback": [
      "\u001b[1;31m---------------------------------------------------------------------------\u001b[0m",
      "\u001b[1;31mAttributeError\u001b[0m                            Traceback (most recent call last)",
      "\u001b[1;32m<ipython-input-198-7a6832613893>\u001b[0m in \u001b[0;36m<module>\u001b[1;34m()\u001b[0m\n\u001b[0;32m     18\u001b[0m \u001b[1;31m#print s1\u001b[0m\u001b[1;33m\u001b[0m\u001b[1;33m\u001b[0m\u001b[0m\n\u001b[0;32m     19\u001b[0m \u001b[1;33m\u001b[0m\u001b[0m\n\u001b[1;32m---> 20\u001b[1;33m \u001b[0ms2\u001b[0m\u001b[1;33m=\u001b[0m\u001b[0mpickle\u001b[0m\u001b[1;33m.\u001b[0m\u001b[0mdumps\u001b[0m\u001b[1;33m(\u001b[0m\u001b[0mts\u001b[0m\u001b[1;33m.\u001b[0m\u001b[0mtolist\u001b[0m\u001b[1;33m(\u001b[0m\u001b[1;33m)\u001b[0m\u001b[1;33m.\u001b[0m\u001b[0mtolist\u001b[0m\u001b[1;33m(\u001b[0m\u001b[1;33m)\u001b[0m\u001b[1;33m)\u001b[0m\u001b[1;33m\u001b[0m\u001b[0m\n\u001b[0m\u001b[0;32m     21\u001b[0m \u001b[1;32mprint\u001b[0m \u001b[0msys\u001b[0m\u001b[1;33m.\u001b[0m\u001b[0mgetsizeof\u001b[0m\u001b[1;33m(\u001b[0m\u001b[0ms2\u001b[0m\u001b[1;33m)\u001b[0m\u001b[1;33m\u001b[0m\u001b[0m\n\u001b[0;32m     22\u001b[0m \u001b[1;31m# print\u001b[0m\u001b[1;33m\u001b[0m\u001b[1;33m\u001b[0m\u001b[0m\n",
      "\u001b[1;31mAttributeError\u001b[0m: 'list' object has no attribute 'tolist'"
     ]
    }
   ],
   "source": [
    "import cPickle as pickle\n",
    "import numpy as np\n",
    "import sys\n",
    "v=[1,2,3,4]\n",
    "ix=['a', 'b','c','d']\n",
    "\n",
    "ts=pd.Series(v,index=ix)\n",
    "\n",
    "\n",
    "\n",
    "print sys.getsizeof(v)\n",
    "print sys.getsizeof(ts.values)\n",
    "\n",
    "\n",
    "# newdict=ts.to_dict()\n",
    "s1=pickle.dumps(v)\n",
    "print sys.getsizeof(s1)\n",
    "#print s1\n",
    "\n",
    "s2=pickle.dumps(ts.tolist().tolist())\n",
    "print sys.getsizeof(s2)\n",
    "# print\n",
    "# print \n",
    "#print s2\n",
    "\n",
    "t3 = np.array(v)\n",
    "print t3\n"
   ]
  },
  {
   "cell_type": "code",
   "execution_count": 197,
   "metadata": {
    "collapsed": false
   },
   "outputs": [
    {
     "data": {
      "text/plain": [
       "'(lp1\\nI1\\naI2\\naI3\\naI4\\na.'"
      ]
     },
     "execution_count": 197,
     "metadata": {},
     "output_type": "execute_result"
    }
   ],
   "source": [
    "pickle.dumps(t3.tolist())"
   ]
  },
  {
   "cell_type": "code",
   "execution_count": 182,
   "metadata": {
    "collapsed": false
   },
   "outputs": [
    {
     "name": "stdout",
     "output_type": "stream",
     "text": [
      "[1 2 3 4]\n"
     ]
    }
   ],
   "source": [
    "print ts.values"
   ]
  },
  {
   "cell_type": "code",
   "execution_count": null,
   "metadata": {
    "collapsed": true
   },
   "outputs": [],
   "source": []
  }
 ],
 "metadata": {
  "kernelspec": {
   "display_name": "Python 2",
   "language": "python",
   "name": "python2"
  },
  "language_info": {
   "codemirror_mode": {
    "name": "ipython",
    "version": 2
   },
   "file_extension": ".py",
   "mimetype": "text/x-python",
   "name": "python",
   "nbconvert_exporter": "python",
   "pygments_lexer": "ipython2",
   "version": "2.7.11"
  }
 },
 "nbformat": 4,
 "nbformat_minor": 0
}
