{
 "cells": [
  {
   "cell_type": "markdown",
   "metadata": {},
   "source": [
    "# Evaluation Notebook\n",
    "This notebook provided some methods to do evaluate Wikisim on different datasets. "
   ]
  },
  {
   "cell_type": "markdown",
   "metadata": {},
   "source": [
    "# Configs"
   ]
  },
  {
   "cell_type": "code",
   "execution_count": null,
   "metadata": {
    "collapsed": false
   },
   "outputs": [],
   "source": [
    "%%system\n",
    "\n",
    "mysql -u root -pemilios -e 'set global key_buffer_size=4*1024*1024*1024;'\n",
    "mysql -u root -pemilios -e 'set global bulk_insert_buffer_size=1024*1024*1024;'\n",
    "mysql -u root -pemilios -e 'set global query_cache_size = 4*1024*1024*1024;'\n",
    "mysql -u root -pemilios -e 'set global query_cache_limit = 4*1024*1024*1024;'\n",
    "mysql -u root -pemilios -e 'set global tmp_table_size = 4*1024*1024*1024;'"
   ]
  },
  {
   "cell_type": "code",
   "execution_count": null,
   "metadata": {
    "collapsed": false
   },
   "outputs": [],
   "source": [
    "%%writefile config.py \n",
    "\"\"\" Config file.\n",
    "\"\"\"\n",
    "#%load_ext autoreload\n",
    "#%autoreload\n",
    "\n",
    "import datetime\n",
    "import logging\n",
    "import os.path\n",
    "import sys\n",
    "from wikipedia import *\n",
    "\n",
    "\n",
    "home = os.path.expanduser(\"~\");\n",
    "dsdir = os.path.join(home ,\"backup/projects/wikisim/datasets/\");\n",
    "workingdir = os.path.join(home , 'backup/tmp/');\n",
    "baseresdir = path = os.path.join(workingdir, 'results')\n",
    "\n",
    "logging.basicConfig(filename=os.path.join(workingdir,'myapp.log'), level=logging.INFO);    \n",
    "\n",
    "    \n",
    "def resdir(hitsver, direction=None):   \n",
    "    path = os.path.join(baseresdir , graphtype(direction), hitsver);\n",
    "    if not os.path.exists(path):\n",
    "        os.makedirs(path)\n",
    "    return path\n",
    "\n",
    "    \n",
    "def tmpdir(direction, hitsver):\n",
    "    return os.path.join(resdir(hitsver, direction),'tmp/');\n",
    "\n",
    "def graphdir(direction):    \n",
    "    return os.path.join(getworkingdir , 'graphs' , wikisim.graphtypestr(direction));\n",
    "\n",
    "def initdirs(direction, hitsver):\n",
    "    path = resdir(hitsver, direction)\n",
    "    if not os.path.exists(path):\n",
    "        os.makedirs(path)\n",
    "    path = tmpdir(direction, hitsver)\n",
    "    if not os.path.exists(path):\n",
    "        os.makedirs(path)\n",
    "def printflush(*str):\n",
    "    print str\n",
    "    sys.stdout.flush()\n",
    "    \n",
    "    \n",
    "def graphtype(direction):\n",
    "    if direction == None:\n",
    "        return ''\n",
    "    if direction == DIR_IN:\n",
    "        return 'in'\n",
    "    if direction == DIR_OUT:\n",
    "        return 'out'\n",
    "    if direction == DIR_BOTH:\n",
    "        return 'both' "
   ]
  },
  {
   "cell_type": "markdown",
   "metadata": {
    "collapsed": true
   },
   "source": [
    "# Evaluating rvspage rank"
   ]
  },
  {
   "cell_type": "code",
   "execution_count": 3,
   "metadata": {
    "collapsed": false
   },
   "outputs": [
    {
     "name": "stdout",
     "output_type": "stream",
     "text": [
      "The autoreload extension is already loaded. To reload it, use:\n",
      "  %reload_ext autoreload\n",
      "False\n",
      "('Processing', 'MiniMayoSRS-edited.csv')\n",
      "SpearmanrResult(correlation=0.68600374258755725, pvalue=3.9942691909824775e-05)\n",
      "('Processing', 'MayoSRS-edited.csv')\n",
      "SpearmanrResult(correlation=0.58118243427136129, pvalue=4.3357832073575697e-10)\n",
      "0:01:16\n"
     ]
    }
   ],
   "source": [
    "#%%writefile rvseval.py \n",
    "\"\"\" Evaluating the method on Semantic Relatedness Datasets.\"\"\"\n",
    "\n",
    "%load_ext autoreload\n",
    "%autoreload\n",
    "\n",
    "import os\n",
    "import time;\n",
    "\n",
    "\n",
    "\n",
    "%aimport wikipedia\n",
    "%aimport calcsim\n",
    "from config import *\n",
    "from calcsim import *\n",
    "\n",
    "print DISABLE_CACHE\n",
    "direction=DIR_IN;\n",
    "method = 'rvspagerank'\n",
    "initdirs(direction, 'rvspagerank')\n",
    "resfilename =  os.path.join(baseresdir, 'reslog.txt')\n",
    "\n",
    "dsfiles=('MC_28-edited.csv', 'RG-edited.csv', 'MiniMayoSRS-edited.csv', 'MayoSRS-edited.csv',\n",
    "        'UMNSRS_relatedness-edited.csv', 'UMNSRS_similarity-edited.csv')\n",
    "dsfiles=('MiniMayoSRS-edited.csv', 'MayoSRS-edited.csv')\n",
    "start = time.time()\n",
    "for dsname in dsfiles:\n",
    "    printflush (\"Processing\",dsname)\n",
    "    dsbase, dsext = os.path.splitext(dsname);\n",
    "    infilename = os.path.join(dsdir, dsname)\n",
    "    outfilename = os.path.join(resdir(method, direction), dsbase+ '.out'+ dsext)\n",
    "    _ , corr = getsim_file(infilename, outfilename, method, direction);\n",
    "    logres(resfilename, 'rvspagerank\\t%s\\t%s\\t%s\\t%s', dsname, graphtype(direction), corr.correlation\n",
    "                        , corr.pvalue)\n",
    "    print corr\n",
    "    \n",
    "print str(timeformat(int(time.time()-start)));\n",
    "#close()   "
   ]
  },
  {
   "cell_type": "markdown",
   "metadata": {},
   "source": [
    "# Embedding"
   ]
  },
  {
   "cell_type": "code",
   "execution_count": 2,
   "metadata": {
    "collapsed": false
   },
   "outputs": [
    {
     "ename": "NameError",
     "evalue": "name 'initdirs' is not defined",
     "output_type": "error",
     "traceback": [
      "\u001b[1;31m---------------------------------------------------------------------------\u001b[0m",
      "\u001b[1;31mNameError\u001b[0m                                 Traceback (most recent call last)",
      "\u001b[1;32m<ipython-input-2-519be5a52aa1>\u001b[0m in \u001b[0;36m<module>\u001b[1;34m()\u001b[0m\n\u001b[0;32m     12\u001b[0m \u001b[1;33m\u001b[0m\u001b[0m\n\u001b[0;32m     13\u001b[0m \u001b[0mdirection\u001b[0m\u001b[1;33m=\u001b[0m\u001b[0mDIR_IN\u001b[0m\u001b[1;33m;\u001b[0m\u001b[1;33m\u001b[0m\u001b[0m\n\u001b[1;32m---> 14\u001b[1;33m \u001b[0minitdirs\u001b[0m\u001b[1;33m(\u001b[0m\u001b[0mdirection\u001b[0m\u001b[1;33m,\u001b[0m \u001b[1;34m'rvspagerank'\u001b[0m\u001b[1;33m)\u001b[0m\u001b[1;33m\u001b[0m\u001b[0m\n\u001b[0m\u001b[0;32m     15\u001b[0m \u001b[1;33m\u001b[0m\u001b[0m\n\u001b[0;32m     16\u001b[0m \u001b[0mdsfiles\u001b[0m\u001b[1;33m=\u001b[0m\u001b[1;33m(\u001b[0m\u001b[1;34m'MC_28-edited.csv'\u001b[0m\u001b[1;33m,\u001b[0m \u001b[1;34m'MiniMayoSRS-edited.csv'\u001b[0m\u001b[1;33m,\u001b[0m\u001b[1;34m'MayoSRS-edited.csv'\u001b[0m\u001b[1;33m)\u001b[0m\u001b[1;33m\u001b[0m\u001b[0m\n",
      "\u001b[1;31mNameError\u001b[0m: name 'initdirs' is not defined"
     ]
    }
   ],
   "source": [
    "\"\"\"Testing batch embedding for a given file. \"\"\"\n",
    "\n",
    "from scipy import stats\n",
    "import os\n",
    "import time;\n",
    "\n",
    "\n",
    "%aimport calcsim\n",
    "from calcsim import *\n",
    "\n",
    "\n",
    "\n",
    "direction=DIR_IN;\n",
    "initdirs(direction, 'rvspagerank')\n",
    "\n",
    "dsfiles=('MC_28-edited.csv', 'MiniMayoSRS-edited.csv','MayoSRS-edited.csv')\n",
    "start = time.time()\n",
    "for dsname in dsfiles:\n",
    "    printflush (\"Processing\",dsname)\n",
    "    dsbase, dsext = os.path.splitext(dsname);\n",
    "    infilename = os.path.join(dsdir, dsname)\n",
    "    outfilename = os.path.join(resdir('rvspagerank', direction), dsbase+ '.emb'+ dsext)\n",
    "    getembed_file(infilename, outfilename,direction, cutoff=3);\n",
    "    \n",
    "print str(timeformat(int(time.time()-start)));\n",
    "#close()   "
   ]
  },
  {
   "cell_type": "markdown",
   "metadata": {
    "collapsed": true
   },
   "source": [
    "# In-Out degree distribution"
   ]
  },
  {
   "cell_type": "code",
   "execution_count": null,
   "metadata": {
    "collapsed": false
   },
   "outputs": [],
   "source": [
    "\"\"\"Generating some wiki statistics. \"\"\"\n",
    "import operator\n",
    "from collections import defaultdict\n",
    "with open(home+\"/backup/projects/datasets/embed/allids.csv\") as f:\n",
    "    allids=set(line.strip() for line in f);\n",
    "#outcount = defaultdict();    \n",
    "for id in allids:\n",
    "    if not id.isdigit(): continue;\n",
    "    outcount[id]=len(getlinkedpages(id,Wikipedia.DIR_IN));\n",
    "#o=w.getlinkedpages_query('None',Wikipedia.DIR_OUT);\n",
    "#print o;\n",
    "#w.cursor.execute(o)\n",
    "#s=w.getlinkedpages_query(29953972,Wikipedia.DIR_OUT);\n",
    "outcount_sorted=sorted(outcount.items(), key=operator.itemgetter(1))\n",
    "print outcount_sorted\n",
    "\n",
    "w.close();    "
   ]
  },
  {
   "cell_type": "code",
   "execution_count": 1,
   "metadata": {
    "collapsed": false
   },
   "outputs": [
    {
     "name": "stdout",
     "output_type": "stream",
     "text": [
      "False\n"
     ]
    }
   ],
   "source": [
    "%load_ext autoreload\n",
    "%autoreload\n",
    "\n",
    "\n",
    "\n",
    "%aimport wikipedia\n",
    "%aimport calcsim\n",
    "from calcsim import *\n",
    "\n",
    "print DISABLE_CACHE"
   ]
  },
  {
   "cell_type": "code",
   "execution_count": null,
   "metadata": {
    "collapsed": true
   },
   "outputs": [],
   "source": []
  }
 ],
 "metadata": {
  "kernelspec": {
   "display_name": "Python 2",
   "language": "python",
   "name": "python2"
  },
  "language_info": {
   "codemirror_mode": {
    "name": "ipython",
    "version": 2
   },
   "file_extension": ".py",
   "mimetype": "text/x-python",
   "name": "python",
   "nbconvert_exporter": "python",
   "pygments_lexer": "ipython2",
   "version": "2.7.11"
  }
 },
 "nbformat": 4,
 "nbformat_minor": 0
}
