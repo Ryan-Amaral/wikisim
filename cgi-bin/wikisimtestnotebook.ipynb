{
 "cells": [
  {
   "cell_type": "markdown",
   "metadata": {},
   "source": [
    "# PageRank\n",
    "This notebook is evaluating the speed of the implemented pagerank vs Networkx solution"
   ]
  },
  {
   "cell_type": "code",
   "execution_count": 1,
   "metadata": {
    "collapsed": false
   },
   "outputs": [],
   "source": [
    "import logging\n",
    "import scipy as sp\n",
    "import scipy.sparse as sprs\n",
    "import scipy.spatial\n",
    "import scipy.sparse.linalg \n",
    "import itertools\n",
    "#from scipy.sparse.linalg import spsolve\n",
    "#import networkx as nx\n",
    "#import numpy as np;\n",
    "#example 1\n",
    "def create_csr(Z):\n",
    "    \"\"\" Creates a csr presentation from 2darray presentation and \n",
    "        calculates the pagerank\n",
    "    Args:\n",
    "        G: input graph in the form of a 2d array, such as [[2,0], [1,2], [2,1]]\n",
    "    Returns:\n",
    "        Pagerank Scores for the nodes\n",
    "    \n",
    "    each row of the array is an edge of the graph [[a,b], [c,d]], a and b are the node numbers. \n",
    "\n",
    "    \"\"\"   \n",
    "    rows = Z[:,0];\n",
    "    cols = Z[:,1];\n",
    "    n = max(max(rows), max(cols))+1;\n",
    "    G=sprs.csr_matrix((sp.ones(rows.shape),(rows,cols)), shape=(n,n));\n",
    "    return G\n",
    "\n",
    "def pagerank_sparse(G, p=0.85, personalize=None, reverse=False):\n",
    "    \"\"\" Calculates pagerank given a csr graph\n",
    "    \n",
    "    Args:\n",
    "        G: a csr graph.\n",
    "        p: damping factor\n",
    "        personlize: if not None, should be an array with the size of the nodes\n",
    "                    containing probability distributions. It will be normalized automatically\n",
    "        reverse: If true, returns the reversed-pagerank \n",
    "        \n",
    "    Returns:\n",
    "        Pagerank Scores for the nodes\n",
    "     \n",
    "    \"\"\"\n",
    "    logger = logging.getLogger(__name__);\n",
    "    logger.info('started')\n",
    "\n",
    "    if not reverse:\n",
    "        G=G.T;\n",
    "\n",
    "    n,n=G.shape\n",
    "    c=sp.asarray(G.sum(axis=0)).reshape(-1)\n",
    "    r=sp.asarray(G.sum(axis=1)).reshape(-1)\n",
    "\n",
    "    k=c.nonzero()[0]\n",
    "\n",
    "    D=sprs.csr_matrix((1/c[k],(k,k)),shape=(n,n))\n",
    "\n",
    "    if personalize is None:\n",
    "        e=sp.ones((n,1))\n",
    "    else:\n",
    "        e = personalize/sum(personalize);\n",
    "        \n",
    "    I=sprs.eye(n)\n",
    "    X1 = sprs.linalg.spsolve((I - p*G.dot(D)), e);\n",
    "\n",
    "    X1=X1/sum(X1)\n",
    "    logger.info('finished')\n",
    "    return X1\n",
    "def pagerank_sparse_power(G, p=0.85, max_iter = 100, personalize=None, reverse=False):\n",
    "    \"\"\" Calculates pagerank given a csr graph\n",
    "    \n",
    "    Args:\n",
    "        G: a csr graph.\n",
    "        p: damping factor\n",
    "        max_iter: maximum number of iterations\n",
    "        personlize: if not None, should be an array with the size of the nodes\n",
    "                    containing probability distributions. It will be normalized automatically\n",
    "        reverse: If true, returns the reversed-pagerank \n",
    "        \n",
    "    Returns:\n",
    "        Pagerank Scores for the nodes\n",
    "     \n",
    "    \"\"\"\n",
    "    logger = logging.getLogger(__name__);\n",
    "    logger.info('started')\n",
    "    \n",
    "    if not reverse: \n",
    "        G=G.T;\n",
    "\n",
    "    n,n=G.shape\n",
    "    c=sp.asarray(G.sum(axis=0)).reshape(-1)\n",
    "    r=sp.asarray(G.sum(axis=1)).reshape(-1)\n",
    "\n",
    "    k=c.nonzero()[0]\n",
    "\n",
    "    D=sprs.csr_matrix((1/c[k],(k,k)),shape=(n,n))\n",
    "\n",
    "    if personalize is None:\n",
    "        e=sp.ones((n,1))\n",
    "    else:\n",
    "        e = personalize/sum(personalize);\n",
    "        \n",
    "    z = (((1-p)*(c!=0) + (c==0))/n)[sp.newaxis,:]\n",
    "    G = p*G.dot(D)\n",
    "    x = e/n\n",
    "    oldx = sp.zeros((n,1));\n",
    "    \n",
    "    iteration = 0\n",
    "    start = time.time()    \n",
    "    while sp.linalg.norm(x-oldx) > 0.01:\n",
    "        oldx = x\n",
    "        x = G.dot(x) + e.dot(z.dot(x))\n",
    "        iteration += 1\n",
    "        if iteration >= max_iter:\n",
    "            break;\n",
    "    #print \"here\"\n",
    "    #print time.time()-start            \n",
    "    x = x/sum(x)\n",
    "    \n",
    "    logger.info('finished')\n",
    "    return x.reshape(-1)\n",
    "    \n",
    "def pagerank_netx(Z, personalization=None):\n",
    "    G=nx.DiGraph()\n",
    "    G.add_edges_from(Z)\n",
    "    PR=nx.pagerank(G, personalization=personalization);\n",
    "    #PR=nx.pagerank_numpy(G);\n",
    "    #PR=nx.pagerank_scipy(G);\n",
    "    P=sp.array([PR[i] for i in range(len(PR))])\n",
    "    return P\n",
    "    \n"
   ]
  },
  {
   "cell_type": "code",
   "execution_count": 26,
   "metadata": {
    "collapsed": false
   },
   "outputs": [
    {
     "name": "stdout",
     "output_type": "stream",
     "text": [
      "  (1, 0)\t1.0\n",
      "  (2, 0)\t1.0\n",
      "  (2, 1)\t1.0\n",
      "  (0, 2)\t1.0\n",
      "  (2, 3)\t1.0\n",
      "[ 0.40390051  0.20915772  0.38694178  0.        ]\n",
      "0.00373101234436\n",
      "[ 0.40529564  0.19358685  0.40111751  0.        ]\n",
      "0.00258302688599\n",
      "{0: 0.5, 1: 0.25, 2: 0.25, 3: 0.0}\n",
      "[ 0.40389993  0.20915739  0.38694267  0.        ]\n",
      "0.00159811973572\n"
     ]
    }
   ],
   "source": [
    "import time\n",
    "# http://www.cs.princeton.edu/~chazelle/courses/BIB/pagerank.htm\n",
    "\n",
    "#example 1\n",
    "Z=sp.array([[1,2],[1,3],[2,3],[3,1],[4,3]]);\n",
    "\n",
    "# example 2\n",
    "#Z=sp.array([[1,2],[2,1],[1,3],[3,1],[1,4],[4,1],[4,5],[4,6],[4,7],[4,8]])\n",
    "\n",
    "\n",
    "# Example 11\n",
    "# Z=sp.array([[1,2],[2,1],[2,3],[3,1],[3,4],[4,1]])\n",
    "Z=Z-1\n",
    "\n",
    "#Z=scipy.sparse.rand(10, 10, density=0.3, format='csr');\n",
    "\n",
    "G=create_csr(Z)\n",
    "per = sp.zeros((G.shape[0],1))\n",
    "               \n",
    "per[0]=0.5\n",
    "per[1]=0.25\n",
    "per[2]=0.25\n",
    "\n",
    "start = time.time()\n",
    "print pagerank_sparse(G, personalize=per)\n",
    "print time.time()-start\n",
    "\n",
    "start = time.time()\n",
    "print pagerank_sparse_power(G, personalize=per)\n",
    "print time.time()-start\n",
    "\n",
    "per = dict(enumerate(sp.squeeze(per).tolist()))\n",
    "print per\n",
    "start = time.time()\n",
    "print pagerank_netx(Z, personalization=per)\n",
    "print time.time()-start\n"
   ]
  },
  {
   "cell_type": "code",
   "execution_count": 3,
   "metadata": {
    "collapsed": false
   },
   "outputs": [
    {
     "name": "stdout",
     "output_type": "stream",
     "text": [
      "started\n"
     ]
    },
    {
     "ename": "NameError",
     "evalue": "name 'time' is not defined",
     "output_type": "error",
     "traceback": [
      "\u001b[1;31m---------------------------------------------------------------------------\u001b[0m",
      "\u001b[1;31mNameError\u001b[0m                                 Traceback (most recent call last)",
      "\u001b[1;32m<ipython-input-3-e2b7f8a41f99>\u001b[0m in \u001b[0;36m<module>\u001b[1;34m()\u001b[0m\n\u001b[0;32m      6\u001b[0m \u001b[1;32mprint\u001b[0m \u001b[1;34m\"started\"\u001b[0m\u001b[1;33m\u001b[0m\u001b[0m\n\u001b[0;32m      7\u001b[0m \u001b[0msys\u001b[0m\u001b[1;33m.\u001b[0m\u001b[0mstdout\u001b[0m\u001b[1;33m.\u001b[0m\u001b[0mflush\u001b[0m\u001b[1;33m(\u001b[0m\u001b[1;33m)\u001b[0m\u001b[1;33m\u001b[0m\u001b[0m\n\u001b[1;32m----> 8\u001b[1;33m \u001b[0mstart\u001b[0m \u001b[1;33m=\u001b[0m \u001b[0mtime\u001b[0m\u001b[1;33m.\u001b[0m\u001b[0mtime\u001b[0m\u001b[1;33m(\u001b[0m\u001b[1;33m)\u001b[0m\u001b[1;33m\u001b[0m\u001b[0m\n\u001b[0m\u001b[0;32m      9\u001b[0m \u001b[0mpagerank_sparse\u001b[0m\u001b[1;33m(\u001b[0m\u001b[0mZ\u001b[0m\u001b[1;33m.\u001b[0m\u001b[0masformat\u001b[0m\u001b[1;33m(\u001b[0m\u001b[1;34m'csr'\u001b[0m\u001b[1;33m)\u001b[0m\u001b[1;33m)\u001b[0m\u001b[1;33m\u001b[0m\u001b[0m\n\u001b[0;32m     10\u001b[0m \u001b[1;32mprint\u001b[0m \u001b[0mtime\u001b[0m\u001b[1;33m.\u001b[0m\u001b[0mtime\u001b[0m\u001b[1;33m(\u001b[0m\u001b[1;33m)\u001b[0m\u001b[1;33m-\u001b[0m\u001b[0mstart\u001b[0m\u001b[1;33m\u001b[0m\u001b[0m\n",
      "\u001b[1;31mNameError\u001b[0m: name 'time' is not defined"
     ]
    }
   ],
   "source": [
    "import sys\n",
    "n=30000\n",
    "Z= scipy.sparse.rand(n, n, density=0.01, format='dok')\n",
    "for i,j in Z.keys():\n",
    "         Z[i, j] = 1\n",
    "print \"started\"        \n",
    "sys.stdout.flush()\n",
    "start = time.time()\n",
    "pagerank_sparse(Z.asformat('csr'))\n",
    "print time.time()-start\n",
    "\n",
    "start = time.time()\n",
    "pagerank_sparse_power(Z.asformat('csr'))\n",
    "print time.time()-start\n",
    "\n",
    "start = time.time()\n",
    "pagerank_netx(Z.keys())\n",
    "print time.time()-start\n",
    "\n"
   ]
  },
  {
   "cell_type": "markdown",
   "metadata": {},
   "source": [
    "# Union"
   ]
  },
  {
   "cell_type": "code",
   "execution_count": 3,
   "metadata": {
    "collapsed": false
   },
   "outputs": [],
   "source": [
    "import itertools\n",
    "import scipy as sp\n",
    "def _e2i(*iters):\n",
    "    elist=[];\n",
    "    edict=dict();\n",
    "    last=0;    \n",
    "    for wid in itertools.chain(*iters):\n",
    "        if wid not in edict:\n",
    "            edict[wid]=last;\n",
    "            elist.append(wid);\n",
    "            last +=1; \n",
    "    return elist, edict;\n",
    "\n",
    "def _unify_ids_scores(*id_sc_tuple):\n",
    "    uids, id2in =_e2i(*(ids for ids, _ in id_sc_tuple));\n",
    "    \n",
    "    uscs=tuple();            \n",
    "    for ids,scs in id_sc_tuple:\n",
    "        scs_u=sp.zeros(len(id2in))\n",
    "        scs_u[[id2in[wid] for wid in ids]] = scs;            \n",
    "        uscs += (scs_u,)                \n",
    "    return uids, uscs, id2in       \n",
    "\n",
    "\n",
    "def _mergelinks(*ids_scs_links):\n",
    "    uids, uscs, uid2in  = _unify_ids_scores(*((ids, scs) for ids,scs,_ in ids_scs_links));\n",
    "    mergedlinks=set();\n",
    "    for ids, _,links in ids_scs_links:\n",
    "        for u,v in links:\n",
    "            mergedlinks.add((uid2in[ids[u]],uid2in[ids[v]]))\n",
    "    mergedlinks = sp.array([[u,v] for u,v in mergedlinks])            \n",
    "    return uids, uscs, mergedlinks"
   ]
  },
  {
   "cell_type": "code",
   "execution_count": 13,
   "metadata": {
    "collapsed": false
   },
   "outputs": [
    {
     "name": "stdout",
     "output_type": "stream",
     "text": [
      "[2, 3, 5, 12, 1, 7]\n",
      "[ 22.  33.  44.  55.  66.   0.]\n",
      "[ 100.    0.    0.    0.   99.  101.]\n",
      "[1, 2, 3, 5, 7, 12]\n",
      "[66, 22, 33, 44, 0, 55]\n",
      "[99, 100, 0, 0, 101, 0]\n"
     ]
    }
   ],
   "source": [
    "from collections import defaultdict\n",
    "ids1=[2,3,5,12,1]\n",
    "sc1=[22,33,44,55,66]\n",
    "\n",
    "em1=defaultdict(int, zip(ids1, sc1))\n",
    "\n",
    "\n",
    "ids2=[1,2,7]\n",
    "sc2=[99,100,101]\n",
    "em2=defaultdict(int, zip(ids2, sc2))\n",
    "\n",
    "\n",
    "uds, (usc1, usc2), _ = _unify_ids_scores((ids1,sc1),(ids2,sc2))\n",
    "print uds\n",
    "print usc1\n",
    "print usc2\n",
    "\n",
    "uds=list(set(em1.keys()).union(em2.keys()))\n",
    "usc1=[em1[wid] for wid in uds]\n",
    "usc2=[em2[wid] for wid in uds]\n",
    "\n",
    "print uds\n",
    "print usc1\n",
    "print usc2\n",
    "\n"
   ]
  },
  {
   "cell_type": "code",
   "execution_count": 2,
   "metadata": {
    "collapsed": false
   },
   "outputs": [
    {
     "name": "stdout",
     "output_type": "stream",
     "text": [
      "set([(1, 2), (2, 5), (2, 12)])\n",
      "set([(1, 2), (7, 2), (7, 1)])\n",
      "set([(18, 7), (5, 7)])\n",
      "\n",
      "\n",
      "[2, 3, 5, 12, 1, 7, 18]\n",
      "[ 22.  33.  44.  55.  66.   0.   0.]\n",
      "[ 100.    0.    0.    0.   99.  101.    0.]\n",
      "[   0.    0.   34.    0.    0.  123.   43.]\n",
      "\n",
      "\n",
      "[2, 3, 5, 12, 1, 7, 18]\n",
      "[ 22.  33.  44.  55.  66.   0.   0.]\n",
      "[ 100.    0.    0.    0.   99.  101.    0.]\n",
      "[   0.    0.   34.    0.    0.  123.   43.]\n",
      "[[5 4]\n",
      " [0 2]\n",
      " [5 0]\n",
      " [2 5]\n",
      " [0 3]\n",
      " [6 5]\n",
      " [4 0]]\n",
      "set([(1, 2), (7, 1), (5, 7), (18, 7), (2, 12), (2, 5), (7, 2)])\n"
     ]
    }
   ],
   "source": [
    "ids1=[2,3,5,12,1]\n",
    "sc1=[22,33,44,55,66]\n",
    "t1=['a', 'b', 'c', 'd']\n",
    "links1 = sp.array([[0,2], [4,0], [0,3]])\n",
    "\n",
    "links1id = set((ids1[u],ids1[v]) for u,v in links1)\n",
    "\n",
    "ids2=[1,2,7]\n",
    "sc2=[99,100,101]\n",
    "t2=['a', 'b', 'c', 'd']\n",
    "links2 = sp.array([[0,1], [2,0], [2,1]])\n",
    "links2id = set((ids2[u],ids2[v]) for u,v in links2)\n",
    "\n",
    "\n",
    "\n",
    "ids3=[5,18, 7]\n",
    "sc3=[34,43, 123]\n",
    "t3=['jack', 'joe', 'khose']\n",
    "links3=sp.array([[0,2], [1,2]])\n",
    "links3id = set((ids3[u],ids3[v]) for u,v in links3)\n",
    "\n",
    "print links1id\n",
    "print links2id\n",
    "print links3id\n",
    "\n",
    "print \"\\n\"\n",
    "\n",
    "uds, (usc1, usc2, usc3), _ = _unify_ids_scores((ids1,sc1),(ids2,sc2),(ids3,sc3))\n",
    "\n",
    "\n",
    "print uds\n",
    "print usc1\n",
    "print usc2\n",
    "print usc3\n",
    "\n",
    "print \"\\n\"\n",
    "\n",
    "\n",
    "uids, (usc1, usc2, usc3), mergedlinks = _mergelinks((ids1,sc1,links1),(ids2,sc2,links2),(ids3,sc3,links3))\n",
    "print uids\n",
    "print usc1\n",
    "print usc2\n",
    "print usc3\n",
    "print mergedlinks\n",
    "linksu = set((uids[u],uids[v]) for u,v in mergedlinks)\n",
    "\n",
    "print linksu\n"
   ]
  },
  {
   "cell_type": "code",
   "execution_count": null,
   "metadata": {
    "collapsed": true
   },
   "outputs": [],
   "source": []
  },
  {
   "cell_type": "code",
   "execution_count": 37,
   "metadata": {
    "collapsed": false
   },
   "outputs": [
    {
     "name": "stdout",
     "output_type": "stream",
     "text": [
      "[2.3, 3.5, 4.0]\n"
     ]
    }
   ],
   "source": []
  },
  {
   "cell_type": "code",
   "execution_count": null,
   "metadata": {
    "collapsed": true
   },
   "outputs": [],
   "source": []
  }
 ],
 "metadata": {
  "kernelspec": {
   "display_name": "Python 2",
   "language": "python",
   "name": "python2"
  },
  "language_info": {
   "codemirror_mode": {
    "name": "ipython",
    "version": 2
   },
   "file_extension": ".py",
   "mimetype": "text/x-python",
   "name": "python",
   "nbconvert_exporter": "python",
   "pygments_lexer": "ipython2",
   "version": "2.7.6"
  }
 },
 "nbformat": 4,
 "nbformat_minor": 0
}
