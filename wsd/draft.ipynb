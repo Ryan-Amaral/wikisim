{
 "cells": [
  {
   "cell_type": "code",
   "execution_count": null,
   "metadata": {
    "collapsed": true
   },
   "outputs": [],
   "source": [
    "#gensim_loadmodel(word2vec_path)\n",
    "#print \"loaded\"\n",
    "#sys.stdout.flush()\n",
    "from wsd import *\n",
    "\n",
    "S=[\"David\", \"started\", \"dating\", \"Victoria\" , \"after\", \"she\", \"attended\", \"a\", \"Man United\", \"match\"]\n",
    "M=[[0, \"David_Beckham\"], [3, \"Victoria_Beckham\"], [8, \"Manchester United F.C.\"]]\n",
    "C = generate_candidates(S, M, max_t=5, enforce=True)\n",
    "ids, titles = disambiguate_driver(S,M, C, ws=0, method='rvspagerank', direction=DIR_BOTH, op_method=op_method)\n"
   ]
  }
 ],
 "metadata": {
  "anaconda-cloud": {},
  "kernelspec": {
   "display_name": "Python 2",
   "language": "python",
   "name": "python2"
  },
  "language_info": {
   "codemirror_mode": {
    "name": "ipython",
    "version": 2
   },
   "file_extension": ".py",
   "mimetype": "text/x-python",
   "name": "python",
   "nbconvert_exporter": "python",
   "pygments_lexer": "ipython2",
   "version": "2.7.14"
  }
 },
 "nbformat": 4,
 "nbformat_minor": 1
}
