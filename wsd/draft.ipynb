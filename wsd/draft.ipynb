{
 "cells": [
  {
   "cell_type": "code",
   "execution_count": null,
   "metadata": {
    "collapsed": true
   },
   "outputs": [],
   "source": [
    "# Editing Ryan's code\n",
    "def context_to_profile_sim(mention, context, candidates):\n",
    "    \"\"\"\n",
    "    Description:\n",
    "        Uses Solr to find the relevancy scores of the candidates based on the context.\n",
    "    Args:\n",
    "        mention: The mention as it appears in the text\n",
    "        context: The words that surround the target word.\n",
    "        candidates: A list of candidates that each have the entity id and its frequency/popularity.\n",
    "    Return:\n",
    "        The score for each candidate in the same order as the candidates.\n",
    "    \"\"\"\n",
    "    \n",
    "    \n",
    "    # put text in right format\n",
    "    if not context:\n",
    "        return [0]*len(candidates)\n",
    "    context = solr_escape(context)\n",
    "    mention = solr_escape(mention)\n",
    "    \n",
    "    filter_ids = \" \".join(['id:' +  str(tid) for tid,_ in candidates])\n",
    "        \n",
    "\n",
    "    # select all the docs from Solr with the best scores, highest first.\n",
    "    qst = 'http://localhost:8983/solr/enwiki20160305/select'\n",
    "    q='text:('+context+')^1 title:(' + mention+')^1.35'\n",
    "    \n",
    "    params={'fl':'id score', 'fq':filter_ids, 'indent':'on',\n",
    "            'q':q, 'wt':'json'}\n",
    "    \n",
    "    #print params\n",
    "    \n",
    "    r = requests.get(qst, params = params).json()['response']['docs']\n",
    "    id_score_map=defaultdict(float, {long(ri['id']):ri['score'] for ri in r})\n",
    "    id_score=[id_score_map[c] for c,_ in candidates]\n",
    "    return id_score\n",
    "\n",
    "# Important TODO\n",
    "# This queriy is very much skewed toward popularity, better to replace space with AND\n",
    "#!!!! I don't like this implementation, instead of retrieving and counting, better to let the \n",
    "# solr does the counting, \n",
    "def context_to_context_sim(mention, context, candidates, rows=10):\n",
    "    \"\"\"\n",
    "    Description:\n",
    "        Uses Solr to find the relevancy scores of the candidates based on the context.\n",
    "    Args:\n",
    "        mentionStr: The mention as it appears in the text\n",
    "        context: The words that surround the target word.\n",
    "        candidates: A list of candidates that each have the entity id and its frequency/popularity.\n",
    "    Return:\n",
    "        The score for each candidate in the same order as the candidates.\n",
    "    \"\"\"\n",
    "    if not context:\n",
    "        return [0]*len(candidates)\n",
    "    \n",
    "    # put text in right format\n",
    "    context = solr_escape(context)\n",
    "    mention = solr_escape(mention)\n",
    "    \n",
    "    filter_ids = \" \".join(['entityid:' +  str(tid) for tid,_ in candidates])\n",
    "    \n",
    "    \n",
    "    # select all the docs from Solr with the best scores, highest first.\n",
    "    qstr = 'http://localhost:8983/solr/enwiki20160305_context/select'\n",
    "    q=\"_context_:(%s) entity:(%s)\" % (context,mention)\n",
    "    \n",
    "    params={'fl':'entityid', 'fq':filter_ids, 'indent':'on',\n",
    "            'q':q,'wt':'json', 'rows':rows}\n",
    "    #print params\n",
    "    r = requests.get(qstr, params = params)\n",
    "    cnt = Counter()\n",
    "    \n",
    "    for doc in r.json()['response']['docs']:\n",
    "        cnt[long(doc['entityid'])] += 1\n",
    "    \n",
    "    id_score=[cnt[c] for c,_ in candidates]\n",
    "    return id_score\n",
    "\n"
   ]
  },
  {
   "cell_type": "code",
   "execution_count": 18,
   "metadata": {},
   "outputs": [
    {
     "name": "stdout",
     "output_type": "stream",
     "text": [
      "['I', 'like', 'programming', 'with', 'Python']\n",
      "[[2, 'UNKNOWN'], [4, 'UNKNOWN']]\n",
      "[[(5311L, 0.4923599320882852), (585746L, 0.2461799660441426), (23015L, 0.050933786078098474), (1068736L, 0.050933786078098474), (52033L, 0.044142614601018676), (19508643L, 0.03735144312393888), (103661L, 0.03395585738539898), (773853L, 0.03225806451612903), (311632L, 0.008488964346349746), (5783L, 0.003395585738539898)], [(23862L, 0.9369318181818181), (83036L, 0.025), (18942L, 0.010227272727272727), (4920126L, 0.007954545454545454), (645111L, 0.00625), (23329L, 0.003977272727272727), (317752L, 0.003977272727272727), (19309718L, 0.0022727272727272726), (6081823L, 0.0017045454545454545), (6548215L, 0.0017045454545454545)]]\n"
     ]
    }
   ],
   "source": [
    "from wsd_util import *\n",
    "S = \"I like programming with Python\".split()\n",
    "M = [[2,'UNKNOWN'], [4,'UNKNOWN']]\n",
    "     \n",
    "print S\n",
    "print M\n",
    "C=generate_candidates(S,M)\n",
    "print C"
   ]
  },
  {
   "cell_type": "code",
   "execution_count": 25,
   "metadata": {},
   "outputs": [
    {
     "name": "stdout",
     "output_type": "stream",
     "text": [
      "text:(I like programming with)^1 title:(Python)^1.35\n",
      "9\n"
     ]
    }
   ],
   "source": [
    "# put text in right format\n",
    "mention = 'Python'\n",
    "context = 'I like programming with'\n",
    "candidates= C[1]\n",
    "filter_ids = \" \".join(['id:' +  str(tid) for tid,_ in candidates])\n",
    "\n",
    "\n",
    "# select all the docs from Solr with the best scores, highest first.\n",
    "qst = 'http://localhost:8983/solr/enwiki20160305/select'\n",
    "q='text:('+context+')^1 title:(' + mention+')^1.35'\n",
    "print q\n",
    "\n",
    "params={'fl':'id score', 'fq':filter_ids, 'indent':'on',\n",
    "        'q':q, 'wt':'json','rows':100}\n",
    "\n",
    "#print params\n",
    "\n",
    "r = requests.get(qst, params = params).json()['response']['docs']\n",
    "print len(r)\n",
    "id_score_map=defaultdict(float, {long(ri['id']):ri['score'] for ri in r})\n",
    "id_score=[id_score_map[c] for c,_ in candidates]\n"
   ]
  },
  {
   "cell_type": "code",
   "execution_count": 22,
   "metadata": {},
   "outputs": [
    {
     "data": {
      "text/plain": [
       "[16.369732,\n",
       " 9.627789,\n",
       " 17.094542,\n",
       " 9.627789,\n",
       " 11.230347,\n",
       " 0.0,\n",
       " 13.628618,\n",
       " 7.6420765,\n",
       " 12.981809,\n",
       " 9.941278]"
      ]
     },
     "execution_count": 22,
     "metadata": {},
     "output_type": "execute_result"
    }
   ],
   "source": [
    "id_score"
   ]
  },
  {
   "cell_type": "code",
   "execution_count": 15,
   "metadata": {},
   "outputs": [
    {
     "data": {
      "text/plain": [
       "[[(5311L, 0.4923599320882852),\n",
       "  (585746L, 0.2461799660441426),\n",
       "  (23015L, 0.050933786078098474),\n",
       "  (1068736L, 0.050933786078098474),\n",
       "  (52033L, 0.044142614601018676),\n",
       "  (19508643L, 0.03735144312393888),\n",
       "  (103661L, 0.03395585738539898),\n",
       "  (773853L, 0.03225806451612903),\n",
       "  (311632L, 0.008488964346349746),\n",
       "  (5783L, 0.003395585738539898)],\n",
       " [(23862L, 0.9369318181818181),\n",
       "  (83036L, 0.025),\n",
       "  (18942L, 0.010227272727272727),\n",
       "  (4920126L, 0.007954545454545454),\n",
       "  (645111L, 0.00625),\n",
       "  (23329L, 0.003977272727272727),\n",
       "  (317752L, 0.003977272727272727),\n",
       "  (19309718L, 0.0022727272727272726),\n",
       "  (6081823L, 0.0017045454545454545),\n",
       "  (6548215L, 0.0017045454545454545)]]"
      ]
     },
     "execution_count": 15,
     "metadata": {},
     "output_type": "execute_result"
    }
   ],
   "source": [
    "candidates"
   ]
  },
  {
   "cell_type": "code",
   "execution_count": 17,
   "metadata": {},
   "outputs": [
    {
     "data": {
      "text/plain": [
       "[[(5311L, 0.4923599320882852),\n",
       "  (585746L, 0.2461799660441426),\n",
       "  (23015L, 0.050933786078098474),\n",
       "  (1068736L, 0.050933786078098474),\n",
       "  (52033L, 0.044142614601018676),\n",
       "  (19508643L, 0.03735144312393888),\n",
       "  (103661L, 0.03395585738539898),\n",
       "  (773853L, 0.03225806451612903),\n",
       "  (311632L, 0.008488964346349746),\n",
       "  (5783L, 0.003395585738539898)],\n",
       " [(23862L, 0.9369318181818181),\n",
       "  (83036L, 0.025),\n",
       "  (18942L, 0.010227272727272727),\n",
       "  (4920126L, 0.007954545454545454),\n",
       "  (645111L, 0.00625),\n",
       "  (23329L, 0.003977272727272727),\n",
       "  (317752L, 0.003977272727272727),\n",
       "  (19309718L, 0.0022727272727272726),\n",
       "  (6081823L, 0.0017045454545454545),\n",
       "  (6548215L, 0.0017045454545454545)]]"
      ]
     },
     "execution_count": 17,
     "metadata": {},
     "output_type": "execute_result"
    }
   ],
   "source": [
    "candidates"
   ]
  }
 ],
 "metadata": {
  "anaconda-cloud": {},
  "kernelspec": {
   "display_name": "Python 2",
   "language": "python",
   "name": "python2"
  },
  "language_info": {
   "codemirror_mode": {
    "name": "ipython",
    "version": 2
   },
   "file_extension": ".py",
   "mimetype": "text/x-python",
   "name": "python",
   "nbconvert_exporter": "python",
   "pygments_lexer": "ipython2",
   "version": "2.7.14"
  }
 },
 "nbformat": 4,
 "nbformat_minor": 1
}
