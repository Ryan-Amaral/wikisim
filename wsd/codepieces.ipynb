{
 "cells": [
  {
   "cell_type": "code",
   "execution_count": null,
   "metadata": {
    "collapsed": false
   },
   "outputs": [],
   "source": [
    "\n",
    "import json\n",
    "with open('/home/sajadi/backup/tmp/wsd/detailedreslog.txt') as f:\n",
    "    for line in f:\n",
    "        jsline = line.split('\\t')[1]\n",
    "        js = json.loads(jsline)\n",
    "        if (\"wiki-mentions.5000.json\" in js[\"dsname\"]) and (js[\"ws\"]==10):\n",
    "            if js[\"method\"]=='wlm':\n",
    "                wlm = js[\"tp\"]\n",
    "            if js[\"method\"]=='rvspagerank':\n",
    "                rvs = js[\"tp\"]\n",
    "            if js[\"method\"]=='ams':\n",
    "                ams = js[\"tp\"]                "
   ]
  },
  {
   "cell_type": "code",
   "execution_count": null,
   "metadata": {
    "collapsed": true
   },
   "outputs": [],
   "source": [
    "def get_prec(tp_list):\n",
    "    overall_tp = 0\n",
    "    overall_count=0\n",
    "    macro_prec = 0;\n",
    "    for tp, count in tp_list:\n",
    "        overall_tp += tp\n",
    "        overall_count += count\n",
    "        macro_prec += float(tp)/count\n",
    "        \n",
    "    macro_prec = macro_prec/len(tp_list)\n",
    "    micro_prec = float(overall_tp)/overall_count\n",
    "    \n",
    "    return micro_prec, macro_prec"
   ]
  },
  {
   "cell_type": "code",
   "execution_count": null,
   "metadata": {
    "collapsed": true
   },
   "outputs": [],
   "source": [
    "b=0\n",
    "e=len(wlm)\n",
    "e=5000"
   ]
  },
  {
   "cell_type": "code",
   "execution_count": null,
   "metadata": {
    "collapsed": false
   },
   "outputs": [],
   "source": [
    "print round(get_prec(wlm[b:e]))"
   ]
  },
  {
   "cell_type": "code",
   "execution_count": null,
   "metadata": {
    "collapsed": false
   },
   "outputs": [],
   "source": [
    "print get_prec(ams[b:e])"
   ]
  },
  {
   "cell_type": "code",
   "execution_count": null,
   "metadata": {
    "collapsed": false
   },
   "outputs": [],
   "source": [
    "print get_prec(rvs[b:e])"
   ]
  },
  {
   "cell_type": "code",
   "execution_count": null,
   "metadata": {
    "collapsed": false
   },
   "outputs": [],
   "source": [
    "round(.5)"
   ]
  },
  {
   "cell_type": "markdown",
   "metadata": {},
   "source": [
    "# Some statistics for the paper"
   ]
  },
  {
   "cell_type": "code",
   "execution_count": null,
   "metadata": {
    "collapsed": false
   },
   "outputs": [],
   "source": [
    "l=0\n",
    "i=0\n",
    "with open('/home/sajadi/backup/tmpbackup/log.out.iterations.txt') as f:\n",
    "    for line in f:\n",
    "        r= re.match(\".*# of iterations: ([\\d]+),.*\",line)\n",
    "        if r is None:\n",
    "            continue\n",
    "        i += int(r.group(1))\n",
    "        l +=1\n",
    "print i,l, float(i)/l  \n"
   ]
  },
  {
   "cell_type": "code",
   "execution_count": null,
   "metadata": {
    "collapsed": false
   },
   "outputs": [],
   "source": [
    "(6.5+7.4)/2"
   ]
  },
  {
   "cell_type": "markdown",
   "metadata": {},
   "source": [
    "# Processing results"
   ]
  },
  {
   "cell_type": "code",
   "execution_count": null,
   "metadata": {
    "collapsed": false
   },
   "outputs": [],
   "source": [
    "table_no=4\n",
    "from utils import *"
   ]
  },
  {
   "cell_type": "code",
   "execution_count": null,
   "metadata": {
    "collapsed": false
   },
   "outputs": [],
   "source": [
    "import pandas as pd\n",
    "\n",
    "df = pd.read_csv('/home/sajadi/backup/tmp/results/wsd/reslog.csv', sep='\\t', header=0)\n",
    "df.head()"
   ]
  },
  {
   "cell_type": "code",
   "execution_count": null,
   "metadata": {
    "collapsed": false
   },
   "outputs": [],
   "source": [
    "df1= df.drop('start', axis=1)\n",
    "df1= df1.drop('ws', axis=1)\n",
    "# df.drop(8, axis=1, inplace=True)"
   ]
  },
  {
   "cell_type": "code",
   "execution_count": null,
   "metadata": {
    "collapsed": false
   },
   "outputs": [],
   "source": [
    "df1.head()"
   ]
  },
  {
   "cell_type": "code",
   "execution_count": null,
   "metadata": {
    "collapsed": false
   },
   "outputs": [],
   "source": [
    "df2 = df1.copy()\n",
    "df2.loc[:,'dsname'] = df2.loc[:,'dsname'].replace('/users/grad/sajadi/backup/datasets/ner/kore.json','KORE')\n",
    "df2.loc[:,'dsname'] = df2.loc[:,'dsname'].replace('/users/grad/sajadi/backup/datasets/ner/aida.json','AIDA-CoNLL')\n",
    "df2.loc[:,'dsname'] = df2.loc[:,'dsname'].replace('/users/grad/sajadi/backup/datasets/ner/wiki-mentions.5000.json','Wiki')\n",
    "\n"
   ]
  },
  {
   "cell_type": "code",
   "execution_count": null,
   "metadata": {
    "collapsed": false
   },
   "outputs": [],
   "source": [
    "def methodselect(r):\n",
    "    if table_no==1:\n",
    "        return (r.loc['method'] in ['wlm', 'ams', 'rvspagerank']) and (r.loc['dir']=='both') and \\\n",
    "                (r.loc['op_method'] == 'ilp')\n",
    "    if table_no==2:\n",
    "        return (r.loc['method'] in ['rvspagerank']) and (r.loc['dir']=='both') and \\\n",
    "               (r.loc['op_method'] in ['ilp', 'ilp2'])\n",
    "    if table_no==3:\n",
    "        return (r.loc['method'] == 'rvspagerank' and( r.loc['dir']=='both') and (r.loc['op_method'] in ['ilp','ilp2','context4_4']))\n",
    "    if table_no==4:\n",
    "        return (r.loc['method'] == 'rvspagerank') and (r.loc['dir']=='both') and (r.loc['op_method'] in ['ilp','context4_4']) \n",
    "                #(r.loc['method'] == 'wlm' and r.loc['dir']=='in' and r.loc['op_method'] in  ['tagme', 'tagme2'])\n",
    "    \n",
    "df3 = df2[df2.apply(lambda r: ('wiki-mentions.json' not in r.loc['dsname']) and (r.loc['max_t'] in [5,10,15]), axis=1)]\n",
    "df3 = df3[df3.apply(methodselect, axis=1)]\n",
    "df3"
   ]
  },
  {
   "cell_type": "code",
   "execution_count": null,
   "metadata": {
    "collapsed": false
   },
   "outputs": [],
   "source": [
    "df4=df3.drop('dir', axis=1)\n",
    "if table_no==1:\n",
    "    df4=df4.drop('op_method', axis=1)\n",
    "if table_no==2 or table_no==3:\n",
    "    df4=df4.drop('method', axis=1)\n",
    "if table_no==4:\n",
    "    df4=df4.drop(['method', 'micro', 'macro'], axis=1)\n",
    "    \n",
    "df4.head()"
   ]
  },
  {
   "cell_type": "code",
   "execution_count": null,
   "metadata": {
    "collapsed": false
   },
   "outputs": [],
   "source": [
    "cols = df4.columns.tolist()\n",
    "cols"
   ]
  },
  {
   "cell_type": "code",
   "execution_count": null,
   "metadata": {
    "collapsed": false
   },
   "outputs": [],
   "source": [
    "cols = df4.columns.tolist()\n",
    "cols[0],cols[1] = cols[1],cols[0]\n",
    "df5 = df4[cols]\n",
    "df5.head()"
   ]
  },
  {
   "cell_type": "code",
   "execution_count": null,
   "metadata": {
    "collapsed": false
   },
   "outputs": [],
   "source": [
    "if table_no==4:\n",
    "    df5.loc[:,'time'] = df5.loc[:,'time'].apply(lambda x: str2delta(x).total_seconds())\n",
    "df5    "
   ]
  },
  {
   "cell_type": "code",
   "execution_count": null,
   "metadata": {
    "collapsed": false
   },
   "outputs": [],
   "source": [
    "if table_no==1:\n",
    "    grouped = df5.groupby(['max_t','method'])\n",
    "if table_no in [2,3,4]:\n",
    "    grouped = df5.groupby(['max_t','op_method'])\n",
    "#grouped.get_group((5,'ams'))"
   ]
  },
  {
   "cell_type": "code",
   "execution_count": null,
   "metadata": {
    "collapsed": false
   },
   "outputs": [],
   "source": [
    "for g in grouped.groups:\n",
    "    print grouped.get_group(g)\n",
    "    break"
   ]
  },
  {
   "cell_type": "code",
   "execution_count": null,
   "metadata": {
    "collapsed": false
   },
   "outputs": [],
   "source": [
    "rdf = pd.DataFrame()\n",
    "for g in grouped.groups:\n",
    "    gdf = grouped.get_group(g)\n",
    "    tkore = gdf[gdf['dsname'] == \"KORE\"]\n",
    "    taida = gdf[gdf['dsname'] == \"AIDA-CoNLL\"]\n",
    "    twiki = gdf[gdf['dsname'] == \"Wiki\"]\n",
    "    if table_no==1:\n",
    "        tdf = pd.DataFrame([[gdf['max_t'].iloc[0], gdf['method'].iloc[0]] \n",
    "                        + list(tkore.iloc[0,3:5])+ list(taida.iloc[0,3:5]) + list(twiki.iloc[0,3:5]) ])\n",
    "    if table_no==2 or table_no==3:\n",
    "        tdf = pd.DataFrame([[gdf['max_t'].iloc[0], gdf['op_method'].iloc[0]] \n",
    "                        + list(tkore.iloc[0,3:5])+ list(taida.iloc[0,3:5]) + list(twiki.iloc[0,3:5]) ])\n",
    "    if table_no==4:\n",
    "        tdf = pd.DataFrame([[gdf['max_t'].iloc[0], gdf['op_method'].iloc[0]] \n",
    "                        + list(tkore.iloc[0,3:])+ list(taida.iloc[0,3:]) + list(twiki.iloc[0,3:]) ])\n",
    "    rdf = rdf.append(tdf)"
   ]
  },
  {
   "cell_type": "code",
   "execution_count": null,
   "metadata": {
    "collapsed": false
   },
   "outputs": [],
   "source": [
    "rdf"
   ]
  },
  {
   "cell_type": "code",
   "execution_count": null,
   "metadata": {
    "collapsed": false
   },
   "outputs": [],
   "source": [
    "#miindex = pd.MultiIndex.f(index, names=['cs', 'SR Method'])\n",
    "midf = rdf.copy().sort_values(by=[0,1])\n",
    "midf"
   ]
  },
  {
   "cell_type": "code",
   "execution_count": null,
   "metadata": {
    "collapsed": false
   },
   "outputs": [],
   "source": [
    "midf.index = pd.MultiIndex.from_arrays([midf[0], midf[1]],names=['cs', 'Method'])\n",
    "midf"
   ]
  },
  {
   "cell_type": "code",
   "execution_count": null,
   "metadata": {
    "collapsed": false
   },
   "outputs": [],
   "source": [
    "midf.drop(0, axis=1, inplace=True)\n",
    "midf.drop(1, axis=1, inplace=True)\n",
    "midf"
   ]
  },
  {
   "cell_type": "code",
   "execution_count": null,
   "metadata": {
    "collapsed": false
   },
   "outputs": [],
   "source": [
    "if table_no in [1,2,3]:\n",
    "    cols = [[\"KORE\",\"AIDA-CoNLL\",\"Wiki\"],[\"Micro\",\"Macro\"]]\n",
    "    micolumns = pd.MultiIndex.from_product(cols, names=['Dataset', 'Precision'])\n",
    "if table_no in [4]:\n",
    "    micolumns = [\"KORE\",\"AIDA-CoNLL\",\"Wiki\"]\n",
    "    \n",
    "midf.columns = micolumns\n",
    "midf = midf.round(2)\n",
    "midf"
   ]
  },
  {
   "cell_type": "code",
   "execution_count": null,
   "metadata": {
    "collapsed": false
   },
   "outputs": [],
   "source": [
    "print midf.to_latex()"
   ]
  },
  {
   "cell_type": "code",
   "execution_count": null,
   "metadata": {
    "collapsed": false
   },
   "outputs": [],
   "source": [
    "midf"
   ]
  },
  {
   "cell_type": "code",
   "execution_count": null,
   "metadata": {
    "collapsed": false
   },
   "outputs": [],
   "source": [
    "x=pd.Series()\n",
    "y=pd.Series()\n",
    "l=[]\n",
    "for i in midf.index.levels[0]:\n",
    "        x=x.append(midf.loc[(i,'ilp')])\n",
    "        y=y.append(midf.loc[(i,'context4_4')])\n",
    "        l += [c+'\\n'+str(i) for c in midf.columns]\n",
    "x=x.values\n",
    "y=y.values\n",
    "        "
   ]
  },
  {
   "cell_type": "code",
   "execution_count": null,
   "metadata": {
    "collapsed": false
   },
   "outputs": [],
   "source": [
    "l"
   ]
  },
  {
   "cell_type": "code",
   "execution_count": null,
   "metadata": {
    "collapsed": false
   },
   "outputs": [],
   "source": [
    "import numpy as np\n",
    "import matplotlib.pyplot as plt\n",
    "\n",
    "\n",
    "fig, ax = plt.subplots()\n",
    "\n",
    "index = np.arange(len(x))\n",
    "bar_width = 0.45\n",
    "\n",
    "opacity = 0.4\n",
    "error_config = {'ecolor': '0.3'}\n",
    "\n",
    "rects1 = plt.bar(index, x, bar_width,\n",
    "                 alpha=opacity,\n",
    "                 color='b',\n",
    "                 error_kw=error_config,\n",
    "                 label='Coherence (ILP)')\n",
    "\n",
    "rects2 = plt.bar(index + bar_width, y, bar_width,\n",
    "                 alpha=opacity,\n",
    "                 color='r',\n",
    "                 error_kw=error_config,\n",
    "                 label='Context Based Selective')\n",
    "\n",
    "plt.xlabel('Datasets and Candidate Numbers')\n",
    "plt.ylabel('Time (Seconds)')\n",
    "plt.xticks(index + bar_width, l)\n",
    "plt.legend()\n",
    "\n",
    "plt.tight_layout()\n",
    "plt.savefig('timebar.png')\n",
    "plt.show()\n"
   ]
  },
  {
   "cell_type": "code",
   "execution_count": null,
   "metadata": {
    "collapsed": false
   },
   "outputs": [],
   "source": [
    "performance"
   ]
  },
  {
   "cell_type": "code",
   "execution_count": null,
   "metadata": {
    "collapsed": false
   },
   "outputs": [],
   "source": [
    "import plotly.plotly as py\n",
    "import pandas as pd\n",
    "from plotly.graph_objs import *\n",
    "\n",
    "budget=pd.read_csv(\"mn-budget-detail-2014.csv\")\n",
    "budget.sort('amount',ascending=False,inplace=True)\n",
    "budget = budget[:10]"
   ]
  },
  {
   "cell_type": "markdown",
   "metadata": {
    "collapsed": true
   },
   "source": [
    "# Semantic Resuls\n"
   ]
  },
  {
   "cell_type": "code",
   "execution_count": null,
   "metadata": {
    "collapsed": false
   },
   "outputs": [],
   "source": [
    "import pandas as pd\n",
    "df = pd.read_csv('/home/sajadi/backup/projects/reports/semanticresults/outputs/spearman/spearman2.csv', sep=',', header=0)\n",
    "df.head()"
   ]
  },
  {
   "cell_type": "code",
   "execution_count": null,
   "metadata": {
    "collapsed": false
   },
   "outputs": [],
   "source": [
    "df1= df.drop('wordsim_similarity-edited', axis=1)\n",
    "df1= df1.drop('wordsim_relatedness-edited', axis=1)\n",
    "df1= df1.drop('minimayo.1', axis=1)\n",
    "df1= df1.drop('minimayo.3', axis=1)\n",
    "#df1 = df1.columns.rename({'Unnamed: 0':'method'})\n",
    "df1=df1.rename(columns={'Unnamed: 0':'method'})"
   ]
  },
  {
   "cell_type": "code",
   "execution_count": null,
   "metadata": {
    "collapsed": false
   },
   "outputs": [],
   "source": [
    "def methodselect(r):\n",
    "    return r.loc['method'] in \\\n",
    "        ['in/no/results.txt','in/nged/results.txt', 'in/hits/pagerank/results.cos.txt',  'in/hits/rvspagerank/results.cos.txt',\n",
    "         'out/no/results.txt','out/nged/results.txt', 'out/hits/pagerank/results.cos.txt',  'out/hits/rvspagerank/results.cos.txt',\n",
    "         'all/no/results.txt','all/nged/results.txt', 'all/hits/pagerank/results.cos.txt',  'all/hits/rvspagerank/results.cos.txt',\n",
    "         'hitsboth.avg.rvspagerank.rvspagerank/results.cos.txt',\n",
    "        ]\n",
    "    \n",
    "df2 = df1[df1.apply(methodselect, axis=1)]\n",
    "df2"
   ]
  },
  {
   "cell_type": "code",
   "execution_count": null,
   "metadata": {
    "collapsed": false
   },
   "outputs": [],
   "source": [
    "idx = df2.loc[:,'method']\n",
    "idx=idx.apply(lambda x: x[0:3])\n",
    "df3=df2.copy()\n",
    "df3.insert(0,'dir',idx)\n",
    "df3"
   ]
  },
  {
   "cell_type": "code",
   "execution_count": null,
   "metadata": {
    "collapsed": false
   },
   "outputs": [],
   "source": [
    "df4 = df3.copy().sort_values(by=['dir','method'])\n",
    "df4.index = pd.MultiIndex.from_arrays([df4['dir'], df4['method']],names=['dir', 'Method'])\n",
    "df4=df4.drop('dir', axis=1)\n",
    "df4=df4.drop('method', axis=1)\n",
    "\n",
    "df4"
   ]
  },
  {
   "cell_type": "code",
   "execution_count": 8,
   "metadata": {
    "collapsed": false
   },
   "outputs": [],
   "source": [
    "import sys\n",
    "sys.path.insert(0, '..')\n",
    "import wikisim.wikipedia"
   ]
  },
  {
   "cell_type": "code",
   "execution_count": null,
   "metadata": {
    "collapsed": true
   },
   "outputs": [],
   "source": []
  },
  {
   "cell_type": "code",
   "execution_count": null,
   "metadata": {
    "collapsed": true
   },
   "outputs": [],
   "source": []
  },
  {
   "cell_type": "code",
   "execution_count": null,
   "metadata": {
    "collapsed": true
   },
   "outputs": [],
   "source": []
  }
 ],
 "metadata": {
  "kernelspec": {
   "display_name": "Python 2",
   "language": "python",
   "name": "python2"
  },
  "language_info": {
   "codemirror_mode": {
    "name": "ipython",
    "version": 2
   },
   "file_extension": ".py",
   "mimetype": "text/x-python",
   "name": "python",
   "nbconvert_exporter": "python",
   "pygments_lexer": "ipython2",
   "version": "2.7.11"
  }
 },
 "nbformat": 4,
 "nbformat_minor": 0
}
