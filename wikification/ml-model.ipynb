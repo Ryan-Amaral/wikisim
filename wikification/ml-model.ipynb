{
 "cells": [
  {
   "cell_type": "code",
   "execution_count": 29,
   "metadata": {
    "collapsed": false
   },
   "outputs": [],
   "source": [
    "\"\"\"\n",
    "This cell is to get all the data for the ml model\n",
    "\"\"\"\n",
    "\n",
    "allX = []\n",
    "allY = []\n",
    "\n",
    "trainX = []\n",
    "trainY = []\n",
    "valiX = []\n",
    "valiY = []\n",
    "testX = []\n",
    "testY = []\n",
    "\n",
    "linesToUse = 1000000\n",
    "totalLines = 0\n",
    "# first try with just getting all data\n",
    "with open('/users/cs/amaral/wikisim/wikification/learning-data/el-5000.txt', 'r') as f:\n",
    "    for line in f:\n",
    "        totalLines += 1\n",
    "        if totalLines > linesToUse:\n",
    "            break\n",
    "        data = line.split(',')\n",
    "        allX.append([float(data[2]), float(data[3]), float(data[4]), float(data[5]), float(data[6])])\n",
    "        allY.append(int(data[1]))\n",
    "        \n",
    "# split 60, 20, 20\n",
    "trainLines = int(totalLines * 0.75)\n",
    "valiLines = int(totalLines * 0.0)\n",
    "testLines = int(totalLines * 0.25)\n",
    "\n",
    "for i in range(0, trainLines):\n",
    "    trainX.append(allX[i])\n",
    "    trainY.append(allY[i])\n",
    "\n",
    "for i in range(trainLines, trainLines + valiLines):\n",
    "    valiX.append(allX[i])\n",
    "    valiY.append(allY[i])\n",
    "    \n",
    "for i in range(trainLines + valiLines, trainLines + valiLines + testLines):\n",
    "    testX.append(allX[i])\n",
    "    testY.append(allY[i])"
   ]
  },
  {
   "cell_type": "code",
   "execution_count": 30,
   "metadata": {
    "collapsed": false
   },
   "outputs": [
    {
     "data": {
      "text/plain": [
       "ExtraTreesRegressor(bootstrap=False, criterion='mse', max_depth=None,\n",
       "          max_features='auto', max_leaf_nodes=None,\n",
       "          min_impurity_split=1e-07, min_samples_leaf=1,\n",
       "          min_samples_split=5, min_weight_fraction_leaf=0.0,\n",
       "          n_estimators=200, n_jobs=-1, oob_score=False, random_state=1,\n",
       "          verbose=0, warm_start=False)"
      ]
     },
     "execution_count": 30,
     "metadata": {},
     "output_type": "execute_result"
    }
   ],
   "source": [
    "\"\"\" This and other cells helped by: https://github.com/ogrisel/notebooks/blob/master/Learning%20to%20Rank.ipynb\n",
    "This cell is to train the model.\n",
    "\"\"\"\n",
    "\n",
    "from sklearn.ensemble import ExtraTreesRegressor\n",
    "\n",
    "etr = ExtraTreesRegressor(n_estimators=200, min_samples_split=5, random_state=1, n_jobs=-1)\n",
    "etr.fit(trainX, trainY)"
   ]
  },
  {
   "cell_type": "code",
   "execution_count": 42,
   "metadata": {
    "collapsed": false
   },
   "outputs": [
    {
     "name": "stdout",
     "output_type": "stream",
     "text": [
      "BDB =  0.45 \n",
      "TP: 5613 \n",
      "FP: 574 \n",
      "TN: 49949 \n",
      "FN: 563\n",
      "\n",
      "BDB =  0.0 \n",
      "TP: 6134 \n",
      "FP: 8991 \n",
      "TN: 41532 \n",
      "FN: 42\n",
      "\n",
      "BDB =  0.1 \n",
      "TP: 5993 \n",
      "FP: 1909 \n",
      "TN: 48614 \n",
      "FN: 183\n",
      "\n",
      "BDB =  0.2 \n",
      "TP: 5897 \n",
      "FP: 1204 \n",
      "TN: 49319 \n",
      "FN: 279\n",
      "\n",
      "BDB =  0.3 \n",
      "TP: 5788 \n",
      "FP: 878 \n",
      "TN: 49645 \n",
      "FN: 388\n",
      "\n",
      "BDB =  0.4 \n",
      "TP: 5679 \n",
      "FP: 667 \n",
      "TN: 49856 \n",
      "FN: 497\n",
      "\n",
      "BDB =  0.5 \n",
      "TP: 5533 \n",
      "FP: 496 \n",
      "TN: 50027 \n",
      "FN: 643\n",
      "\n",
      "BDB =  0.6 \n",
      "TP: 5372 \n",
      "FP: 374 \n",
      "TN: 50149 \n",
      "FN: 804\n",
      "\n",
      "BDB =  0.7 \n",
      "TP: 5177 \n",
      "FP: 270 \n",
      "TN: 50253 \n",
      "FN: 999\n",
      "\n",
      "BDB =  0.8 \n",
      "TP: 4894 \n",
      "FP: 174 \n",
      "TN: 50349 \n",
      "FN: 1282\n",
      "\n",
      "BDB =  0.9 \n",
      "TP: 4462 \n",
      "FP: 91 \n",
      "TN: 50432 \n",
      "FN: 1714\n",
      "\n"
     ]
    }
   ],
   "source": [
    "import numpy as np\n",
    "printEval(etr, testX, testY, 0.45)\n",
    "print\n",
    "for i in np.arange(0.0, 1.0, 0.1):\n",
    "    printEval(etr, testX, testY, i)\n",
    "    print"
   ]
  },
  {
   "cell_type": "code",
   "execution_count": 40,
   "metadata": {
    "collapsed": true
   },
   "outputs": [],
   "source": [
    "def printEval(model, X, y, bdb = 0.5):\n",
    "    predY = model.predict(X)\n",
    "    \n",
    "    tp = 0\n",
    "    fp = 0\n",
    "    tn = 0\n",
    "    fn = 0\n",
    "    \n",
    "    for i in range(len(y)):\n",
    "        if predY[i] > bdb and y[i] == 1:\n",
    "            tp += 1\n",
    "        elif predY[i] > bdb and y[i] == 0:\n",
    "            fp += 1\n",
    "        elif predY[i] <= bdb and y[i] == 1:\n",
    "            fn += 1\n",
    "        elif predY[i] <= bdb and y[i] == 0:\n",
    "            tn += 1\n",
    "            \n",
    "    print 'BDB = ', bdb, '\\nTP:', tp, '\\nFP:', fp, '\\nTN:', tn, '\\nFN:', fn"
   ]
  },
  {
   "cell_type": "code",
   "execution_count": null,
   "metadata": {
    "collapsed": true
   },
   "outputs": [],
   "source": []
  }
 ],
 "metadata": {
  "kernelspec": {
   "display_name": "Python 2",
   "language": "python",
   "name": "python2"
  },
  "language_info": {
   "codemirror_mode": {
    "name": "ipython",
    "version": 2
   },
   "file_extension": ".py",
   "mimetype": "text/x-python",
   "name": "python",
   "nbconvert_exporter": "python",
   "pygments_lexer": "ipython2",
   "version": "2.7.13"
  }
 },
 "nbformat": 4,
 "nbformat_minor": 2
}
