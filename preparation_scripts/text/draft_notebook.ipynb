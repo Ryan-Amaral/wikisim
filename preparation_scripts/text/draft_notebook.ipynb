{
 "cells": [
  {
   "cell_type": "code",
   "execution_count": 4,
   "metadata": {},
   "outputs": [
    {
     "name": "stdout",
     "output_type": "stream",
     "text": [
      "Test:     Interpol needs to revamp  strategy   to keep abreast of crime\n",
      "\n",
      "  Interpol   must modernize if it wants to effectively fight increasingly sophisticated  crime syndicates   in the next century, the police organization's president said Thursday. \n",
      "\n",
      " The criminal environment has changed at a \"much greater pace'' than Interpol, Toshinori Kanemoto told the opening session of the 67th general assembly of the International Criminal Police Organization. \n",
      "\n",
      " A failure to modernize Interpol could mean the organization \"risks being displaced against a backdrop of international  organized crime  ,'' he said. \n",
      "\n",
      " Kanemoto said a new Interpol strategy will be discussed at the six-day assembly and, if adopted, would be put into effect next January. \n",
      "\n",
      " The former Japanese police official said the assembly also will discuss  terrorism  , which he called one of the \"new forms of criminality,'' as well as the  illegal drug trade   and  money laundering  . \n",
      "\n",
      " With crime becoming increasingly sophisticated, Kanemoto said, it has become harder for police officials to gather  evidence   for prosecution. He said these new challenges require increased cooperation, particularly through Interpol. \n",
      "\n",
      " The police officials are expected to discuss a  strategic development plan  aimed at making Interpol more proactive by re-examining the needs of the group's 177-member states, Kanemoto said. \n",
      "\n",
      " Details of, graf 8 pvs \n",
      "\n",
      "\n",
      "url:  [{'url': 'Strategy', 'to': 37, 'from': 29, 'anchor': 'strategy'}, {'url': 'Interpol', 'to': 76, 'from': 68, 'anchor': 'Interpol'}, {'url': 'Syndicate', 'to': 171, 'from': 155, 'anchor': 'crime syndicates'}, {'url': 'Money_laundering', 'to': 946, 'from': 930, 'anchor': 'money laundering'}, {'url': 'Evidence', 'to': 1077, 'from': 1069, 'anchor': 'evidence'}, {'url': 'Strategic_planning', 'to': 1265, 'from': 1239, 'anchor': 'strategic development plan'}]\n",
      "done\n"
     ]
    }
   ],
   "source": [
    "from os import listdir\n",
    "\n",
    "from os.path import isfile, join, expanduser\n",
    "import json\n",
    "import sys\n",
    "sys.path.append('../../wikisim/')\n",
    "home = expanduser(\"~\");\n",
    "mypath = join(home, 'backup/datasets/WikificationACL2011Data/AQUAINT/Problems/')\n",
    "#outjsname = join(home,'backup/datasets/ner/aquaint.json')\n",
    "\n",
    "dsnames = [f for f in listdir(mypath) if isfile(join(mypath, f))]"
   ]
  },
  {
   "cell_type": "code",
   "execution_count": 13,
   "metadata": {},
   "outputs": [
    {
     "name": "stdout",
     "output_type": "stream",
     "text": [
      "Test:     Interpol needs to revamp  strategy   to keep abreast of crime\n",
      "\n",
      "  Interpol   must modernize if it wants to effectively fight increasingly sophisticated  crime syndicates   in the next century, the police organization's president said Thursday. \n",
      "\n",
      " The criminal environment has changed at a \"much greater pace'' than Interpol, Toshinori Kanemoto told the opening session of the 67th general assembly of the International Criminal Police Organization. \n",
      "\n",
      " A failure to modernize Interpol could mean the organization \"risks being displaced against a backdrop of international  organized crime  ,'' he said. \n",
      "\n",
      " Kanemoto said a new Interpol strategy will be discussed at the six-day assembly and, if adopted, would be put into effect next January. \n",
      "\n",
      " The former Japanese police official said the assembly also will discuss  terrorism  , which he called one of the \"new forms of criminality,'' as well as the  illegal drug trade   and  money laundering  . \n",
      "\n",
      " With crime becoming increasingly sophisticated, Kanemoto said, it has become harder for police officials to gather  evidence   for prosecution. He said these new challenges require increased cooperation, particularly through Interpol. \n",
      "\n",
      " The police officials are expected to discuss a  strategic development plan  aimed at making Interpol more proactive by re-examining the needs of the group's 177-member states, Kanemoto said. \n",
      "\n",
      " Details of, graf 8 pvs \n",
      "\n",
      "\n",
      "url:  [{'url': 'Strategy', 'to': 37, 'from': 29, 'anchor': 'strategy'}, {'url': 'Interpol', 'to': 76, 'from': 68, 'anchor': 'Interpol'}, {'url': 'Syndicate', 'to': 171, 'from': 155, 'anchor': 'crime syndicates'}, {'url': 'Money_laundering', 'to': 946, 'from': 930, 'anchor': 'money laundering'}, {'url': 'Evidence', 'to': 1077, 'from': 1069, 'anchor': 'evidence'}, {'url': 'Strategic_planning', 'to': 1265, 'from': 1239, 'anchor': 'strategic development plan'}]\n"
     ]
    },
    {
     "data": {
      "text/plain": [
       "(['Interpol',\n",
       "  'needs',\n",
       "  'to',\n",
       "  'revamp',\n",
       "  'strategy',\n",
       "  'to',\n",
       "  'keep',\n",
       "  'abreast',\n",
       "  'of',\n",
       "  'crime',\n",
       "  'Interpol',\n",
       "  'must',\n",
       "  'modernize',\n",
       "  'if',\n",
       "  'it',\n",
       "  'wants',\n",
       "  'to',\n",
       "  'effectively',\n",
       "  'fight',\n",
       "  'increasingly',\n",
       "  'sophisticated',\n",
       "  'crime syndicates',\n",
       "  'in',\n",
       "  'the',\n",
       "  'next',\n",
       "  'century,',\n",
       "  'the',\n",
       "  'police',\n",
       "  \"organization's\",\n",
       "  'president',\n",
       "  'said',\n",
       "  'Thursday.',\n",
       "  'The',\n",
       "  'criminal',\n",
       "  'environment',\n",
       "  'has',\n",
       "  'changed',\n",
       "  'at',\n",
       "  'a',\n",
       "  '\"much',\n",
       "  'greater',\n",
       "  \"pace''\",\n",
       "  'than',\n",
       "  'Interpol,',\n",
       "  'Toshinori',\n",
       "  'Kanemoto',\n",
       "  'told',\n",
       "  'the',\n",
       "  'opening',\n",
       "  'session',\n",
       "  'of',\n",
       "  'the',\n",
       "  '67th',\n",
       "  'general',\n",
       "  'assembly',\n",
       "  'of',\n",
       "  'the',\n",
       "  'International',\n",
       "  'Criminal',\n",
       "  'Police',\n",
       "  'Organization.',\n",
       "  'A',\n",
       "  'failure',\n",
       "  'to',\n",
       "  'modernize',\n",
       "  'Interpol',\n",
       "  'could',\n",
       "  'mean',\n",
       "  'the',\n",
       "  'organization',\n",
       "  '\"risks',\n",
       "  'being',\n",
       "  'displaced',\n",
       "  'against',\n",
       "  'a',\n",
       "  'backdrop',\n",
       "  'of',\n",
       "  'international',\n",
       "  'organized',\n",
       "  'crime',\n",
       "  \",''\",\n",
       "  'he',\n",
       "  'said.',\n",
       "  'Kanemoto',\n",
       "  'said',\n",
       "  'a',\n",
       "  'new',\n",
       "  'Interpol',\n",
       "  'strategy',\n",
       "  'will',\n",
       "  'be',\n",
       "  'discussed',\n",
       "  'at',\n",
       "  'the',\n",
       "  'six-day',\n",
       "  'assembly',\n",
       "  'and,',\n",
       "  'if',\n",
       "  'adopted,',\n",
       "  'would',\n",
       "  'be',\n",
       "  'put',\n",
       "  'into',\n",
       "  'effect',\n",
       "  'next',\n",
       "  'January.',\n",
       "  'The',\n",
       "  'former',\n",
       "  'Japanese',\n",
       "  'police',\n",
       "  'official',\n",
       "  'said',\n",
       "  'the',\n",
       "  'assembly',\n",
       "  'also',\n",
       "  'will',\n",
       "  'discuss',\n",
       "  'terrorism',\n",
       "  ',',\n",
       "  'which',\n",
       "  'he',\n",
       "  'called',\n",
       "  'one',\n",
       "  'of',\n",
       "  'the',\n",
       "  '\"new',\n",
       "  'forms',\n",
       "  'of',\n",
       "  \"criminality,''\",\n",
       "  'as',\n",
       "  'well',\n",
       "  'as',\n",
       "  'the',\n",
       "  'illegal',\n",
       "  'drug',\n",
       "  'trade',\n",
       "  'and',\n",
       "  'money laundering',\n",
       "  '.',\n",
       "  'With',\n",
       "  'crime',\n",
       "  'becoming',\n",
       "  'increasingly',\n",
       "  'sophisticated,',\n",
       "  'Kanemoto',\n",
       "  'said,',\n",
       "  'it',\n",
       "  'has',\n",
       "  'become',\n",
       "  'harder',\n",
       "  'for',\n",
       "  'police',\n",
       "  'officials',\n",
       "  'to',\n",
       "  'gather',\n",
       "  'evidence',\n",
       "  'for',\n",
       "  'prosecution.',\n",
       "  'He',\n",
       "  'said',\n",
       "  'these',\n",
       "  'new',\n",
       "  'challenges',\n",
       "  'require',\n",
       "  'increased',\n",
       "  'cooperation,',\n",
       "  'particularly',\n",
       "  'through',\n",
       "  'Interpol.',\n",
       "  'The',\n",
       "  'police',\n",
       "  'officials',\n",
       "  'are',\n",
       "  'expected',\n",
       "  'to',\n",
       "  'discuss',\n",
       "  'a',\n",
       "  'strategic development plan',\n",
       "  'aimed',\n",
       "  'at',\n",
       "  'making',\n",
       "  'Interpol',\n",
       "  'more',\n",
       "  'proactive',\n",
       "  'by',\n",
       "  're-examining',\n",
       "  'the',\n",
       "  'needs',\n",
       "  'of',\n",
       "  'the',\n",
       "  \"group's\",\n",
       "  '177-member',\n",
       "  'states,',\n",
       "  'Kanemoto',\n",
       "  'said.',\n",
       "  'Details',\n",
       "  'of,',\n",
       "  'graf',\n",
       "  '8',\n",
       "  'pvs'],\n",
       " [[4, 'Strategy'],\n",
       "  [10, 'Interpol'],\n",
       "  [21, 'Syndicate'],\n",
       "  [137, 'Money_laundering'],\n",
       "  [155, 'Evidence'],\n",
       "  [177, 'Strategic_planning']])"
      ]
     },
     "execution_count": 13,
     "metadata": {},
     "output_type": "execute_result"
    }
   ],
   "source": [
    "splittext(text,url)"
   ]
  },
  {
   "cell_type": "code",
   "execution_count": 18,
   "metadata": {},
   "outputs": [
    {
     "name": "stdout",
     "output_type": "stream",
     "text": [
      "Test:     jack   joe   jim  \n",
      "url:  [{'url': 'jack.com', 'to': 8, 'from': 3, 'anchor': 'jack'}, {'url': 'joe.com', 'to': 13, 'from': 10, 'anchor': 'joe'}]\n"
     ]
    },
    {
     "data": {
      "text/plain": [
       "(['jack', 'joe', 'jim'], [[0, 'jack.com'], [1, 'joe.com']])"
      ]
     },
     "execution_count": 18,
     "metadata": {},
     "output_type": "execute_result"
    }
   ],
   "source": [
    "t=\"   jack   joe   jim  \"\n",
    "m=[{'url': 'jack.com', 'to': 8, 'from': 3, 'anchor': 'jack'}, \n",
    "  {'url': 'joe.com', 'to': 13, 'from': 10, 'anchor': 'joe'},\n",
    "  {'url': 'jim.com', 'to': 19, 'from': 16, 'anchor': 'jim'}]\n",
    "splittext(t,m)"
   ]
  },
  {
   "cell_type": "code",
   "execution_count": 2,
   "metadata": {},
   "outputs": [
    {
     "name": "stdout",
     "output_type": "stream",
     "text": [
      "\trest\n"
     ]
    }
   ],
   "source": [
    "print (\"\\trest\")"
   ]
  },
  {
   "cell_type": "code",
   "execution_count": 14,
   "metadata": {},
   "outputs": [
    {
     "name": "stdout",
     "output_type": "stream",
     "text": [
      "unicode string\n"
     ]
    }
   ],
   "source": [
    "s=u'Asociación'\n",
    "if isinstance(s, str):\n",
    "    print \"ordinary string\"\n",
    "elif isinstance(s, unicode):\n",
    "    print \"unicode string\""
   ]
  },
  {
   "cell_type": "code",
   "execution_count": 16,
   "metadata": {},
   "outputs": [
    {
     "name": "stdout",
     "output_type": "stream",
     "text": [
      "ordinary string\n"
     ]
    }
   ],
   "source": [
    "s2=str(s.encode('utf-8'))\n",
    "if isinstance(s2, str):\n",
    "    print \"ordinary string\"\n",
    "elif isinstance(s, unicode):\n",
    "    print \"unicode string\""
   ]
  },
  {
   "cell_type": "code",
   "execution_count": null,
   "metadata": {},
   "outputs": [],
   "source": []
  }
 ],
 "metadata": {
  "kernelspec": {
   "display_name": "Python 2",
   "language": "python",
   "name": "python2"
  },
  "language_info": {
   "codemirror_mode": {
    "name": "ipython",
    "version": 2
   },
   "file_extension": ".py",
   "mimetype": "text/x-python",
   "name": "python",
   "nbconvert_exporter": "python",
   "pygments_lexer": "ipython2",
   "version": "2.7.14"
  }
 },
 "nbformat": 4,
 "nbformat_minor": 1
}
