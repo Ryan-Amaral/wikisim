{
 "cells": [
  {
   "cell_type": "markdown",
   "metadata": {},
   "source": [
    "# Notes\n"
   ]
  },
  {
   "cell_type": "markdown",
   "metadata": {},
   "source": [
    "# April  16\n",
    "1. created a surface-replace by skipping the opening, it's being trained with windows sized 5 and 10\n",
    "a normal surface-replae is being trained with window 5, so now I have windows size 5 and 10 for both, with dimensionaltiy 500\n",
    "\n",
    "2. I modifid the context to contain source id and title, and paragraph no. It's been created, I deleted the index, and restarted, so ready to import\n",
    "\n",
    "## TODO\n",
    "1. run the split:\n",
    "go to    \n",
    "`cat ~/backup/datasets/cmod/contexts.json | split -a 10 -l 500000 - context`   \n",
    "2. bash loadwiki: done\n",
    "3. bash optimize: done\n",
    "4. ** HOW TO modify materialization? **\n",
    "5. Create the mentions for the guy (openning text?)\n",
    "4. Evaluate the graph embedding"
   ]
  },
  {
   "cell_type": "markdown",
   "metadata": {
    "collapsed": false
   },
   "source": [
    "# April 18\n",
    "1. word2vec Embedding are trained, with skip line and everything\n",
    "# TODO\n",
    "materialization kinda done, but not very much tested. you see a file (old.delet), that should be th ground truth\n",
    "so, go ahead and do the following\n",
    "0. There is an issue with the naming the train and test\n",
    "1. try with no skip line and downsample, check the results be the sample as the old one\n",
    "2. if yes, try with skip line, take a look, compare the logs (which tells you how many in train and test)\n",
    "3. if correct, run one with max_anchor 1000, and one with no down sample\n",
    "4. integize all\n",
    "5. zip the cmod dir and save it in a good place\n",
    "6. create the mentions for the guy\n",
    "7. sync with ares\n"
   ]
  },
  {
   "cell_type": "markdown",
   "metadata": {
    "collapsed": false
   },
   "source": [
    "this is a     test"
   ]
  },
  {
   "cell_type": "markdown",
   "metadata": {
    "collapsed": true
   },
   "source": [
    "April 21\n",
    "almost all done\n",
    "The materialization is being done, just integize it and you're good\n"
   ]
  }
 ],
 "metadata": {
  "anaconda-cloud": {},
  "kernelspec": {
   "display_name": "Python [default]",
   "language": "python",
   "name": "python2"
  },
  "language_info": {
   "codemirror_mode": {
    "name": "ipython",
    "version": 2
   },
   "file_extension": ".py",
   "mimetype": "text/x-python",
   "name": "python",
   "nbconvert_exporter": "python",
   "pygments_lexer": "ipython2",
   "version": "2.7.13"
  }
 },
 "nbformat": 4,
 "nbformat_minor": 2
}
